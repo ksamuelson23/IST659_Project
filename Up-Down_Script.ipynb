{
    "metadata": {
        "kernelspec": {
            "name": "SQL",
            "display_name": "SQL",
            "language": "sql"
        },
        "language_info": {
            "name": "sql",
            "version": ""
        }
    },
    "nbformat_minor": 2,
    "nbformat": 4,
    "cells": [
        {
            "cell_type": "code",
            "source": [
                "--Create the project database\r\n",
                "--create database ist659project"
            ],
            "metadata": {
                "azdata_cell_guid": "3f245e0a-4348-4268-9fa1-a2ee40579614",
                "language": "sql"
            },
            "outputs": [
                {
                    "output_type": "display_data",
                    "data": {
                        "text/html": "Commands completed successfully."
                    },
                    "metadata": {}
                },
                {
                    "output_type": "display_data",
                    "data": {
                        "text/html": "Total execution time: 00:00:00.001"
                    },
                    "metadata": {}
                }
            ],
            "execution_count": 72
        },
        {
            "cell_type": "code",
            "source": [
                "use ist659project\r\n",
                "GO"
            ],
            "metadata": {
                "language": "sql",
                "azdata_cell_guid": "d741c9c2-55c0-4432-9977-bcb5c7cbf96d",
                "tags": [
                    "hide_input"
                ]
            },
            "outputs": [
                {
                    "output_type": "display_data",
                    "data": {
                        "text/html": "Commands completed successfully."
                    },
                    "metadata": {}
                },
                {
                    "output_type": "display_data",
                    "data": {
                        "text/html": "Total execution time: 00:00:00.001"
                    },
                    "metadata": {}
                }
            ],
            "execution_count": 73
        },
        {
            "cell_type": "code",
            "source": [
                "--DOWN\r\n",
                "\r\n",
                "--Down constraints\r\n",
                "if exists(select * from INFORMATION_SCHEMA.TABLE_CONSTRAINTS\r\n",
                "    where CONSTRAINT_NAME = 'fk_product_locations_product_id')\r\n",
                "    alter table product_locations drop constraint fk_product_locations_product_id\r\n",
                "if exists(select * from INFORMATION_SCHEMA.TABLE_CONSTRAINTS\r\n",
                "    where CONSTRAINT_NAME = 'fk_product_locations_location_id')\r\n",
                "    alter table product_locations drop constraint fk_product_locations_location_id\r\n",
                "if exists(select * from INFORMATION_SCHEMA.TABLE_CONSTRAINTS\r\n",
                "    where CONSTRAINT_NAME = 'df_products_valid_from')\r\n",
                "    alter table product_locations drop constraint df_products_valid_from\r\n",
                "if exists(select * from INFORMATION_SCHEMA.TABLE_CONSTRAINTS\r\n",
                "    where CONSTRAINT_NAME = 'df_products_valid_to')\r\n",
                "    alter table product_locations drop constraint df_products_valid_to\r\n",
                "if exists (select * from INFORMATION_SCHEMA.COLUMNS\r\n",
                "    where table_name = 'products')\r\n",
                "    alter table products set (system_versioning = off)\r\n",
                "\r\n",
                "\r\n",
                "if exists(select * from INFORMATION_SCHEMA.TABLE_CONSTRAINTS\r\n",
                "    where CONSTRAINT_NAME = 'u_locations_location_name')\r\n",
                "    alter table locations drop constraint u_locations_location_name\r\n",
                "    \r\n",
                "if exists(select * from INFORMATION_SCHEMA.TABLE_CONSTRAINTS\r\n",
                "    where CONSTRAINT_NAME = 'fk_store_order_lines_order_id')\r\n",
                "    alter table store_order_lines drop constraint fk_store_order_lines_order_id\r\n",
                "if exists(select * from INFORMATION_SCHEMA.TABLE_CONSTRAINTS\r\n",
                "    where CONSTRAINT_NAME = 'fk_store_order_lines_product_id')\r\n",
                "    alter table store_order_lines drop constraint fk_store_order_lines_product_id\r\n",
                "if exists(select * from INFORMATION_SCHEMA.TABLE_CONSTRAINTS\r\n",
                "    where CONSTRAINT_NAME = 'fk_store_order_lines_status_id')\r\n",
                "    alter table store_order_lines drop constraint fk_store_order_lines_status_id\r\n",
                "if exists(select * from INFORMATION_SCHEMA.TABLE_CONSTRAINTS\r\n",
                "    where CONSTRAINT_NAME = 'ck_store_order_lines_unit_price')\r\n",
                "    alter table store_order_lines drop constraint ck_store_order_lines_unit_price\r\n",
                "if exists(select * from INFORMATION_SCHEMA.TABLE_CONSTRAINTS\r\n",
                "    where CONSTRAINT_NAME = 'ck_store_order_lines_item_qty')\r\n",
                "    alter table store_order_lines drop constraint ck_store_order_lines_item_qty\r\n",
                "\r\n",
                "if exists(select * from INFORMATION_SCHEMA.TABLE_CONSTRAINTS\r\n",
                "    where CONSTRAINT_NAME = 'fk_customer_order_lines_product_id')\r\n",
                "    alter table customer_order_lines drop constraint fk_customer_order_lines_product_id\r\n",
                "if exists(select * from INFORMATION_SCHEMA.TABLE_CONSTRAINTS\r\n",
                "    where CONSTRAINT_NAME = 'customer_order_line_order_id')\r\n",
                "    alter table customer_order_lines drop constraint fk_store_order_lines_status_id\r\n",
                "if exists(select * from INFORMATION_SCHEMA.TABLE_CONSTRAINTS\r\n",
                "    where CONSTRAINT_NAME = 'ck_customer_order_lines_unit_price')\r\n",
                "    alter table customer_order_lines drop constraint ck_customer_order_lines_unit_price\r\n",
                "if exists(select * from INFORMATION_SCHEMA.TABLE_CONSTRAINTS\r\n",
                "    where CONSTRAINT_NAME = 'ck_customer_order_lines_item_qty')\r\n",
                "    alter table customer_order_lines drop constraint ck_customer_order_lines_item_qty\r\n",
                "\r\n",
                "if exists(select * from INFORMATION_SCHEMA.TABLE_CONSTRAINTS\r\n",
                "    where CONSTRAINT_NAME = 'u_order_statuses_status_name')\r\n",
                "    alter table order_statuses drop constraint u_order_statuses_status_name\r\n",
                "\r\n",
                "if exists(select * from INFORMATION_SCHEMA.TABLE_CONSTRAINTS\r\n",
                "    where CONSTRAINT_NAME = 'fk_products_category_id')\r\n",
                "    alter table products drop constraint fk_products_category_id\r\n",
                "if exists(select * from INFORMATION_SCHEMA.TABLE_CONSTRAINTS\r\n",
                "    where CONSTRAINT_NAME = 'fk_products_supplier_id')\r\n",
                "    alter table products drop constraint fk_products_supplier_id\r\n",
                "if exists(select * from INFORMATION_SCHEMA.TABLE_CONSTRAINTS\r\n",
                "    where CONSTRAINT_NAME = 'u_products_product_barcode')\r\n",
                "    alter table products drop constraint u_products_product_barcode\r\n",
                "if exists(select * from INFORMATION_SCHEMA.TABLE_CONSTRAINTS\r\n",
                "    where CONSTRAINT_NAME = 'u_products_product_name')\r\n",
                "    alter table products drop constraint u_products_product_name\r\n",
                "if exists(select * from INFORMATION_SCHEMA.TABLE_CONSTRAINTS\r\n",
                "    where CONSTRAINT_NAME = 'ck_products_product_inv_stock')\r\n",
                "    alter table products drop constraint ck_products_product_inv_stock\r\n",
                "if exists(select * from INFORMATION_SCHEMA.TABLE_CONSTRAINTS\r\n",
                "    where CONSTRAINT_NAME = 'ck_products_product_min_qty')\r\n",
                "    alter table products drop constraint ck_products_product_min_qty\r\n",
                "if exists(select * from INFORMATION_SCHEMA.TABLE_CONSTRAINTS\r\n",
                "    where CONSTRAINT_NAME = 'ck_products_product_purchase_qty')\r\n",
                "    alter table products drop constraint ck_products_product_purchase_qty\r\n",
                "\r\n",
                "if exists(select * from INFORMATION_SCHEMA.TABLE_CONSTRAINTS\r\n",
                "    where CONSTRAINT_NAME = 'u_suppliers_supplier_name')\r\n",
                "    alter table suppliers drop constraint u_suppliers_supplier_name\r\n",
                "if exists(select * from INFORMATION_SCHEMA.TABLE_CONSTRAINTS\r\n",
                "    where CONSTRAINT_NAME = 'u_suppliers_supplier_address')\r\n",
                "    alter table suppliers drop constraint u_suppliers_supplier_address\r\n",
                "if exists(select * from INFORMATION_SCHEMA.TABLE_CONSTRAINTS\r\n",
                "    where CONSTRAINT_NAME = 'u_suppliers_supplier_email')\r\n",
                "    alter table suppliers drop constraint u_suppliers_supplier_email\r\n",
                "if exists(select * from INFORMATION_SCHEMA.TABLE_CONSTRAINTS\r\n",
                "    where CONSTRAINT_NAME = 'ck_suppliers_supplier_lead_time')\r\n",
                "    alter table suppliers drop constraint ck_suppliers_supplier_lead_time\r\n",
                "\r\n",
                "--Down tables\r\n",
                "drop table if exists product_locations\r\n",
                "drop table if exists locations\r\n",
                "drop table if exists store_order_lines\r\n",
                "drop table if exists store_orders\r\n",
                "drop table if exists order_statuses\r\n",
                "drop table if exists customer_order_lines\r\n",
                "drop table if exists customer_orders\r\n",
                "drop table if exists categories\r\n",
                "drop table if exists products_history\r\n",
                "drop table if exists products\r\n",
                "drop table if exists suppliers"
            ],
            "metadata": {
                "azdata_cell_guid": "470b355c-2114-4219-b5e4-dfa9856564c3",
                "language": "sql",
                "tags": []
            },
            "outputs": [
                {
                    "output_type": "display_data",
                    "data": {
                        "text/html": "Commands completed successfully."
                    },
                    "metadata": {}
                },
                {
                    "output_type": "display_data",
                    "data": {
                        "text/html": "Total execution time: 00:00:00.141"
                    },
                    "metadata": {}
                }
            ],
            "execution_count": 74
        },
        {
            "cell_type": "code",
            "source": [
                "--SUPPLIERS UP\r\n",
                "create table suppliers (\r\n",
                "\tsupplier_id int identity not null,\r\n",
                "\tsupplier_name VARCHAR(50) not null,\r\n",
                "\tsupplier_address VARCHAR(50)not null,\r\n",
                "\tsupplier_email VARCHAR(50) not null,\r\n",
                "\tsupplier_lead_time INT not null, -- in days \r\n",
                "\tconstraint pk_suppliers_supplier_id primary key (supplier_id),\r\n",
                "\tconstraint u_suppliers_supplier_name unique (supplier_name),\r\n",
                "\tconstraint u_suppliers_supplier_address unique (supplier_address),\r\n",
                "\tconstraint u_suppliers_supplier_email unique (supplier_email),\r\n",
                "\tconstraint ck_suppliers_supplier_lead_time check (supplier_lead_time > 0)\r\n",
                ");"
            ],
            "metadata": {
                "language": "sql",
                "azdata_cell_guid": "4c06e678-0041-4af2-82cb-c4140111692a",
                "tags": [
                    "hide_input"
                ]
            },
            "outputs": [
                {
                    "output_type": "display_data",
                    "data": {
                        "text/html": "Commands completed successfully."
                    },
                    "metadata": {}
                },
                {
                    "output_type": "display_data",
                    "data": {
                        "text/html": "Total execution time: 00:00:00.014"
                    },
                    "metadata": {}
                }
            ],
            "execution_count": 75
        },
        {
            "cell_type": "code",
            "source": [
                "--CATEGORIES UP\r\n",
                "create table categories (\r\n",
                "\tcategory_id int identity not null,\r\n",
                "\tcategory_name VARCHAR(20) not null,\r\n",
                "\tconstraint pk_categories_category_id primary key (category_id)\r\n",
                ");"
            ],
            "metadata": {
                "language": "sql",
                "azdata_cell_guid": "00b73aaf-75ac-45bc-91c1-b16f47ed1237",
                "tags": [
                    "hide_input"
                ]
            },
            "outputs": [
                {
                    "output_type": "display_data",
                    "data": {
                        "text/html": "Commands completed successfully."
                    },
                    "metadata": {}
                },
                {
                    "output_type": "display_data",
                    "data": {
                        "text/html": "Total execution time: 00:00:00.008"
                    },
                    "metadata": {}
                }
            ],
            "execution_count": 76
        },
        {
            "cell_type": "code",
            "source": [
                "--PRODUCTS UP\r\n",
                "create table products (\r\n",
                "\tproduct_id int identity not null,\r\n",
                "\tproduct_barcode VARCHAR(12) not null,\r\n",
                "\tproduct_name VARCHAR(10) not null,\r\n",
                "\tproduct_description VARCHAR(100),\r\n",
                "\tproduct_inv_stock int not null,\r\n",
                "\tproduct_inv_in_transit int not null,\r\n",
                "\tproduct_inv_total int not null,\r\n",
                "\tproduct_min_qty int not null,\r\n",
                "\tproduct_purchase_qty int not null,\r\n",
                "\tproduct_category_id int not null,\r\n",
                "\tproduct_supplier_id int not null,\r\n",
                "\tconstraint pk_products_product_id primary key (product_id),\r\n",
                "\tconstraint fk_products_category_id foreign key (product_category_id) references categories,\r\n",
                "\tconstraint fk_products_supplier_id foreign key (product_supplier_id) references suppliers,\r\n",
                "\tconstraint u_products_product_barcode unique (product_barcode),\r\n",
                "\tconstraint u_products_product_name unique (product_name),\r\n",
                "\tconstraint ck_products_product_inv_stock check (product_inv_stock > 0),\r\n",
                "\tconstraint ck_products_product_min_qty check (product_min_qty > 0),\r\n",
                "\tconstraint ck_products_product_purchase_qty check (product_purchase_qty > 0)\r\n",
                ");  \r\n",
                "\r\n",
                "-- Make Temporal\r\n",
                "alter table products add \r\n",
                "\tvalid_from datetime2 (2) generated always as row start \r\n",
                "\t\tconstraint df_products_valid_from default dateadd(second, -1, sysutcdatetime()),\r\n",
                "\tvalid_to datetime2 (2) generated always as row end \r\n",
                "\t\tconstraint df_products_valid_to default '9999.12.31 23:59:59.99',\r\n",
                "\tperiod for system_time (valid_from, valid_to)\r\n",
                "go\r\n",
                "\r\n",
                "alter table products set (system_versioning = on (history_table = dbo.products_history));\r\n",
                "go"
            ],
            "metadata": {
                "language": "sql",
                "azdata_cell_guid": "fbd70b80-db27-46f6-8fa0-363e7bf2433a",
                "tags": []
            },
            "outputs": [
                {
                    "output_type": "display_data",
                    "data": {
                        "text/html": "Commands completed successfully."
                    },
                    "metadata": {}
                },
                {
                    "output_type": "display_data",
                    "data": {
                        "text/html": "Commands completed successfully."
                    },
                    "metadata": {}
                },
                {
                    "output_type": "display_data",
                    "data": {
                        "text/html": "Total execution time: 00:00:00.020"
                    },
                    "metadata": {}
                }
            ],
            "execution_count": 77
        },
        {
            "cell_type": "code",
            "source": [
                "--ORDER_STATUSES UP + DATA\r\n",
                "create table order_statuses (\r\n",
                "\tstatus_id int identity not null,\r\n",
                "\tstatus_name VARCHAR(10) not null,\r\n",
                "    constraint order_statuses_status_id primary key (status_id),\r\n",
                "    constraint u_order_statuses_status_name unique (status_name)\r\n",
                ");"
            ],
            "metadata": {
                "language": "sql",
                "azdata_cell_guid": "bdbba03b-3060-473b-ab2e-fba660d57a15",
                "tags": [
                    "hide_input"
                ]
            },
            "outputs": [
                {
                    "output_type": "display_data",
                    "data": {
                        "text/html": "Commands completed successfully."
                    },
                    "metadata": {}
                },
                {
                    "output_type": "display_data",
                    "data": {
                        "text/html": "Total execution time: 00:00:00.007"
                    },
                    "metadata": {}
                }
            ],
            "execution_count": 78
        },
        {
            "cell_type": "code",
            "source": [
                "--CUSTOMER_ORDERS UP\r\n",
                "create table customer_orders (\r\n",
                "\tcustomer_order_id int identity not null,\r\n",
                "\tcustomer_order_date datetime not null,\r\n",
                "\tcustomer_order_subtotal decimal(6,2) not null,\r\n",
                "\tcustomer_order_tax decimal(6,2) not null,\r\n",
                "\tcustomer_order_total decimal(6,2) not null,\r\n",
                "\tconstraint pk_customer_orders_order_id primary key (customer_order_id)\r\n",
                ");"
            ],
            "metadata": {
                "language": "sql",
                "azdata_cell_guid": "e30ad686-3bc7-4096-a4ff-93436fb57798",
                "tags": [
                    "hide_input"
                ]
            },
            "outputs": [
                {
                    "output_type": "display_data",
                    "data": {
                        "text/html": "Commands completed successfully."
                    },
                    "metadata": {}
                },
                {
                    "output_type": "display_data",
                    "data": {
                        "text/html": "Total execution time: 00:00:00.006"
                    },
                    "metadata": {}
                }
            ],
            "execution_count": 79
        },
        {
            "cell_type": "code",
            "source": [
                "--CUSTOMER_ORDER_LINES UP\r\n",
                "create table customer_order_lines (\r\n",
                "\tcustomer_order_line_id int identity not null,\r\n",
                "\tcustomer_order_line_product_id int not null,\r\n",
                "\tcustomer_order_line_unit_price decimal(6,2) not null,\r\n",
                "\tcustomer_order_line_item_qty decimal(6,2) not null,\r\n",
                "\tcustomer_order_line_total decimal(6,2) not null,\r\n",
                "\tcustomer_order_line_order_id int not null,\r\n",
                "\tconstraint pk_customer_order_lines_customer_order_line_id primary key (customer_order_line_id),\r\n",
                "\tconstraint fk_customer_order_lines_product_id foreign key (customer_order_line_product_id) references products,\r\n",
                "\tconstraint fk_customer_order_lines_order_id foreign key (customer_order_line_order_id) references customer_orders,\r\n",
                "\tconstraint ck_customer_order_lines_unit_price check (customer_order_line_unit_price > 0),\r\n",
                "\tconstraint ck_customer_order_lines_item_qty check (customer_order_line_item_qty > 0)\r\n",
                ");"
            ],
            "metadata": {
                "language": "sql",
                "azdata_cell_guid": "d923c19e-e08e-429b-b4f1-1f29e1165647",
                "tags": [
                    "hide_input"
                ]
            },
            "outputs": [
                {
                    "output_type": "display_data",
                    "data": {
                        "text/html": "Commands completed successfully."
                    },
                    "metadata": {}
                },
                {
                    "output_type": "display_data",
                    "data": {
                        "text/html": "Total execution time: 00:00:00.007"
                    },
                    "metadata": {}
                }
            ],
            "execution_count": 80
        },
        {
            "cell_type": "code",
            "source": [
                "--STORE_ORDERS UP\r\n",
                "create table store_orders (\r\n",
                "\tstore_order_id int identity not null,\r\n",
                "\tstore_order_date datetime not null,\r\n",
                "\tstore_order_subtotal decimal (6,2) not null,\r\n",
                "\tstore_order_tax decimal (6,2) not null,\r\n",
                "\tstore_order_total decimal (6,2) not null,\r\n",
                "\tconstraint pk_store_orders_store_order_id primary key (store_order_id)\r\n",
                ");"
            ],
            "metadata": {
                "language": "sql",
                "azdata_cell_guid": "e8b14ee5-f726-480f-a152-8e34b5105a27",
                "tags": [
                    "hide_input"
                ]
            },
            "outputs": [
                {
                    "output_type": "display_data",
                    "data": {
                        "text/html": "Commands completed successfully."
                    },
                    "metadata": {}
                },
                {
                    "output_type": "display_data",
                    "data": {
                        "text/html": "Total execution time: 00:00:00.006"
                    },
                    "metadata": {}
                }
            ],
            "execution_count": 81
        },
        {
            "cell_type": "code",
            "source": [
                "--STORE_ORDER_LINES UP\r\n",
                "create table store_order_lines (\r\n",
                "\tstore_order_line_id int identity not null,\r\n",
                "\tstore_order_line_order_id int not null,\r\n",
                "\tstore_order_line_product_id int not null,\r\n",
                "\tstore_order_line_unit_price decimal(6,2) not null,\r\n",
                "\tstore_order_line_item_qty decimal(6,2) not null,\r\n",
                "\tstore_order_line_total decimal(6,2) not null,\r\n",
                "\tstore_order_line_status int not null,\r\n",
                "\tstore_order_line_arrival_date datetime not null,\r\n",
                "\tconstraint pk_store_order_lines_store_order_line_id primary key (store_order_line_id),\r\n",
                "\tconstraint fk_store_order_lines_order_id foreign key (store_order_line_order_id) references store_orders,\r\n",
                "\tconstraint fk_store_order_lines_product_id foreign key (store_order_line_product_id) references products,\r\n",
                "\tconstraint fk_store_order_lines_status_id foreign key (store_order_line_status) references order_statuses,\r\n",
                "\tconstraint ck_store_order_lines_unit_price check (store_order_line_unit_price > 0),\r\n",
                "\tconstraint ck_store_order_lines_item_qty check (store_order_line_item_qty > 0)\r\n",
                ");"
            ],
            "metadata": {
                "language": "sql",
                "azdata_cell_guid": "5e61ddbb-ead9-40bc-920c-287566697b97",
                "tags": [
                    "hide_input"
                ]
            },
            "outputs": [
                {
                    "output_type": "display_data",
                    "data": {
                        "text/html": "Commands completed successfully."
                    },
                    "metadata": {}
                },
                {
                    "output_type": "display_data",
                    "data": {
                        "text/html": "Total execution time: 00:00:00.008"
                    },
                    "metadata": {}
                }
            ],
            "execution_count": 82
        },
        {
            "cell_type": "code",
            "source": [
                "--LOCATIONS UP\r\n",
                "create table locations (\r\n",
                "    location_id int identity not null,\r\n",
                "    location_name varchar(2) not null,\r\n",
                "    constraint pk_locations_location_id primary key (location_id),\r\n",
                "    constraint u_locations_location_name unique (location_name)\r\n",
                ");"
            ],
            "metadata": {
                "language": "sql",
                "azdata_cell_guid": "e7356a37-38fb-43c5-bc9a-af4390faad68",
                "tags": [
                    "hide_input"
                ]
            },
            "outputs": [
                {
                    "output_type": "display_data",
                    "data": {
                        "text/html": "Commands completed successfully."
                    },
                    "metadata": {}
                },
                {
                    "output_type": "display_data",
                    "data": {
                        "text/html": "Total execution time: 00:00:00.007"
                    },
                    "metadata": {}
                }
            ],
            "execution_count": 83
        },
        {
            "cell_type": "code",
            "source": [
                "--PRODUCT_LOCATIONS UP\r\n",
                "create table product_locations (\r\n",
                "    product_id int not null,\r\n",
                "    location_id int not null,\r\n",
                ");"
            ],
            "metadata": {
                "language": "sql",
                "azdata_cell_guid": "36fd272d-638a-46b7-b71f-bac9f3451b76",
                "tags": [
                    "hide_input"
                ]
            },
            "outputs": [
                {
                    "output_type": "display_data",
                    "data": {
                        "text/html": "Commands completed successfully."
                    },
                    "metadata": {}
                },
                {
                    "output_type": "display_data",
                    "data": {
                        "text/html": "Total execution time: 00:00:00.006"
                    },
                    "metadata": {}
                }
            ],
            "execution_count": 84
        }
    ]
}