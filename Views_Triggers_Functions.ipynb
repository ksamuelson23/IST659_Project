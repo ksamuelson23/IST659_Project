{
    "metadata": {
        "kernelspec": {
            "name": "SQL",
            "display_name": "SQL",
            "language": "sql"
        },
        "language_info": {
            "name": "sql",
            "version": ""
        }
    },
    "nbformat_minor": 2,
    "nbformat": 4,
    "cells": [
        {
            "cell_type": "code",
            "source": [
                "use ist659project\r\n",
                "go"
            ],
            "metadata": {
                "azdata_cell_guid": "d82894e8-f019-475d-a8f8-2a4c722d9b18",
                "language": "sql"
            },
            "outputs": [
                {
                    "output_type": "display_data",
                    "data": {
                        "text/html": "Commands completed successfully."
                    },
                    "metadata": {}
                },
                {
                    "output_type": "display_data",
                    "data": {
                        "text/html": "Total execution time: 00:00:00"
                    },
                    "metadata": {}
                }
            ],
            "execution_count": 1
        },
        {
            "cell_type": "code",
            "source": [
                "--DOWN\r\n",
                "\r\n",
                "--Drop views\r\n",
                "drop view if exists v_products_info"
            ],
            "metadata": {
                "language": "sql",
                "azdata_cell_guid": "aa0222f3-6db7-43a4-aefc-0ad405edaa3b"
            },
            "outputs": [
                {
                    "output_type": "display_data",
                    "data": {
                        "text/html": "Commands completed successfully."
                    },
                    "metadata": {}
                },
                {
                    "output_type": "display_data",
                    "data": {
                        "text/html": "Total execution time: 00:00:00.001"
                    },
                    "metadata": {}
                }
            ],
            "execution_count": 2
        },
        {
            "cell_type": "code",
            "source": [
                "--Up Product Information View\r\n",
                "create view v_product_info \r\n",
                "    as \r\n",
                "        select \r\n",
                "            p.product_name, \r\n",
                "            p.product_id, \r\n",
                "            p.product_barcode, \r\n",
                "            p.product_description, \r\n",
                "            p.product_selling_price,\r\n",
                "            product_inv_stock,\r\n",
                "            p.product_inv_in_transit,\r\n",
                "            p.product_inv_total,\r\n",
                "            p.product_purchase_qty,\r\n",
                "            p.product_min_qty,\r\n",
                "            c.category_name, \r\n",
                "            l.location_name,\r\n",
                "            s.supplier_name\r\n",
                "        from products p \r\n",
                "            join categories c on p.product_category_id = c.category_id\r\n",
                "            join locations l on p.product_location_id = l.location_id\r\n",
                "            join suppliers s on p.product_supplier_id = s.supplier_id\r\n",
                ""
            ],
            "metadata": {
                "language": "sql",
                "azdata_cell_guid": "59c69247-a529-423b-8ecf-83ccc3614533"
            },
            "outputs": [
                {
                    "output_type": "display_data",
                    "data": {
                        "text/html": "Commands completed successfully."
                    },
                    "metadata": {}
                },
                {
                    "output_type": "display_data",
                    "data": {
                        "text/html": "Total execution time: 00:00:00.008"
                    },
                    "metadata": {}
                }
            ],
            "execution_count": 5
        },
        {
            "cell_type": "code",
            "source": [
                "select * from v_product_info"
            ],
            "metadata": {
                "language": "sql",
                "azdata_cell_guid": "ed1d3afb-3e04-4030-ad28-7f23cd9e95e3"
            },
            "outputs": [],
            "execution_count": null
        }
    ]
}