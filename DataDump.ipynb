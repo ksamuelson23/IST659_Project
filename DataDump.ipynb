{
    "metadata": {
        "kernelspec": {
            "name": "SQL",
            "display_name": "SQL",
            "language": "sql"
        },
        "language_info": {
            "name": "sql",
            "version": ""
        }
    },
    "nbformat_minor": 2,
    "nbformat": 4,
    "cells": [
        {
            "cell_type": "code",
            "source": [
                "use ist659project\r\n",
                "GO"
            ],
            "metadata": {
                "azdata_cell_guid": "5c2a40da-83c7-418e-abb4-5babfa228ff7",
                "language": "sql"
            },
            "outputs": [
                {
                    "output_type": "display_data",
                    "data": {
                        "text/html": "Commands completed successfully."
                    },
                    "metadata": {}
                },
                {
                    "output_type": "display_data",
                    "data": {
                        "text/html": "Total execution time: 00:00:00.001"
                    },
                    "metadata": {}
                }
            ],
            "execution_count": 12
        },
        {
            "cell_type": "code",
            "source": [
                "--Data into suppliers\r\n",
                "insert into suppliers (supplier_name, supplier_address, supplier_email, supplier_lead_time) values ('Wisozk-Wehner', '996 Rigney Alley', 'lsloan0@zdnet.com', 11);\r\n",
                "insert into suppliers (supplier_name, supplier_address, supplier_email, supplier_lead_time) values ('Ledner, Olson and Olson', '2879 Rusk Pass', 'ctanti1@mapquest.com', 6);\r\n",
                "insert into suppliers (supplier_name, supplier_address, supplier_email, supplier_lead_time) values ('Monahan and Sons', '9116 Fordem Parkway', 'ahenniger2@shinystat.com', 11);\r\n",
                "insert into suppliers (supplier_name, supplier_address, supplier_email, supplier_lead_time) values ('Ankunding Inc', '677 Elka Crossing', 'esiret3@elpais.com', 13);\r\n",
                "insert into suppliers (supplier_name, supplier_address, supplier_email, supplier_lead_time) values ('Raynor and Sons', '18 Hauk Lane', 'snuttey4@nih.gov', 7);\r\n",
                "insert into suppliers (supplier_name, supplier_address, supplier_email, supplier_lead_time) values ('Ernser Group', '3691 Valley Edge Pass', 'gdrury5@google.pl', 10);\r\n",
                "insert into suppliers (supplier_name, supplier_address, supplier_email, supplier_lead_time) values ('Kuvalis-Buckridge', '12822 Lakeland Lane', 'ohexum6@icio.us', 10);\r\n",
                "insert into suppliers (supplier_name, supplier_address, supplier_email, supplier_lead_time) values ('Waelchi-Harber', '2417 Meadow Ridge Drive', 'hghidotti7@sogou.com', 11);\r\n",
                "insert into suppliers (supplier_name, supplier_address, supplier_email, supplier_lead_time) values ('Luettgen Group', '674 Riverside Pass', 'djaffa8@toplist.cz', 2);\r\n",
                "insert into suppliers (supplier_name, supplier_address, supplier_email, supplier_lead_time) values ('Block-Larson', '33 Meadow Valley Hill', 'hmatthewman9@archive.org', 6);\r\n",
                "insert into suppliers (supplier_name, supplier_address, supplier_email, supplier_lead_time) values ('Nienow Inc', '2 Waywood Hill', 'warnauta@paginegialle.it', 4);\r\n",
                "insert into suppliers (supplier_name, supplier_address, supplier_email, supplier_lead_time) values ('Treutel-Medhurst', '39477 Blue Bill Park Circle', 'brichemontb@oaic.gov.au', 2);\r\n",
                "insert into suppliers (supplier_name, supplier_address, supplier_email, supplier_lead_time) values ('Buckridge LLC', '175 Melrose Lane', 'rbohlerc@vk.com', 9);\r\n",
                "insert into suppliers (supplier_name, supplier_address, supplier_email, supplier_lead_time) values ('Wintheiser and Sons', '8217 Golf View Lane', 'ghancilld@ycombinator.com', 3);\r\n",
                "insert into suppliers (supplier_name, supplier_address, supplier_email, supplier_lead_time) values ('Lehner Group', '5559 Hauk Parkway', 'ahucklee@facebook.com', 14);"
            ],
            "metadata": {
                "language": "sql",
                "azdata_cell_guid": "08949f48-e6ca-4ea1-8158-0101bb64169e",
                "tags": [
                    "hide_input"
                ]
            },
            "outputs": [
                {
                    "output_type": "display_data",
                    "data": {
                        "text/html": "(1 row affected)"
                    },
                    "metadata": {}
                },
                {
                    "output_type": "display_data",
                    "data": {
                        "text/html": "(1 row affected)"
                    },
                    "metadata": {}
                },
                {
                    "output_type": "display_data",
                    "data": {
                        "text/html": "(1 row affected)"
                    },
                    "metadata": {}
                },
                {
                    "output_type": "display_data",
                    "data": {
                        "text/html": "(1 row affected)"
                    },
                    "metadata": {}
                },
                {
                    "output_type": "display_data",
                    "data": {
                        "text/html": "(1 row affected)"
                    },
                    "metadata": {}
                },
                {
                    "output_type": "display_data",
                    "data": {
                        "text/html": "(1 row affected)"
                    },
                    "metadata": {}
                },
                {
                    "output_type": "display_data",
                    "data": {
                        "text/html": "(1 row affected)"
                    },
                    "metadata": {}
                },
                {
                    "output_type": "display_data",
                    "data": {
                        "text/html": "(1 row affected)"
                    },
                    "metadata": {}
                },
                {
                    "output_type": "display_data",
                    "data": {
                        "text/html": "(1 row affected)"
                    },
                    "metadata": {}
                },
                {
                    "output_type": "display_data",
                    "data": {
                        "text/html": "(1 row affected)"
                    },
                    "metadata": {}
                },
                {
                    "output_type": "display_data",
                    "data": {
                        "text/html": "(1 row affected)"
                    },
                    "metadata": {}
                },
                {
                    "output_type": "display_data",
                    "data": {
                        "text/html": "(1 row affected)"
                    },
                    "metadata": {}
                },
                {
                    "output_type": "display_data",
                    "data": {
                        "text/html": "(1 row affected)"
                    },
                    "metadata": {}
                },
                {
                    "output_type": "display_data",
                    "data": {
                        "text/html": "(1 row affected)"
                    },
                    "metadata": {}
                },
                {
                    "output_type": "display_data",
                    "data": {
                        "text/html": "(1 row affected)"
                    },
                    "metadata": {}
                },
                {
                    "output_type": "display_data",
                    "data": {
                        "text/html": "Total execution time: 00:00:00.053"
                    },
                    "metadata": {}
                }
            ],
            "execution_count": 13
        },
        {
            "cell_type": "code",
            "source": [
                "--Data into categories\r\n",
                "insert into categories (category_name) values ('Animal Product');\r\n",
                "insert into categories (category_name) values ('Fruit');\r\n",
                "insert into categories (category_name) values ('Meat');\r\n",
                "insert into categories (category_name) values ('Vegetable');"
            ],
            "metadata": {
                "language": "sql",
                "azdata_cell_guid": "0546ce4d-3483-43f2-b503-d0e1f10dc9b2",
                "tags": [
                    "hide_input"
                ]
            },
            "outputs": [
                {
                    "output_type": "display_data",
                    "data": {
                        "text/html": "(1 row affected)"
                    },
                    "metadata": {}
                },
                {
                    "output_type": "display_data",
                    "data": {
                        "text/html": "(1 row affected)"
                    },
                    "metadata": {}
                },
                {
                    "output_type": "display_data",
                    "data": {
                        "text/html": "(1 row affected)"
                    },
                    "metadata": {}
                },
                {
                    "output_type": "display_data",
                    "data": {
                        "text/html": "(1 row affected)"
                    },
                    "metadata": {}
                },
                {
                    "output_type": "display_data",
                    "data": {
                        "text/html": "Total execution time: 00:00:00.016"
                    },
                    "metadata": {}
                }
            ],
            "execution_count": 14
        },
        {
            "cell_type": "code",
            "source": [
                "--Data into products\r\n",
                "insert into products (product_barcode, product_name, product_description, product_inv_stock, product_inv_in_transit, product_inv_total, product_min_qty, product_purchase_qty, product_category_id, product_supplier_id) values (805896667714, 'Cheese', 'Organic cheese made from grass-fed cow milk', 50, 0, 50, 10, 20, 1, 1);\r\n",
                "insert into products (product_barcode, product_name, product_description, product_inv_stock, product_inv_in_transit, product_inv_total, product_min_qty, product_purchase_qty, product_category_id, product_supplier_id) values (212537433256, 'Egg', 'Fresh grass-fed chicken eggs', 50, 0, 50, 10, 20, 1, 1);\r\n",
                "insert into products (product_barcode, product_name, product_description, product_inv_stock, product_inv_in_transit, product_inv_total, product_min_qty, product_purchase_qty, product_category_id, product_supplier_id) values (389805537188, 'Milk', 'Raw milk from grass-fed cows', 50, 0, 50, 10, 20, 1, 2);\r\n",
                "insert into products (product_barcode, product_name, product_description, product_inv_stock, product_inv_in_transit, product_inv_total, product_min_qty, product_purchase_qty, product_category_id, product_supplier_id) values (746231132065, 'Apple', 'Fresh red apples from local orchard', 50, 0, 50, 10, 20, 2, 2);\r\n",
                "insert into products (product_barcode, product_name, product_description, product_inv_stock, product_inv_in_transit, product_inv_total, product_min_qty, product_purchase_qty, product_category_id, product_supplier_id) values (896582704604, 'Banana', 'Imported bananas from Panama', 50, 0, 50, 10, 20, 2, 3);\r\n",
                "insert into products (product_barcode, product_name, product_description, product_inv_stock, product_inv_in_transit, product_inv_total, product_min_qty, product_purchase_qty, product_category_id, product_supplier_id) values (990606887617, 'Cherry', 'Fresh picked red cherries', 50, 0, 50, 10, 20, 2, 3);\r\n",
                "insert into products (product_barcode, product_name, product_description, product_inv_stock, product_inv_in_transit, product_inv_total, product_min_qty, product_purchase_qty, product_category_id, product_supplier_id) values (161350340690, 'Orange', 'Florida oranges', 50, 0, 50, 10, 20, 2, 3);\r\n",
                "insert into products (product_barcode, product_name, product_description, product_inv_stock, product_inv_in_transit, product_inv_total, product_min_qty, product_purchase_qty, product_category_id, product_supplier_id) values (543702056870, 'Pear', null, 50, 0, 50, 10, 20, 2, 4);\r\n",
                "insert into products (product_barcode, product_name, product_description, product_inv_stock, product_inv_in_transit, product_inv_total, product_min_qty, product_purchase_qty, product_category_id, product_supplier_id) values (265818394731, 'Pineapple', null, 50, 0, 50, 10, 20, 2, 5);\r\n",
                "insert into products (product_barcode, product_name, product_description, product_inv_stock, product_inv_in_transit, product_inv_total, product_min_qty, product_purchase_qty, product_category_id, product_supplier_id) values (388960092537, 'Plum', null, 50, 0, 50, 10, 20, 2, 6);\r\n",
                "insert into products (product_barcode, product_name, product_description, product_inv_stock, product_inv_in_transit, product_inv_total, product_min_qty, product_purchase_qty, product_category_id, product_supplier_id) values (604428959383, 'Watermelon', null, 50, 0, 50, 10, 20, 2, 7);\r\n",
                "insert into products (product_barcode, product_name, product_description, product_inv_stock, product_inv_in_transit, product_inv_total, product_min_qty, product_purchase_qty, product_category_id, product_supplier_id) values (495939702557, 'Beef', 'Grass-fed organic beef', 50, 0, 50, 10, 20, 3, 7);\r\n",
                "insert into products (product_barcode, product_name, product_description, product_inv_stock, product_inv_in_transit, product_inv_total, product_min_qty, product_purchase_qty, product_category_id, product_supplier_id) values (991870651326, 'Chicken', null, 50, 0, 50, 10, 20, 3, 8);\r\n",
                "insert into products (product_barcode, product_name, product_description, product_inv_stock, product_inv_in_transit, product_inv_total, product_min_qty, product_purchase_qty, product_category_id, product_supplier_id) values (690375631973, 'Fish', 'Fresh fish from local fisheries', 50, 0, 50, 10, 20, 3, 9);\r\n",
                "insert into products (product_barcode, product_name, product_description, product_inv_stock, product_inv_in_transit, product_inv_total, product_min_qty, product_purchase_qty, product_category_id, product_supplier_id) values (184413301378, 'Pork', null, 50, 0, 50, 10, 20, 3, 9);\r\n",
                "insert into products (product_barcode, product_name, product_description, product_inv_stock, product_inv_in_transit, product_inv_total, product_min_qty, product_purchase_qty, product_category_id, product_supplier_id) values (614570886679, 'Turkey', null, 50, 0, 50, 10, 20, 3, 10);\r\n",
                "insert into products (product_barcode, product_name, product_description, product_inv_stock, product_inv_in_transit, product_inv_total, product_min_qty, product_purchase_qty, product_category_id, product_supplier_id) values (734157209540, 'Venison', null, 50, 0, 50, 10, 20, 3, 10);\r\n",
                "insert into products (product_barcode, product_name, product_description, product_inv_stock, product_inv_in_transit, product_inv_total, product_min_qty, product_purchase_qty, product_category_id, product_supplier_id) values (182483099615, 'Broccoli', 'Organic broccoli from local farm', 50, 0, 50, 10, 20, 4, 10);\r\n",
                "insert into products (product_barcode, product_name, product_description, product_inv_stock, product_inv_in_transit, product_inv_total, product_min_qty, product_purchase_qty, product_category_id, product_supplier_id) values (678699111607, 'Corn', null, 50, 0, 50, 10, 20, 4, 11);\r\n",
                "insert into products (product_barcode, product_name, product_description, product_inv_stock, product_inv_in_transit, product_inv_total, product_min_qty, product_purchase_qty, product_category_id, product_supplier_id) values (304923251441, 'Lettuce', null, 50, 0, 50, 10, 20, 4, 12);\r\n",
                "insert into products (product_barcode, product_name, product_description, product_inv_stock, product_inv_in_transit, product_inv_total, product_min_qty, product_purchase_qty, product_category_id, product_supplier_id) values (835404825246, 'Onion', null, 50, 0, 50, 10, 20, 4, 13);\r\n",
                "insert into products (product_barcode, product_name, product_description, product_inv_stock, product_inv_in_transit, product_inv_total, product_min_qty, product_purchase_qty, product_category_id, product_supplier_id) values (963842641355, 'Spinach', null, 50, 0, 50, 10, 20, 4, 14);\r\n",
                "insert into products (product_barcode, product_name, product_description, product_inv_stock, product_inv_in_transit, product_inv_total, product_min_qty, product_purchase_qty, product_category_id, product_supplier_id) values (665540775330, 'Tomato', 'Vine-ripe tomatoes from local farm', 50, 0, 50, 10, 20, 4, 15);\r\n",
                "insert into products (product_barcode, product_name, product_description, product_inv_stock, product_inv_in_transit, product_inv_total, product_min_qty, product_purchase_qty, product_category_id, product_supplier_id) values (829347989145, 'Turnip', null, 50, 0, 50, 10, 20, 4, 15);"
            ],
            "metadata": {
                "azdata_cell_guid": "1296ff81-71ff-47d6-a8bc-321813654d1f",
                "language": "sql",
                "tags": [
                    "hide_input"
                ]
            },
            "outputs": [
                {
                    "output_type": "display_data",
                    "data": {
                        "text/html": "(1 row affected)"
                    },
                    "metadata": {}
                },
                {
                    "output_type": "display_data",
                    "data": {
                        "text/html": "(1 row affected)"
                    },
                    "metadata": {}
                },
                {
                    "output_type": "display_data",
                    "data": {
                        "text/html": "(1 row affected)"
                    },
                    "metadata": {}
                },
                {
                    "output_type": "display_data",
                    "data": {
                        "text/html": "(1 row affected)"
                    },
                    "metadata": {}
                },
                {
                    "output_type": "display_data",
                    "data": {
                        "text/html": "(1 row affected)"
                    },
                    "metadata": {}
                },
                {
                    "output_type": "display_data",
                    "data": {
                        "text/html": "(1 row affected)"
                    },
                    "metadata": {}
                },
                {
                    "output_type": "display_data",
                    "data": {
                        "text/html": "(1 row affected)"
                    },
                    "metadata": {}
                },
                {
                    "output_type": "display_data",
                    "data": {
                        "text/html": "(1 row affected)"
                    },
                    "metadata": {}
                },
                {
                    "output_type": "display_data",
                    "data": {
                        "text/html": "(1 row affected)"
                    },
                    "metadata": {}
                },
                {
                    "output_type": "display_data",
                    "data": {
                        "text/html": "(1 row affected)"
                    },
                    "metadata": {}
                },
                {
                    "output_type": "display_data",
                    "data": {
                        "text/html": "(1 row affected)"
                    },
                    "metadata": {}
                },
                {
                    "output_type": "display_data",
                    "data": {
                        "text/html": "(1 row affected)"
                    },
                    "metadata": {}
                },
                {
                    "output_type": "display_data",
                    "data": {
                        "text/html": "(1 row affected)"
                    },
                    "metadata": {}
                },
                {
                    "output_type": "display_data",
                    "data": {
                        "text/html": "(1 row affected)"
                    },
                    "metadata": {}
                },
                {
                    "output_type": "display_data",
                    "data": {
                        "text/html": "(1 row affected)"
                    },
                    "metadata": {}
                },
                {
                    "output_type": "display_data",
                    "data": {
                        "text/html": "(1 row affected)"
                    },
                    "metadata": {}
                },
                {
                    "output_type": "display_data",
                    "data": {
                        "text/html": "(1 row affected)"
                    },
                    "metadata": {}
                },
                {
                    "output_type": "display_data",
                    "data": {
                        "text/html": "(1 row affected)"
                    },
                    "metadata": {}
                },
                {
                    "output_type": "display_data",
                    "data": {
                        "text/html": "(1 row affected)"
                    },
                    "metadata": {}
                },
                {
                    "output_type": "display_data",
                    "data": {
                        "text/html": "(1 row affected)"
                    },
                    "metadata": {}
                },
                {
                    "output_type": "display_data",
                    "data": {
                        "text/html": "(1 row affected)"
                    },
                    "metadata": {}
                },
                {
                    "output_type": "display_data",
                    "data": {
                        "text/html": "(1 row affected)"
                    },
                    "metadata": {}
                },
                {
                    "output_type": "display_data",
                    "data": {
                        "text/html": "(1 row affected)"
                    },
                    "metadata": {}
                },
                {
                    "output_type": "display_data",
                    "data": {
                        "text/html": "(1 row affected)"
                    },
                    "metadata": {}
                },
                {
                    "output_type": "display_data",
                    "data": {
                        "text/html": "Total execution time: 00:00:00.079"
                    },
                    "metadata": {}
                }
            ],
            "execution_count": 15
        },
        {
            "cell_type": "code",
            "source": [
                "--Data into order_statuses\r\n",
                "insert into order_statuses (status_name) values ('ordered');\r\n",
                "insert into order_statuses (status_name) values ('in transit');\r\n",
                "insert into order_statuses (status_name) values ('arrived');"
            ],
            "metadata": {
                "language": "sql",
                "azdata_cell_guid": "a626d244-4707-43de-94ed-2afbfcf60cde",
                "tags": [
                    "hide_input"
                ]
            },
            "outputs": [
                {
                    "output_type": "display_data",
                    "data": {
                        "text/html": "(1 row affected)"
                    },
                    "metadata": {}
                },
                {
                    "output_type": "display_data",
                    "data": {
                        "text/html": "(1 row affected)"
                    },
                    "metadata": {}
                },
                {
                    "output_type": "display_data",
                    "data": {
                        "text/html": "(1 row affected)"
                    },
                    "metadata": {}
                },
                {
                    "output_type": "display_data",
                    "data": {
                        "text/html": "Total execution time: 00:00:00.012"
                    },
                    "metadata": {}
                }
            ],
            "execution_count": 16
        },
        {
            "cell_type": "code",
            "source": [
                "--Data into customer_orders\r\n",
                "insert into customer_orders (customer_order_date, customer_order_subtotal, customer_order_tax, customer_order_total) values ('2022-06-27 13:48:26', '99.79', '7.98', '107.77');\r\n",
                "insert into customer_orders (customer_order_date, customer_order_subtotal, customer_order_tax, customer_order_total) values ('2022-04-06 20:25:30', '142.24', '11.38', '153.62');\r\n",
                "insert into customer_orders (customer_order_date, customer_order_subtotal, customer_order_tax, customer_order_total) values ('2022-06-15 09:31:42', '148.52', '11.88', '160.4');\r\n",
                "insert into customer_orders (customer_order_date, customer_order_subtotal, customer_order_tax, customer_order_total) values ('2022-04-02 12:50:00', '95.38', '7.63', '103.01');\r\n",
                "insert into customer_orders (customer_order_date, customer_order_subtotal, customer_order_tax, customer_order_total) values ('2022-04-25 14:30:06', '100.17', '8.01', '108.18');\r\n",
                "insert into customer_orders (customer_order_date, customer_order_subtotal, customer_order_tax, customer_order_total) values ('2022-05-18 13:53:42', '84.55', '6.76', '91.31');\r\n",
                "insert into customer_orders (customer_order_date, customer_order_subtotal, customer_order_tax, customer_order_total) values ('2022-05-12 02:05:05', '117.33', '9.39', '126.72');\r\n",
                "insert into customer_orders (customer_order_date, customer_order_subtotal, customer_order_tax, customer_order_total) values ('2022-04-03 08:39:19', '70.42', '5.63', '76.05');\r\n",
                "insert into customer_orders (customer_order_date, customer_order_subtotal, customer_order_tax, customer_order_total) values ('2022-04-03 14:53:10', '34.1', '2.73', '36.83');\r\n",
                "insert into customer_orders (customer_order_date, customer_order_subtotal, customer_order_tax, customer_order_total) values ('2022-06-02 11:32:59', '104.98', '8.4', '113.38');\r\n",
                "insert into customer_orders (customer_order_date, customer_order_subtotal, customer_order_tax, customer_order_total) values ('2022-05-07 04:36:37', '137.82', '11.03', '148.85');\r\n",
                "insert into customer_orders (customer_order_date, customer_order_subtotal, customer_order_tax, customer_order_total) values ('2022-06-22 13:16:41', '99.93', '7.99', '107.92');\r\n",
                "insert into customer_orders (customer_order_date, customer_order_subtotal, customer_order_tax, customer_order_total) values ('2022-05-31 13:49:54', '61.1', '4.89', '65.99');\r\n",
                "insert into customer_orders (customer_order_date, customer_order_subtotal, customer_order_tax, customer_order_total) values ('2022-05-12 02:11:16', '130.15', '10.41', '140.56');\r\n",
                "insert into customer_orders (customer_order_date, customer_order_subtotal, customer_order_tax, customer_order_total) values ('2022-04-16 00:59:28', '6.74', '0.54', '7.28');\r\n",
                "insert into customer_orders (customer_order_date, customer_order_subtotal, customer_order_tax, customer_order_total) values ('2022-06-24 15:21:31', '11.92', '0.95', '12.87');\r\n",
                "insert into customer_orders (customer_order_date, customer_order_subtotal, customer_order_tax, customer_order_total) values ('2022-04-02 14:40:50', '57.83', '4.63', '62.46');\r\n",
                "insert into customer_orders (customer_order_date, customer_order_subtotal, customer_order_tax, customer_order_total) values ('2022-05-08 14:48:42', '127.5', '10.2', '137.7');\r\n",
                "insert into customer_orders (customer_order_date, customer_order_subtotal, customer_order_tax, customer_order_total) values ('2022-06-26 05:38:55', '129.35', '10.35', '139.7');\r\n",
                "insert into customer_orders (customer_order_date, customer_order_subtotal, customer_order_tax, customer_order_total) values ('2022-05-03 00:22:00', '100.72', '8.06', '108.78');\r\n",
                "insert into customer_orders (customer_order_date, customer_order_subtotal, customer_order_tax, customer_order_total) values ('2022-04-08 22:43:53', '53.68', '4.29', '57.97');\r\n",
                "insert into customer_orders (customer_order_date, customer_order_subtotal, customer_order_tax, customer_order_total) values ('2022-06-18 08:53:45', '136.85', '10.95', '147.8');\r\n",
                "insert into customer_orders (customer_order_date, customer_order_subtotal, customer_order_tax, customer_order_total) values ('2022-05-23 07:22:03', '77.67', '6.21', '83.88');\r\n",
                "insert into customer_orders (customer_order_date, customer_order_subtotal, customer_order_tax, customer_order_total) values ('2022-06-17 15:09:44', '131.49', '10.52', '142.01');\r\n",
                "insert into customer_orders (customer_order_date, customer_order_subtotal, customer_order_tax, customer_order_total) values ('2022-06-01 16:17:46', '121.85', '9.75', '131.6');\r\n",
                "insert into customer_orders (customer_order_date, customer_order_subtotal, customer_order_tax, customer_order_total) values ('2022-04-01 04:30:09', '103.29', '8.26', '111.55');\r\n",
                "insert into customer_orders (customer_order_date, customer_order_subtotal, customer_order_tax, customer_order_total) values ('2022-04-18 13:25:02', '87.85', '7.03', '94.88');\r\n",
                "insert into customer_orders (customer_order_date, customer_order_subtotal, customer_order_tax, customer_order_total) values ('2022-05-28 06:33:05', '132.9', '10.63', '143.53');\r\n",
                "insert into customer_orders (customer_order_date, customer_order_subtotal, customer_order_tax, customer_order_total) values ('2022-05-10 16:49:24', '66.76', '5.34', '72.1');\r\n",
                "insert into customer_orders (customer_order_date, customer_order_subtotal, customer_order_tax, customer_order_total) values ('2022-04-15 09:52:32', '46.26', '3.7', '49.96');\r\n",
                "insert into customer_orders (customer_order_date, customer_order_subtotal, customer_order_tax, customer_order_total) values ('2022-06-02 13:21:19', '26.91', '2.15', '29.06');\r\n",
                "insert into customer_orders (customer_order_date, customer_order_subtotal, customer_order_tax, customer_order_total) values ('2022-04-18 23:21:50', '110.35', '8.83', '119.18');\r\n",
                "insert into customer_orders (customer_order_date, customer_order_subtotal, customer_order_tax, customer_order_total) values ('2022-06-18 09:19:05', '9.2', '0.74', '9.94');\r\n",
                "insert into customer_orders (customer_order_date, customer_order_subtotal, customer_order_tax, customer_order_total) values ('2022-04-04 13:01:45', '41.26', '3.3', '44.56');\r\n",
                "insert into customer_orders (customer_order_date, customer_order_subtotal, customer_order_tax, customer_order_total) values ('2022-05-24 01:54:13', '112.88', '9.03', '121.91');\r\n",
                "insert into customer_orders (customer_order_date, customer_order_subtotal, customer_order_tax, customer_order_total) values ('2022-04-22 16:43:56', '25.76', '2.06', '27.82');\r\n",
                "insert into customer_orders (customer_order_date, customer_order_subtotal, customer_order_tax, customer_order_total) values ('2022-05-19 22:59:22', '50.01', '4.0', '54.01');\r\n",
                "insert into customer_orders (customer_order_date, customer_order_subtotal, customer_order_tax, customer_order_total) values ('2022-05-05 10:01:48', '128.84', '10.31', '139.15');\r\n",
                "insert into customer_orders (customer_order_date, customer_order_subtotal, customer_order_tax, customer_order_total) values ('2022-05-09 05:44:20', '54.91', '4.39', '59.3');\r\n",
                "insert into customer_orders (customer_order_date, customer_order_subtotal, customer_order_tax, customer_order_total) values ('2022-04-26 11:57:00', '111.67', '8.93', '120.6');\r\n",
                "insert into customer_orders (customer_order_date, customer_order_subtotal, customer_order_tax, customer_order_total) values ('2022-05-18 09:17:13', '148.2', '11.86', '160.06');\r\n",
                "insert into customer_orders (customer_order_date, customer_order_subtotal, customer_order_tax, customer_order_total) values ('2022-05-11 01:21:55', '25.45', '2.04', '27.49');\r\n",
                "insert into customer_orders (customer_order_date, customer_order_subtotal, customer_order_tax, customer_order_total) values ('2022-05-19 01:40:19', '7.21', '0.58', '7.79');\r\n",
                "insert into customer_orders (customer_order_date, customer_order_subtotal, customer_order_tax, customer_order_total) values ('2022-04-20 02:12:18', '146.77', '11.74', '158.51');\r\n",
                "insert into customer_orders (customer_order_date, customer_order_subtotal, customer_order_tax, customer_order_total) values ('2022-05-29 16:34:42', '29.14', '2.33', '31.47');\r\n",
                "insert into customer_orders (customer_order_date, customer_order_subtotal, customer_order_tax, customer_order_total) values ('2022-06-07 08:58:00', '9.28', '0.74', '10.02');\r\n",
                "insert into customer_orders (customer_order_date, customer_order_subtotal, customer_order_tax, customer_order_total) values ('2022-04-15 01:44:13', '107.26', '8.58', '115.84');\r\n",
                "insert into customer_orders (customer_order_date, customer_order_subtotal, customer_order_tax, customer_order_total) values ('2022-05-29 15:18:09', '120.39', '9.63', '130.02');\r\n",
                "insert into customer_orders (customer_order_date, customer_order_subtotal, customer_order_tax, customer_order_total) values ('2022-05-25 13:23:21', '114.43', '9.15', '123.58');\r\n",
                "insert into customer_orders (customer_order_date, customer_order_subtotal, customer_order_tax, customer_order_total) values ('2022-05-10 16:40:12', '102.16', '8.17', '110.33');\r\n",
                "insert into customer_orders (customer_order_date, customer_order_subtotal, customer_order_tax, customer_order_total) values ('2022-04-18 09:25:37', '26.38', '2.11', '28.49');\r\n",
                "insert into customer_orders (customer_order_date, customer_order_subtotal, customer_order_tax, customer_order_total) values ('2022-04-07 05:52:24', '41.06', '3.28', '44.34');\r\n",
                "insert into customer_orders (customer_order_date, customer_order_subtotal, customer_order_tax, customer_order_total) values ('2022-06-08 02:22:52', '23.28', '1.86', '25.14');\r\n",
                "insert into customer_orders (customer_order_date, customer_order_subtotal, customer_order_tax, customer_order_total) values ('2022-05-08 22:07:29', '123.52', '9.88', '133.4');\r\n",
                "insert into customer_orders (customer_order_date, customer_order_subtotal, customer_order_tax, customer_order_total) values ('2022-06-09 15:52:21', '80.65', '6.45', '87.1');\r\n",
                "insert into customer_orders (customer_order_date, customer_order_subtotal, customer_order_tax, customer_order_total) values ('2022-04-05 16:54:01', '123.77', '9.9', '133.67');\r\n",
                "insert into customer_orders (customer_order_date, customer_order_subtotal, customer_order_tax, customer_order_total) values ('2022-06-16 18:20:56', '149.63', '11.97', '161.6');\r\n",
                "insert into customer_orders (customer_order_date, customer_order_subtotal, customer_order_tax, customer_order_total) values ('2022-05-18 19:07:40', '115.43', '9.23', '124.66');\r\n",
                "insert into customer_orders (customer_order_date, customer_order_subtotal, customer_order_tax, customer_order_total) values ('2022-04-19 06:02:56', '69.84', '5.59', '75.43');\r\n",
                "insert into customer_orders (customer_order_date, customer_order_subtotal, customer_order_tax, customer_order_total) values ('2022-04-20 17:24:59', '73.53', '5.88', '79.41');\r\n",
                "insert into customer_orders (customer_order_date, customer_order_subtotal, customer_order_tax, customer_order_total) values ('2022-05-03 23:02:37', '101.1', '8.09', '109.19');\r\n",
                "insert into customer_orders (customer_order_date, customer_order_subtotal, customer_order_tax, customer_order_total) values ('2022-04-28 20:41:32', '87.53', '7.0', '94.53');\r\n",
                "insert into customer_orders (customer_order_date, customer_order_subtotal, customer_order_tax, customer_order_total) values ('2022-05-06 14:28:24', '45.72', '3.66', '49.38');\r\n",
                "insert into customer_orders (customer_order_date, customer_order_subtotal, customer_order_tax, customer_order_total) values ('2022-04-02 19:54:09', '144.46', '11.56', '156.02');\r\n",
                "insert into customer_orders (customer_order_date, customer_order_subtotal, customer_order_tax, customer_order_total) values ('2022-05-11 23:20:25', '74.63', '5.97', '80.6');\r\n",
                "insert into customer_orders (customer_order_date, customer_order_subtotal, customer_order_tax, customer_order_total) values ('2022-04-20 05:43:39', '24.94', '2.0', '26.94');\r\n",
                "insert into customer_orders (customer_order_date, customer_order_subtotal, customer_order_tax, customer_order_total) values ('2022-05-29 04:16:39', '24.74', '1.98', '26.72');\r\n",
                "insert into customer_orders (customer_order_date, customer_order_subtotal, customer_order_tax, customer_order_total) values ('2022-04-25 11:31:52', '135.0', '10.8', '145.8');\r\n",
                "insert into customer_orders (customer_order_date, customer_order_subtotal, customer_order_tax, customer_order_total) values ('2022-04-23 21:51:24', '118.28', '9.46', '127.74');\r\n",
                "insert into customer_orders (customer_order_date, customer_order_subtotal, customer_order_tax, customer_order_total) values ('2022-05-25 11:10:47', '10.25', '0.82', '11.07');\r\n",
                "insert into customer_orders (customer_order_date, customer_order_subtotal, customer_order_tax, customer_order_total) values ('2022-05-14 19:52:15', '104.94', '8.4', '113.34');\r\n",
                "insert into customer_orders (customer_order_date, customer_order_subtotal, customer_order_tax, customer_order_total) values ('2022-05-27 22:40:12', '37.08', '2.97', '40.05');\r\n",
                "insert into customer_orders (customer_order_date, customer_order_subtotal, customer_order_tax, customer_order_total) values ('2022-05-11 12:28:51', '20.38', '1.63', '22.01');\r\n",
                "insert into customer_orders (customer_order_date, customer_order_subtotal, customer_order_tax, customer_order_total) values ('2022-05-16 08:23:22', '66.94', '5.36', '72.3');\r\n",
                "insert into customer_orders (customer_order_date, customer_order_subtotal, customer_order_tax, customer_order_total) values ('2022-04-09 02:19:20', '86.97', '6.96', '93.93');\r\n",
                "insert into customer_orders (customer_order_date, customer_order_subtotal, customer_order_tax, customer_order_total) values ('2022-05-04 13:54:27', '85.21', '6.82', '92.03');\r\n",
                "insert into customer_orders (customer_order_date, customer_order_subtotal, customer_order_tax, customer_order_total) values ('2022-04-11 06:32:43', '118.83', '9.51', '128.34');\r\n",
                "insert into customer_orders (customer_order_date, customer_order_subtotal, customer_order_tax, customer_order_total) values ('2022-06-13 12:15:12', '71.38', '5.71', '77.09');\r\n",
                "insert into customer_orders (customer_order_date, customer_order_subtotal, customer_order_tax, customer_order_total) values ('2022-04-06 10:16:44', '84.73', '6.78', '91.51');\r\n",
                "insert into customer_orders (customer_order_date, customer_order_subtotal, customer_order_tax, customer_order_total) values ('2022-04-24 22:29:29', '120.32', '9.63', '129.95');\r\n",
                "insert into customer_orders (customer_order_date, customer_order_subtotal, customer_order_tax, customer_order_total) values ('2022-06-29 22:58:51', '19.34', '1.55', '20.89');\r\n",
                "insert into customer_orders (customer_order_date, customer_order_subtotal, customer_order_tax, customer_order_total) values ('2022-04-19 00:05:28', '48.75', '3.9', '52.65');\r\n",
                "insert into customer_orders (customer_order_date, customer_order_subtotal, customer_order_tax, customer_order_total) values ('2022-05-05 11:22:54', '35.29', '2.82', '38.11');\r\n",
                "insert into customer_orders (customer_order_date, customer_order_subtotal, customer_order_tax, customer_order_total) values ('2022-05-26 05:24:08', '31.24', '2.5', '33.74');\r\n",
                "insert into customer_orders (customer_order_date, customer_order_subtotal, customer_order_tax, customer_order_total) values ('2022-04-26 07:01:45', '101.46', '8.12', '109.58');\r\n",
                "insert into customer_orders (customer_order_date, customer_order_subtotal, customer_order_tax, customer_order_total) values ('2022-04-13 08:07:59', '135.65', '10.85', '146.5');\r\n",
                "insert into customer_orders (customer_order_date, customer_order_subtotal, customer_order_tax, customer_order_total) values ('2022-06-18 22:57:03', '71.52', '5.72', '77.24');\r\n",
                "insert into customer_orders (customer_order_date, customer_order_subtotal, customer_order_tax, customer_order_total) values ('2022-05-29 12:08:59', '46.35', '3.71', '50.06');\r\n",
                "insert into customer_orders (customer_order_date, customer_order_subtotal, customer_order_tax, customer_order_total) values ('2022-05-24 04:11:42', '6.59', '0.53', '7.12');\r\n",
                "insert into customer_orders (customer_order_date, customer_order_subtotal, customer_order_tax, customer_order_total) values ('2022-06-23 19:02:39', '121.11', '9.69', '130.8');\r\n",
                "insert into customer_orders (customer_order_date, customer_order_subtotal, customer_order_tax, customer_order_total) values ('2022-05-22 15:05:57', '124.3', '9.94', '134.24');\r\n",
                "insert into customer_orders (customer_order_date, customer_order_subtotal, customer_order_tax, customer_order_total) values ('2022-06-24 07:44:33', '76.76', '6.14', '82.9');\r\n",
                "insert into customer_orders (customer_order_date, customer_order_subtotal, customer_order_tax, customer_order_total) values ('2022-05-23 01:09:09', '68.51', '5.48', '73.99');\r\n",
                "insert into customer_orders (customer_order_date, customer_order_subtotal, customer_order_tax, customer_order_total) values ('2022-06-15 07:35:23', '52.54', '4.2', '56.74');\r\n",
                "insert into customer_orders (customer_order_date, customer_order_subtotal, customer_order_tax, customer_order_total) values ('2022-06-26 08:37:04', '73.61', '5.89', '79.5');\r\n",
                "insert into customer_orders (customer_order_date, customer_order_subtotal, customer_order_tax, customer_order_total) values ('2022-06-25 19:55:35', '89.15', '7.13', '96.28');\r\n",
                "insert into customer_orders (customer_order_date, customer_order_subtotal, customer_order_tax, customer_order_total) values ('2022-04-24 03:52:41', '121.99', '9.76', '131.75');\r\n",
                "insert into customer_orders (customer_order_date, customer_order_subtotal, customer_order_tax, customer_order_total) values ('2022-04-18 12:42:57', '9.87', '0.79', '10.66');\r\n",
                "insert into customer_orders (customer_order_date, customer_order_subtotal, customer_order_tax, customer_order_total) values ('2022-06-08 20:35:57', '102.4', '8.19', '110.59');\r\n",
                "insert into customer_orders (customer_order_date, customer_order_subtotal, customer_order_tax, customer_order_total) values ('2022-05-17 23:19:27', '67.89', '5.43', '73.32');\r\n",
                "insert into customer_orders (customer_order_date, customer_order_subtotal, customer_order_tax, customer_order_total) values ('2022-04-19 21:11:12', '10.14', '0.81', '10.95');\r\n",
                "insert into customer_orders (customer_order_date, customer_order_subtotal, customer_order_tax, customer_order_total) values ('2022-06-01 23:54:39', '112.94', '9.04', '121.98');\r\n",
                "insert into customer_orders (customer_order_date, customer_order_subtotal, customer_order_tax, customer_order_total) values ('2022-06-27 00:47:07', '69.11', '5.53', '74.64');\r\n",
                "insert into customer_orders (customer_order_date, customer_order_subtotal, customer_order_tax, customer_order_total) values ('2022-04-04 08:30:49', '128.59', '10.29', '138.88');\r\n",
                "insert into customer_orders (customer_order_date, customer_order_subtotal, customer_order_tax, customer_order_total) values ('2022-05-19 06:04:11', '15.21', '1.22', '16.43');\r\n",
                "insert into customer_orders (customer_order_date, customer_order_subtotal, customer_order_tax, customer_order_total) values ('2022-05-05 23:51:59', '41.34', '3.31', '44.65');\r\n",
                "insert into customer_orders (customer_order_date, customer_order_subtotal, customer_order_tax, customer_order_total) values ('2022-05-17 22:12:27', '52.59', '4.21', '56.8');\r\n",
                "insert into customer_orders (customer_order_date, customer_order_subtotal, customer_order_tax, customer_order_total) values ('2022-04-14 23:28:33', '108.07', '8.65', '116.72');\r\n",
                "insert into customer_orders (customer_order_date, customer_order_subtotal, customer_order_tax, customer_order_total) values ('2022-06-21 07:32:37', '137.19', '10.98', '148.17');\r\n",
                "insert into customer_orders (customer_order_date, customer_order_subtotal, customer_order_tax, customer_order_total) values ('2022-05-06 08:45:43', '73.14', '5.85', '78.99');\r\n",
                "insert into customer_orders (customer_order_date, customer_order_subtotal, customer_order_tax, customer_order_total) values ('2022-04-09 18:54:57', '81.19', '6.5', '87.69');\r\n",
                "insert into customer_orders (customer_order_date, customer_order_subtotal, customer_order_tax, customer_order_total) values ('2022-05-17 18:53:17', '48.58', '3.89', '52.47');\r\n",
                "insert into customer_orders (customer_order_date, customer_order_subtotal, customer_order_tax, customer_order_total) values ('2022-06-27 05:39:47', '47.54', '3.8', '51.34');\r\n",
                "insert into customer_orders (customer_order_date, customer_order_subtotal, customer_order_tax, customer_order_total) values ('2022-05-20 22:55:36', '18.78', '1.5', '20.28');\r\n",
                "insert into customer_orders (customer_order_date, customer_order_subtotal, customer_order_tax, customer_order_total) values ('2022-05-18 02:23:55', '68.66', '5.49', '74.15');\r\n",
                "insert into customer_orders (customer_order_date, customer_order_subtotal, customer_order_tax, customer_order_total) values ('2022-06-23 22:51:44', '149.68', '11.97', '161.65');\r\n",
                "insert into customer_orders (customer_order_date, customer_order_subtotal, customer_order_tax, customer_order_total) values ('2022-04-18 01:14:32', '121.97', '9.76', '131.73');\r\n",
                "insert into customer_orders (customer_order_date, customer_order_subtotal, customer_order_tax, customer_order_total) values ('2022-05-01 00:36:21', '75.91', '6.07', '81.98');\r\n",
                "insert into customer_orders (customer_order_date, customer_order_subtotal, customer_order_tax, customer_order_total) values ('2022-04-25 07:22:40', '77.63', '6.21', '83.84');\r\n",
                "insert into customer_orders (customer_order_date, customer_order_subtotal, customer_order_tax, customer_order_total) values ('2022-05-29 18:29:03', '66.22', '5.3', '71.52');\r\n",
                "insert into customer_orders (customer_order_date, customer_order_subtotal, customer_order_tax, customer_order_total) values ('2022-04-02 03:21:46', '123.12', '9.85', '132.97');\r\n",
                "insert into customer_orders (customer_order_date, customer_order_subtotal, customer_order_tax, customer_order_total) values ('2022-04-25 21:01:20', '47.7', '3.82', '51.52');\r\n",
                "insert into customer_orders (customer_order_date, customer_order_subtotal, customer_order_tax, customer_order_total) values ('2022-06-12 14:32:56', '22.61', '1.81', '24.42');\r\n",
                "insert into customer_orders (customer_order_date, customer_order_subtotal, customer_order_tax, customer_order_total) values ('2022-06-01 20:48:05', '63.59', '5.09', '68.68');\r\n",
                "insert into customer_orders (customer_order_date, customer_order_subtotal, customer_order_tax, customer_order_total) values ('2022-04-27 13:42:45', '38.41', '3.07', '41.48');\r\n",
                "insert into customer_orders (customer_order_date, customer_order_subtotal, customer_order_tax, customer_order_total) values ('2022-04-29 02:02:21', '72.84', '5.83', '78.67');\r\n",
                "insert into customer_orders (customer_order_date, customer_order_subtotal, customer_order_tax, customer_order_total) values ('2022-06-20 04:36:41', '68.61', '5.49', '74.1');\r\n",
                "insert into customer_orders (customer_order_date, customer_order_subtotal, customer_order_tax, customer_order_total) values ('2022-06-01 18:37:15', '24.77', '1.98', '26.75');\r\n",
                "insert into customer_orders (customer_order_date, customer_order_subtotal, customer_order_tax, customer_order_total) values ('2022-06-22 04:03:36', '85.54', '6.84', '92.38');\r\n",
                "insert into customer_orders (customer_order_date, customer_order_subtotal, customer_order_tax, customer_order_total) values ('2022-04-30 00:11:58', '132.67', '10.61', '143.28');\r\n",
                "insert into customer_orders (customer_order_date, customer_order_subtotal, customer_order_tax, customer_order_total) values ('2022-04-27 06:18:40', '99.9', '7.99', '107.89');\r\n",
                "insert into customer_orders (customer_order_date, customer_order_subtotal, customer_order_tax, customer_order_total) values ('2022-04-18 03:38:32', '137.42', '10.99', '148.41');\r\n",
                "insert into customer_orders (customer_order_date, customer_order_subtotal, customer_order_tax, customer_order_total) values ('2022-06-02 05:21:23', '100.66', '8.05', '108.71');\r\n",
                "insert into customer_orders (customer_order_date, customer_order_subtotal, customer_order_tax, customer_order_total) values ('2022-04-06 08:09:53', '39.77', '3.18', '42.95');\r\n",
                "insert into customer_orders (customer_order_date, customer_order_subtotal, customer_order_tax, customer_order_total) values ('2022-04-04 15:04:30', '79.71', '6.38', '86.09');\r\n",
                "insert into customer_orders (customer_order_date, customer_order_subtotal, customer_order_tax, customer_order_total) values ('2022-05-16 21:52:53', '23.58', '1.89', '25.47');\r\n",
                "insert into customer_orders (customer_order_date, customer_order_subtotal, customer_order_tax, customer_order_total) values ('2022-05-15 01:55:19', '76.0', '6.08', '82.08');\r\n",
                "insert into customer_orders (customer_order_date, customer_order_subtotal, customer_order_tax, customer_order_total) values ('2022-05-03 15:15:29', '71.48', '5.72', '77.2');\r\n",
                "insert into customer_orders (customer_order_date, customer_order_subtotal, customer_order_tax, customer_order_total) values ('2022-04-08 21:55:56', '114.07', '9.13', '123.2');\r\n",
                "insert into customer_orders (customer_order_date, customer_order_subtotal, customer_order_tax, customer_order_total) values ('2022-04-22 00:33:58', '13.74', '1.1', '14.84');\r\n",
                "insert into customer_orders (customer_order_date, customer_order_subtotal, customer_order_tax, customer_order_total) values ('2022-05-21 15:41:27', '8.79', '0.7', '9.49');\r\n",
                "insert into customer_orders (customer_order_date, customer_order_subtotal, customer_order_tax, customer_order_total) values ('2022-05-15 14:05:36', '21.57', '1.73', '23.3');\r\n",
                "insert into customer_orders (customer_order_date, customer_order_subtotal, customer_order_tax, customer_order_total) values ('2022-04-25 17:04:33', '117.44', '9.4', '126.84');\r\n",
                "insert into customer_orders (customer_order_date, customer_order_subtotal, customer_order_tax, customer_order_total) values ('2022-06-20 01:36:36', '145.71', '11.66', '157.37');\r\n",
                "insert into customer_orders (customer_order_date, customer_order_subtotal, customer_order_tax, customer_order_total) values ('2022-05-27 02:39:07', '86.22', '6.9', '93.12');\r\n",
                "insert into customer_orders (customer_order_date, customer_order_subtotal, customer_order_tax, customer_order_total) values ('2022-06-26 19:13:58', '69.09', '5.53', '74.62');\r\n",
                "insert into customer_orders (customer_order_date, customer_order_subtotal, customer_order_tax, customer_order_total) values ('2022-06-11 03:48:42', '64.39', '5.15', '69.54');\r\n",
                "insert into customer_orders (customer_order_date, customer_order_subtotal, customer_order_tax, customer_order_total) values ('2022-04-06 08:45:14', '9.54', '0.76', '10.3');\r\n",
                "insert into customer_orders (customer_order_date, customer_order_subtotal, customer_order_tax, customer_order_total) values ('2022-04-15 07:32:32', '33.4', '2.67', '36.07');\r\n",
                "insert into customer_orders (customer_order_date, customer_order_subtotal, customer_order_tax, customer_order_total) values ('2022-05-21 19:03:12', '132.58', '10.61', '143.19');\r\n",
                "insert into customer_orders (customer_order_date, customer_order_subtotal, customer_order_tax, customer_order_total) values ('2022-04-13 05:00:19', '104.2', '8.34', '112.54');\r\n",
                "insert into customer_orders (customer_order_date, customer_order_subtotal, customer_order_tax, customer_order_total) values ('2022-05-17 20:37:07', '111.9', '8.95', '120.85');\r\n",
                "insert into customer_orders (customer_order_date, customer_order_subtotal, customer_order_tax, customer_order_total) values ('2022-05-20 10:42:34', '61.28', '4.9', '66.18');\r\n",
                "insert into customer_orders (customer_order_date, customer_order_subtotal, customer_order_tax, customer_order_total) values ('2022-06-13 09:37:59', '15.73', '1.26', '16.99');\r\n",
                "insert into customer_orders (customer_order_date, customer_order_subtotal, customer_order_tax, customer_order_total) values ('2022-05-30 13:15:11', '101.67', '8.13', '109.8');\r\n",
                "insert into customer_orders (customer_order_date, customer_order_subtotal, customer_order_tax, customer_order_total) values ('2022-04-08 05:49:37', '81.86', '6.55', '88.41');\r\n",
                "insert into customer_orders (customer_order_date, customer_order_subtotal, customer_order_tax, customer_order_total) values ('2022-06-29 13:03:59', '147.18', '11.77', '158.95');\r\n",
                "insert into customer_orders (customer_order_date, customer_order_subtotal, customer_order_tax, customer_order_total) values ('2022-06-22 01:49:50', '126.32', '10.11', '136.43');\r\n",
                "insert into customer_orders (customer_order_date, customer_order_subtotal, customer_order_tax, customer_order_total) values ('2022-05-02 17:49:26', '121.67', '9.73', '131.4');\r\n",
                "insert into customer_orders (customer_order_date, customer_order_subtotal, customer_order_tax, customer_order_total) values ('2022-06-04 03:29:32', '68.61', '5.49', '74.1');\r\n",
                "insert into customer_orders (customer_order_date, customer_order_subtotal, customer_order_tax, customer_order_total) values ('2022-06-14 04:49:56', '56.03', '4.48', '60.51');\r\n",
                "insert into customer_orders (customer_order_date, customer_order_subtotal, customer_order_tax, customer_order_total) values ('2022-04-17 01:26:08', '68.05', '5.44', '73.49');\r\n",
                "insert into customer_orders (customer_order_date, customer_order_subtotal, customer_order_tax, customer_order_total) values ('2022-05-26 16:45:39', '81.13', '6.49', '87.62');\r\n",
                "insert into customer_orders (customer_order_date, customer_order_subtotal, customer_order_tax, customer_order_total) values ('2022-06-07 13:15:31', '42.44', '3.4', '45.84');\r\n",
                "insert into customer_orders (customer_order_date, customer_order_subtotal, customer_order_tax, customer_order_total) values ('2022-05-30 19:42:25', '32.71', '2.62', '35.33');\r\n",
                "insert into customer_orders (customer_order_date, customer_order_subtotal, customer_order_tax, customer_order_total) values ('2022-04-16 12:24:01', '83.83', '6.71', '90.54');\r\n",
                "insert into customer_orders (customer_order_date, customer_order_subtotal, customer_order_tax, customer_order_total) values ('2022-05-18 16:11:54', '127.54', '10.2', '137.74');\r\n",
                "insert into customer_orders (customer_order_date, customer_order_subtotal, customer_order_tax, customer_order_total) values ('2022-04-25 21:24:40', '132.3', '10.58', '142.88');\r\n",
                "insert into customer_orders (customer_order_date, customer_order_subtotal, customer_order_tax, customer_order_total) values ('2022-05-10 08:49:19', '113.2', '9.06', '122.26');\r\n",
                "insert into customer_orders (customer_order_date, customer_order_subtotal, customer_order_tax, customer_order_total) values ('2022-04-26 23:15:27', '16.66', '1.33', '17.99');\r\n",
                "insert into customer_orders (customer_order_date, customer_order_subtotal, customer_order_tax, customer_order_total) values ('2022-05-28 08:44:36', '67.15', '5.37', '72.52');\r\n",
                "insert into customer_orders (customer_order_date, customer_order_subtotal, customer_order_tax, customer_order_total) values ('2022-05-20 21:55:27', '92.81', '7.42', '100.23');\r\n",
                "insert into customer_orders (customer_order_date, customer_order_subtotal, customer_order_tax, customer_order_total) values ('2022-05-02 08:05:01', '109.89', '8.79', '118.68');\r\n",
                "insert into customer_orders (customer_order_date, customer_order_subtotal, customer_order_tax, customer_order_total) values ('2022-05-06 02:58:10', '74.82', '5.99', '80.81');\r\n",
                "insert into customer_orders (customer_order_date, customer_order_subtotal, customer_order_tax, customer_order_total) values ('2022-05-05 07:49:47', '38.69', '3.1', '41.79');\r\n",
                "insert into customer_orders (customer_order_date, customer_order_subtotal, customer_order_tax, customer_order_total) values ('2022-06-21 12:20:51', '84.56', '6.76', '91.32');\r\n",
                "insert into customer_orders (customer_order_date, customer_order_subtotal, customer_order_tax, customer_order_total) values ('2022-04-22 00:31:38', '149.42', '11.95', '161.37');\r\n",
                "insert into customer_orders (customer_order_date, customer_order_subtotal, customer_order_tax, customer_order_total) values ('2022-05-14 01:18:35', '101.42', '8.11', '109.53');\r\n",
                "insert into customer_orders (customer_order_date, customer_order_subtotal, customer_order_tax, customer_order_total) values ('2022-04-13 09:22:01', '123.01', '9.84', '132.85');\r\n",
                "insert into customer_orders (customer_order_date, customer_order_subtotal, customer_order_tax, customer_order_total) values ('2022-04-12 16:48:00', '128.61', '10.29', '138.9');\r\n",
                "insert into customer_orders (customer_order_date, customer_order_subtotal, customer_order_tax, customer_order_total) values ('2022-04-25 07:45:34', '97.95', '7.84', '105.79');\r\n",
                "insert into customer_orders (customer_order_date, customer_order_subtotal, customer_order_tax, customer_order_total) values ('2022-05-24 19:45:01', '27.68', '2.21', '29.89');\r\n",
                "insert into customer_orders (customer_order_date, customer_order_subtotal, customer_order_tax, customer_order_total) values ('2022-04-07 22:47:25', '30.48', '2.44', '32.92');\r\n",
                "insert into customer_orders (customer_order_date, customer_order_subtotal, customer_order_tax, customer_order_total) values ('2022-05-13 14:38:36', '10.3', '0.82', '11.12');\r\n",
                "insert into customer_orders (customer_order_date, customer_order_subtotal, customer_order_tax, customer_order_total) values ('2022-06-11 11:35:36', '24.26', '1.94', '26.2');\r\n",
                "insert into customer_orders (customer_order_date, customer_order_subtotal, customer_order_tax, customer_order_total) values ('2022-06-04 19:06:49', '70.27', '5.62', '75.89');\r\n",
                "insert into customer_orders (customer_order_date, customer_order_subtotal, customer_order_tax, customer_order_total) values ('2022-05-20 21:22:16', '102.01', '8.16', '110.17');\r\n",
                "insert into customer_orders (customer_order_date, customer_order_subtotal, customer_order_tax, customer_order_total) values ('2022-04-10 15:21:19', '7.97', '0.64', '8.61');\r\n",
                "insert into customer_orders (customer_order_date, customer_order_subtotal, customer_order_tax, customer_order_total) values ('2022-04-12 22:45:14', '55.59', '4.45', '60.04');\r\n",
                "insert into customer_orders (customer_order_date, customer_order_subtotal, customer_order_tax, customer_order_total) values ('2022-05-08 16:17:04', '32.73', '2.62', '35.35');\r\n",
                "insert into customer_orders (customer_order_date, customer_order_subtotal, customer_order_tax, customer_order_total) values ('2022-06-29 16:25:44', '78.3', '6.26', '84.56');\r\n",
                "insert into customer_orders (customer_order_date, customer_order_subtotal, customer_order_tax, customer_order_total) values ('2022-04-14 20:59:13', '52.44', '4.2', '56.64');\r\n",
                "insert into customer_orders (customer_order_date, customer_order_subtotal, customer_order_tax, customer_order_total) values ('2022-06-21 04:01:19', '12.69', '1.02', '13.71');\r\n",
                "insert into customer_orders (customer_order_date, customer_order_subtotal, customer_order_tax, customer_order_total) values ('2022-04-12 02:30:50', '74.58', '5.97', '80.55');\r\n",
                "insert into customer_orders (customer_order_date, customer_order_subtotal, customer_order_tax, customer_order_total) values ('2022-05-11 02:34:46', '89.78', '7.18', '96.96');\r\n",
                "insert into customer_orders (customer_order_date, customer_order_subtotal, customer_order_tax, customer_order_total) values ('2022-05-10 04:17:35', '102.86', '8.23', '111.09');\r\n",
                "insert into customer_orders (customer_order_date, customer_order_subtotal, customer_order_tax, customer_order_total) values ('2022-04-07 03:07:33', '130.12', '10.41', '140.53');\r\n",
                "insert into customer_orders (customer_order_date, customer_order_subtotal, customer_order_tax, customer_order_total) values ('2022-05-02 04:02:56', '15.88', '1.27', '17.15');\r\n",
                "insert into customer_orders (customer_order_date, customer_order_subtotal, customer_order_tax, customer_order_total) values ('2022-05-13 01:18:10', '94.0', '7.52', '101.52');\r\n",
                "insert into customer_orders (customer_order_date, customer_order_subtotal, customer_order_tax, customer_order_total) values ('2022-05-14 10:56:09', '7.6', '0.61', '8.21');"
            ],
            "metadata": {
                "language": "sql",
                "azdata_cell_guid": "2272b034-d426-4d81-92bb-d6d01f6c500c",
                "tags": [
                    "hide_input"
                ]
            },
            "outputs": [
                {
                    "output_type": "display_data",
                    "data": {
                        "text/html": "(1 row affected)"
                    },
                    "metadata": {}
                },
                {
                    "output_type": "display_data",
                    "data": {
                        "text/html": "(1 row affected)"
                    },
                    "metadata": {}
                },
                {
                    "output_type": "display_data",
                    "data": {
                        "text/html": "(1 row affected)"
                    },
                    "metadata": {}
                },
                {
                    "output_type": "display_data",
                    "data": {
                        "text/html": "(1 row affected)"
                    },
                    "metadata": {}
                },
                {
                    "output_type": "display_data",
                    "data": {
                        "text/html": "(1 row affected)"
                    },
                    "metadata": {}
                },
                {
                    "output_type": "display_data",
                    "data": {
                        "text/html": "(1 row affected)"
                    },
                    "metadata": {}
                },
                {
                    "output_type": "display_data",
                    "data": {
                        "text/html": "(1 row affected)"
                    },
                    "metadata": {}
                },
                {
                    "output_type": "display_data",
                    "data": {
                        "text/html": "(1 row affected)"
                    },
                    "metadata": {}
                },
                {
                    "output_type": "display_data",
                    "data": {
                        "text/html": "(1 row affected)"
                    },
                    "metadata": {}
                },
                {
                    "output_type": "display_data",
                    "data": {
                        "text/html": "(1 row affected)"
                    },
                    "metadata": {}
                },
                {
                    "output_type": "display_data",
                    "data": {
                        "text/html": "(1 row affected)"
                    },
                    "metadata": {}
                },
                {
                    "output_type": "display_data",
                    "data": {
                        "text/html": "(1 row affected)"
                    },
                    "metadata": {}
                },
                {
                    "output_type": "display_data",
                    "data": {
                        "text/html": "(1 row affected)"
                    },
                    "metadata": {}
                },
                {
                    "output_type": "display_data",
                    "data": {
                        "text/html": "(1 row affected)"
                    },
                    "metadata": {}
                },
                {
                    "output_type": "display_data",
                    "data": {
                        "text/html": "(1 row affected)"
                    },
                    "metadata": {}
                },
                {
                    "output_type": "display_data",
                    "data": {
                        "text/html": "(1 row affected)"
                    },
                    "metadata": {}
                },
                {
                    "output_type": "display_data",
                    "data": {
                        "text/html": "(1 row affected)"
                    },
                    "metadata": {}
                },
                {
                    "output_type": "display_data",
                    "data": {
                        "text/html": "(1 row affected)"
                    },
                    "metadata": {}
                },
                {
                    "output_type": "display_data",
                    "data": {
                        "text/html": "(1 row affected)"
                    },
                    "metadata": {}
                },
                {
                    "output_type": "display_data",
                    "data": {
                        "text/html": "(1 row affected)"
                    },
                    "metadata": {}
                },
                {
                    "output_type": "display_data",
                    "data": {
                        "text/html": "(1 row affected)"
                    },
                    "metadata": {}
                },
                {
                    "output_type": "display_data",
                    "data": {
                        "text/html": "(1 row affected)"
                    },
                    "metadata": {}
                },
                {
                    "output_type": "display_data",
                    "data": {
                        "text/html": "(1 row affected)"
                    },
                    "metadata": {}
                },
                {
                    "output_type": "display_data",
                    "data": {
                        "text/html": "(1 row affected)"
                    },
                    "metadata": {}
                },
                {
                    "output_type": "display_data",
                    "data": {
                        "text/html": "(1 row affected)"
                    },
                    "metadata": {}
                },
                {
                    "output_type": "display_data",
                    "data": {
                        "text/html": "(1 row affected)"
                    },
                    "metadata": {}
                },
                {
                    "output_type": "display_data",
                    "data": {
                        "text/html": "(1 row affected)"
                    },
                    "metadata": {}
                },
                {
                    "output_type": "display_data",
                    "data": {
                        "text/html": "(1 row affected)"
                    },
                    "metadata": {}
                },
                {
                    "output_type": "display_data",
                    "data": {
                        "text/html": "(1 row affected)"
                    },
                    "metadata": {}
                },
                {
                    "output_type": "display_data",
                    "data": {
                        "text/html": "(1 row affected)"
                    },
                    "metadata": {}
                },
                {
                    "output_type": "display_data",
                    "data": {
                        "text/html": "(1 row affected)"
                    },
                    "metadata": {}
                },
                {
                    "output_type": "display_data",
                    "data": {
                        "text/html": "(1 row affected)"
                    },
                    "metadata": {}
                },
                {
                    "output_type": "display_data",
                    "data": {
                        "text/html": "(1 row affected)"
                    },
                    "metadata": {}
                },
                {
                    "output_type": "display_data",
                    "data": {
                        "text/html": "(1 row affected)"
                    },
                    "metadata": {}
                },
                {
                    "output_type": "display_data",
                    "data": {
                        "text/html": "(1 row affected)"
                    },
                    "metadata": {}
                },
                {
                    "output_type": "display_data",
                    "data": {
                        "text/html": "(1 row affected)"
                    },
                    "metadata": {}
                },
                {
                    "output_type": "display_data",
                    "data": {
                        "text/html": "(1 row affected)"
                    },
                    "metadata": {}
                },
                {
                    "output_type": "display_data",
                    "data": {
                        "text/html": "(1 row affected)"
                    },
                    "metadata": {}
                },
                {
                    "output_type": "display_data",
                    "data": {
                        "text/html": "(1 row affected)"
                    },
                    "metadata": {}
                },
                {
                    "output_type": "display_data",
                    "data": {
                        "text/html": "(1 row affected)"
                    },
                    "metadata": {}
                },
                {
                    "output_type": "display_data",
                    "data": {
                        "text/html": "(1 row affected)"
                    },
                    "metadata": {}
                },
                {
                    "output_type": "display_data",
                    "data": {
                        "text/html": "(1 row affected)"
                    },
                    "metadata": {}
                },
                {
                    "output_type": "display_data",
                    "data": {
                        "text/html": "(1 row affected)"
                    },
                    "metadata": {}
                },
                {
                    "output_type": "display_data",
                    "data": {
                        "text/html": "(1 row affected)"
                    },
                    "metadata": {}
                },
                {
                    "output_type": "display_data",
                    "data": {
                        "text/html": "(1 row affected)"
                    },
                    "metadata": {}
                },
                {
                    "output_type": "display_data",
                    "data": {
                        "text/html": "(1 row affected)"
                    },
                    "metadata": {}
                },
                {
                    "output_type": "display_data",
                    "data": {
                        "text/html": "(1 row affected)"
                    },
                    "metadata": {}
                },
                {
                    "output_type": "display_data",
                    "data": {
                        "text/html": "(1 row affected)"
                    },
                    "metadata": {}
                },
                {
                    "output_type": "display_data",
                    "data": {
                        "text/html": "(1 row affected)"
                    },
                    "metadata": {}
                },
                {
                    "output_type": "display_data",
                    "data": {
                        "text/html": "(1 row affected)"
                    },
                    "metadata": {}
                },
                {
                    "output_type": "display_data",
                    "data": {
                        "text/html": "(1 row affected)"
                    },
                    "metadata": {}
                },
                {
                    "output_type": "display_data",
                    "data": {
                        "text/html": "(1 row affected)"
                    },
                    "metadata": {}
                },
                {
                    "output_type": "display_data",
                    "data": {
                        "text/html": "(1 row affected)"
                    },
                    "metadata": {}
                },
                {
                    "output_type": "display_data",
                    "data": {
                        "text/html": "(1 row affected)"
                    },
                    "metadata": {}
                },
                {
                    "output_type": "display_data",
                    "data": {
                        "text/html": "(1 row affected)"
                    },
                    "metadata": {}
                },
                {
                    "output_type": "display_data",
                    "data": {
                        "text/html": "(1 row affected)"
                    },
                    "metadata": {}
                },
                {
                    "output_type": "display_data",
                    "data": {
                        "text/html": "(1 row affected)"
                    },
                    "metadata": {}
                },
                {
                    "output_type": "display_data",
                    "data": {
                        "text/html": "(1 row affected)"
                    },
                    "metadata": {}
                },
                {
                    "output_type": "display_data",
                    "data": {
                        "text/html": "(1 row affected)"
                    },
                    "metadata": {}
                },
                {
                    "output_type": "display_data",
                    "data": {
                        "text/html": "(1 row affected)"
                    },
                    "metadata": {}
                },
                {
                    "output_type": "display_data",
                    "data": {
                        "text/html": "(1 row affected)"
                    },
                    "metadata": {}
                },
                {
                    "output_type": "display_data",
                    "data": {
                        "text/html": "(1 row affected)"
                    },
                    "metadata": {}
                },
                {
                    "output_type": "display_data",
                    "data": {
                        "text/html": "(1 row affected)"
                    },
                    "metadata": {}
                },
                {
                    "output_type": "display_data",
                    "data": {
                        "text/html": "(1 row affected)"
                    },
                    "metadata": {}
                },
                {
                    "output_type": "display_data",
                    "data": {
                        "text/html": "(1 row affected)"
                    },
                    "metadata": {}
                },
                {
                    "output_type": "display_data",
                    "data": {
                        "text/html": "(1 row affected)"
                    },
                    "metadata": {}
                },
                {
                    "output_type": "display_data",
                    "data": {
                        "text/html": "(1 row affected)"
                    },
                    "metadata": {}
                },
                {
                    "output_type": "display_data",
                    "data": {
                        "text/html": "(1 row affected)"
                    },
                    "metadata": {}
                },
                {
                    "output_type": "display_data",
                    "data": {
                        "text/html": "(1 row affected)"
                    },
                    "metadata": {}
                },
                {
                    "output_type": "display_data",
                    "data": {
                        "text/html": "(1 row affected)"
                    },
                    "metadata": {}
                },
                {
                    "output_type": "display_data",
                    "data": {
                        "text/html": "(1 row affected)"
                    },
                    "metadata": {}
                },
                {
                    "output_type": "display_data",
                    "data": {
                        "text/html": "(1 row affected)"
                    },
                    "metadata": {}
                },
                {
                    "output_type": "display_data",
                    "data": {
                        "text/html": "(1 row affected)"
                    },
                    "metadata": {}
                },
                {
                    "output_type": "display_data",
                    "data": {
                        "text/html": "(1 row affected)"
                    },
                    "metadata": {}
                },
                {
                    "output_type": "display_data",
                    "data": {
                        "text/html": "(1 row affected)"
                    },
                    "metadata": {}
                },
                {
                    "output_type": "display_data",
                    "data": {
                        "text/html": "(1 row affected)"
                    },
                    "metadata": {}
                },
                {
                    "output_type": "display_data",
                    "data": {
                        "text/html": "(1 row affected)"
                    },
                    "metadata": {}
                },
                {
                    "output_type": "display_data",
                    "data": {
                        "text/html": "(1 row affected)"
                    },
                    "metadata": {}
                },
                {
                    "output_type": "display_data",
                    "data": {
                        "text/html": "(1 row affected)"
                    },
                    "metadata": {}
                },
                {
                    "output_type": "display_data",
                    "data": {
                        "text/html": "(1 row affected)"
                    },
                    "metadata": {}
                },
                {
                    "output_type": "display_data",
                    "data": {
                        "text/html": "(1 row affected)"
                    },
                    "metadata": {}
                },
                {
                    "output_type": "display_data",
                    "data": {
                        "text/html": "(1 row affected)"
                    },
                    "metadata": {}
                },
                {
                    "output_type": "display_data",
                    "data": {
                        "text/html": "(1 row affected)"
                    },
                    "metadata": {}
                },
                {
                    "output_type": "display_data",
                    "data": {
                        "text/html": "(1 row affected)"
                    },
                    "metadata": {}
                },
                {
                    "output_type": "display_data",
                    "data": {
                        "text/html": "(1 row affected)"
                    },
                    "metadata": {}
                },
                {
                    "output_type": "display_data",
                    "data": {
                        "text/html": "(1 row affected)"
                    },
                    "metadata": {}
                },
                {
                    "output_type": "display_data",
                    "data": {
                        "text/html": "(1 row affected)"
                    },
                    "metadata": {}
                },
                {
                    "output_type": "display_data",
                    "data": {
                        "text/html": "(1 row affected)"
                    },
                    "metadata": {}
                },
                {
                    "output_type": "display_data",
                    "data": {
                        "text/html": "(1 row affected)"
                    },
                    "metadata": {}
                },
                {
                    "output_type": "display_data",
                    "data": {
                        "text/html": "(1 row affected)"
                    },
                    "metadata": {}
                },
                {
                    "output_type": "display_data",
                    "data": {
                        "text/html": "(1 row affected)"
                    },
                    "metadata": {}
                },
                {
                    "output_type": "display_data",
                    "data": {
                        "text/html": "(1 row affected)"
                    },
                    "metadata": {}
                },
                {
                    "output_type": "display_data",
                    "data": {
                        "text/html": "(1 row affected)"
                    },
                    "metadata": {}
                },
                {
                    "output_type": "display_data",
                    "data": {
                        "text/html": "(1 row affected)"
                    },
                    "metadata": {}
                },
                {
                    "output_type": "display_data",
                    "data": {
                        "text/html": "(1 row affected)"
                    },
                    "metadata": {}
                },
                {
                    "output_type": "display_data",
                    "data": {
                        "text/html": "(1 row affected)"
                    },
                    "metadata": {}
                },
                {
                    "output_type": "display_data",
                    "data": {
                        "text/html": "(1 row affected)"
                    },
                    "metadata": {}
                },
                {
                    "output_type": "display_data",
                    "data": {
                        "text/html": "(1 row affected)"
                    },
                    "metadata": {}
                },
                {
                    "output_type": "display_data",
                    "data": {
                        "text/html": "(1 row affected)"
                    },
                    "metadata": {}
                },
                {
                    "output_type": "display_data",
                    "data": {
                        "text/html": "(1 row affected)"
                    },
                    "metadata": {}
                },
                {
                    "output_type": "display_data",
                    "data": {
                        "text/html": "(1 row affected)"
                    },
                    "metadata": {}
                },
                {
                    "output_type": "display_data",
                    "data": {
                        "text/html": "(1 row affected)"
                    },
                    "metadata": {}
                },
                {
                    "output_type": "display_data",
                    "data": {
                        "text/html": "(1 row affected)"
                    },
                    "metadata": {}
                },
                {
                    "output_type": "display_data",
                    "data": {
                        "text/html": "(1 row affected)"
                    },
                    "metadata": {}
                },
                {
                    "output_type": "display_data",
                    "data": {
                        "text/html": "(1 row affected)"
                    },
                    "metadata": {}
                },
                {
                    "output_type": "display_data",
                    "data": {
                        "text/html": "(1 row affected)"
                    },
                    "metadata": {}
                },
                {
                    "output_type": "display_data",
                    "data": {
                        "text/html": "(1 row affected)"
                    },
                    "metadata": {}
                },
                {
                    "output_type": "display_data",
                    "data": {
                        "text/html": "(1 row affected)"
                    },
                    "metadata": {}
                },
                {
                    "output_type": "display_data",
                    "data": {
                        "text/html": "(1 row affected)"
                    },
                    "metadata": {}
                },
                {
                    "output_type": "display_data",
                    "data": {
                        "text/html": "(1 row affected)"
                    },
                    "metadata": {}
                },
                {
                    "output_type": "display_data",
                    "data": {
                        "text/html": "(1 row affected)"
                    },
                    "metadata": {}
                },
                {
                    "output_type": "display_data",
                    "data": {
                        "text/html": "(1 row affected)"
                    },
                    "metadata": {}
                },
                {
                    "output_type": "display_data",
                    "data": {
                        "text/html": "(1 row affected)"
                    },
                    "metadata": {}
                },
                {
                    "output_type": "display_data",
                    "data": {
                        "text/html": "(1 row affected)"
                    },
                    "metadata": {}
                },
                {
                    "output_type": "display_data",
                    "data": {
                        "text/html": "(1 row affected)"
                    },
                    "metadata": {}
                },
                {
                    "output_type": "display_data",
                    "data": {
                        "text/html": "(1 row affected)"
                    },
                    "metadata": {}
                },
                {
                    "output_type": "display_data",
                    "data": {
                        "text/html": "(1 row affected)"
                    },
                    "metadata": {}
                },
                {
                    "output_type": "display_data",
                    "data": {
                        "text/html": "(1 row affected)"
                    },
                    "metadata": {}
                },
                {
                    "output_type": "display_data",
                    "data": {
                        "text/html": "(1 row affected)"
                    },
                    "metadata": {}
                },
                {
                    "output_type": "display_data",
                    "data": {
                        "text/html": "(1 row affected)"
                    },
                    "metadata": {}
                },
                {
                    "output_type": "display_data",
                    "data": {
                        "text/html": "(1 row affected)"
                    },
                    "metadata": {}
                },
                {
                    "output_type": "display_data",
                    "data": {
                        "text/html": "(1 row affected)"
                    },
                    "metadata": {}
                },
                {
                    "output_type": "display_data",
                    "data": {
                        "text/html": "(1 row affected)"
                    },
                    "metadata": {}
                },
                {
                    "output_type": "display_data",
                    "data": {
                        "text/html": "(1 row affected)"
                    },
                    "metadata": {}
                },
                {
                    "output_type": "display_data",
                    "data": {
                        "text/html": "(1 row affected)"
                    },
                    "metadata": {}
                },
                {
                    "output_type": "display_data",
                    "data": {
                        "text/html": "(1 row affected)"
                    },
                    "metadata": {}
                },
                {
                    "output_type": "display_data",
                    "data": {
                        "text/html": "(1 row affected)"
                    },
                    "metadata": {}
                },
                {
                    "output_type": "display_data",
                    "data": {
                        "text/html": "(1 row affected)"
                    },
                    "metadata": {}
                },
                {
                    "output_type": "display_data",
                    "data": {
                        "text/html": "(1 row affected)"
                    },
                    "metadata": {}
                },
                {
                    "output_type": "display_data",
                    "data": {
                        "text/html": "(1 row affected)"
                    },
                    "metadata": {}
                },
                {
                    "output_type": "display_data",
                    "data": {
                        "text/html": "(1 row affected)"
                    },
                    "metadata": {}
                },
                {
                    "output_type": "display_data",
                    "data": {
                        "text/html": "(1 row affected)"
                    },
                    "metadata": {}
                },
                {
                    "output_type": "display_data",
                    "data": {
                        "text/html": "(1 row affected)"
                    },
                    "metadata": {}
                },
                {
                    "output_type": "display_data",
                    "data": {
                        "text/html": "(1 row affected)"
                    },
                    "metadata": {}
                },
                {
                    "output_type": "display_data",
                    "data": {
                        "text/html": "(1 row affected)"
                    },
                    "metadata": {}
                },
                {
                    "output_type": "display_data",
                    "data": {
                        "text/html": "(1 row affected)"
                    },
                    "metadata": {}
                },
                {
                    "output_type": "display_data",
                    "data": {
                        "text/html": "(1 row affected)"
                    },
                    "metadata": {}
                },
                {
                    "output_type": "display_data",
                    "data": {
                        "text/html": "(1 row affected)"
                    },
                    "metadata": {}
                },
                {
                    "output_type": "display_data",
                    "data": {
                        "text/html": "(1 row affected)"
                    },
                    "metadata": {}
                },
                {
                    "output_type": "display_data",
                    "data": {
                        "text/html": "(1 row affected)"
                    },
                    "metadata": {}
                },
                {
                    "output_type": "display_data",
                    "data": {
                        "text/html": "(1 row affected)"
                    },
                    "metadata": {}
                },
                {
                    "output_type": "display_data",
                    "data": {
                        "text/html": "(1 row affected)"
                    },
                    "metadata": {}
                },
                {
                    "output_type": "display_data",
                    "data": {
                        "text/html": "(1 row affected)"
                    },
                    "metadata": {}
                },
                {
                    "output_type": "display_data",
                    "data": {
                        "text/html": "(1 row affected)"
                    },
                    "metadata": {}
                },
                {
                    "output_type": "display_data",
                    "data": {
                        "text/html": "(1 row affected)"
                    },
                    "metadata": {}
                },
                {
                    "output_type": "display_data",
                    "data": {
                        "text/html": "(1 row affected)"
                    },
                    "metadata": {}
                },
                {
                    "output_type": "display_data",
                    "data": {
                        "text/html": "(1 row affected)"
                    },
                    "metadata": {}
                },
                {
                    "output_type": "display_data",
                    "data": {
                        "text/html": "(1 row affected)"
                    },
                    "metadata": {}
                },
                {
                    "output_type": "display_data",
                    "data": {
                        "text/html": "(1 row affected)"
                    },
                    "metadata": {}
                },
                {
                    "output_type": "display_data",
                    "data": {
                        "text/html": "(1 row affected)"
                    },
                    "metadata": {}
                },
                {
                    "output_type": "display_data",
                    "data": {
                        "text/html": "(1 row affected)"
                    },
                    "metadata": {}
                },
                {
                    "output_type": "display_data",
                    "data": {
                        "text/html": "(1 row affected)"
                    },
                    "metadata": {}
                },
                {
                    "output_type": "display_data",
                    "data": {
                        "text/html": "(1 row affected)"
                    },
                    "metadata": {}
                },
                {
                    "output_type": "display_data",
                    "data": {
                        "text/html": "(1 row affected)"
                    },
                    "metadata": {}
                },
                {
                    "output_type": "display_data",
                    "data": {
                        "text/html": "(1 row affected)"
                    },
                    "metadata": {}
                },
                {
                    "output_type": "display_data",
                    "data": {
                        "text/html": "(1 row affected)"
                    },
                    "metadata": {}
                },
                {
                    "output_type": "display_data",
                    "data": {
                        "text/html": "(1 row affected)"
                    },
                    "metadata": {}
                },
                {
                    "output_type": "display_data",
                    "data": {
                        "text/html": "(1 row affected)"
                    },
                    "metadata": {}
                },
                {
                    "output_type": "display_data",
                    "data": {
                        "text/html": "(1 row affected)"
                    },
                    "metadata": {}
                },
                {
                    "output_type": "display_data",
                    "data": {
                        "text/html": "(1 row affected)"
                    },
                    "metadata": {}
                },
                {
                    "output_type": "display_data",
                    "data": {
                        "text/html": "(1 row affected)"
                    },
                    "metadata": {}
                },
                {
                    "output_type": "display_data",
                    "data": {
                        "text/html": "(1 row affected)"
                    },
                    "metadata": {}
                },
                {
                    "output_type": "display_data",
                    "data": {
                        "text/html": "(1 row affected)"
                    },
                    "metadata": {}
                },
                {
                    "output_type": "display_data",
                    "data": {
                        "text/html": "(1 row affected)"
                    },
                    "metadata": {}
                },
                {
                    "output_type": "display_data",
                    "data": {
                        "text/html": "(1 row affected)"
                    },
                    "metadata": {}
                },
                {
                    "output_type": "display_data",
                    "data": {
                        "text/html": "(1 row affected)"
                    },
                    "metadata": {}
                },
                {
                    "output_type": "display_data",
                    "data": {
                        "text/html": "(1 row affected)"
                    },
                    "metadata": {}
                },
                {
                    "output_type": "display_data",
                    "data": {
                        "text/html": "(1 row affected)"
                    },
                    "metadata": {}
                },
                {
                    "output_type": "display_data",
                    "data": {
                        "text/html": "(1 row affected)"
                    },
                    "metadata": {}
                },
                {
                    "output_type": "display_data",
                    "data": {
                        "text/html": "(1 row affected)"
                    },
                    "metadata": {}
                },
                {
                    "output_type": "display_data",
                    "data": {
                        "text/html": "(1 row affected)"
                    },
                    "metadata": {}
                },
                {
                    "output_type": "display_data",
                    "data": {
                        "text/html": "(1 row affected)"
                    },
                    "metadata": {}
                },
                {
                    "output_type": "display_data",
                    "data": {
                        "text/html": "(1 row affected)"
                    },
                    "metadata": {}
                },
                {
                    "output_type": "display_data",
                    "data": {
                        "text/html": "(1 row affected)"
                    },
                    "metadata": {}
                },
                {
                    "output_type": "display_data",
                    "data": {
                        "text/html": "(1 row affected)"
                    },
                    "metadata": {}
                },
                {
                    "output_type": "display_data",
                    "data": {
                        "text/html": "(1 row affected)"
                    },
                    "metadata": {}
                },
                {
                    "output_type": "display_data",
                    "data": {
                        "text/html": "(1 row affected)"
                    },
                    "metadata": {}
                },
                {
                    "output_type": "display_data",
                    "data": {
                        "text/html": "(1 row affected)"
                    },
                    "metadata": {}
                },
                {
                    "output_type": "display_data",
                    "data": {
                        "text/html": "(1 row affected)"
                    },
                    "metadata": {}
                },
                {
                    "output_type": "display_data",
                    "data": {
                        "text/html": "(1 row affected)"
                    },
                    "metadata": {}
                },
                {
                    "output_type": "display_data",
                    "data": {
                        "text/html": "(1 row affected)"
                    },
                    "metadata": {}
                },
                {
                    "output_type": "display_data",
                    "data": {
                        "text/html": "(1 row affected)"
                    },
                    "metadata": {}
                },
                {
                    "output_type": "display_data",
                    "data": {
                        "text/html": "(1 row affected)"
                    },
                    "metadata": {}
                },
                {
                    "output_type": "display_data",
                    "data": {
                        "text/html": "(1 row affected)"
                    },
                    "metadata": {}
                },
                {
                    "output_type": "display_data",
                    "data": {
                        "text/html": "(1 row affected)"
                    },
                    "metadata": {}
                },
                {
                    "output_type": "display_data",
                    "data": {
                        "text/html": "(1 row affected)"
                    },
                    "metadata": {}
                },
                {
                    "output_type": "display_data",
                    "data": {
                        "text/html": "(1 row affected)"
                    },
                    "metadata": {}
                },
                {
                    "output_type": "display_data",
                    "data": {
                        "text/html": "(1 row affected)"
                    },
                    "metadata": {}
                },
                {
                    "output_type": "display_data",
                    "data": {
                        "text/html": "(1 row affected)"
                    },
                    "metadata": {}
                },
                {
                    "output_type": "display_data",
                    "data": {
                        "text/html": "(1 row affected)"
                    },
                    "metadata": {}
                },
                {
                    "output_type": "display_data",
                    "data": {
                        "text/html": "(1 row affected)"
                    },
                    "metadata": {}
                },
                {
                    "output_type": "display_data",
                    "data": {
                        "text/html": "(1 row affected)"
                    },
                    "metadata": {}
                },
                {
                    "output_type": "display_data",
                    "data": {
                        "text/html": "(1 row affected)"
                    },
                    "metadata": {}
                },
                {
                    "output_type": "display_data",
                    "data": {
                        "text/html": "(1 row affected)"
                    },
                    "metadata": {}
                },
                {
                    "output_type": "display_data",
                    "data": {
                        "text/html": "(1 row affected)"
                    },
                    "metadata": {}
                },
                {
                    "output_type": "display_data",
                    "data": {
                        "text/html": "(1 row affected)"
                    },
                    "metadata": {}
                },
                {
                    "output_type": "display_data",
                    "data": {
                        "text/html": "(1 row affected)"
                    },
                    "metadata": {}
                },
                {
                    "output_type": "display_data",
                    "data": {
                        "text/html": "(1 row affected)"
                    },
                    "metadata": {}
                },
                {
                    "output_type": "display_data",
                    "data": {
                        "text/html": "(1 row affected)"
                    },
                    "metadata": {}
                },
                {
                    "output_type": "display_data",
                    "data": {
                        "text/html": "(1 row affected)"
                    },
                    "metadata": {}
                },
                {
                    "output_type": "display_data",
                    "data": {
                        "text/html": "Total execution time: 00:00:00.640"
                    },
                    "metadata": {}
                }
            ],
            "execution_count": 17
        },
        {
            "cell_type": "code",
            "source": [
                "--Data into customer_order_lines\r\n",
                "insert into customer_order_lines (customer_order_line_product_id, customer_order_line_unit_price, customer_order_line_item_qty, customer_order_line_total, customer_order_line_order_id) values (10, 5.44, 19, 103.29, 1);\r\n",
                "insert into customer_order_lines (customer_order_line_product_id, customer_order_line_unit_price, customer_order_line_item_qty, customer_order_line_total, customer_order_line_order_id) values (16, 41.04, 3, 123.12, 2);\r\n",
                "insert into customer_order_lines (customer_order_line_product_id, customer_order_line_unit_price, customer_order_line_item_qty, customer_order_line_total, customer_order_line_order_id) values (22, 13.63, 7, 95.38, 3);\r\n",
                "insert into customer_order_lines (customer_order_line_product_id, customer_order_line_unit_price, customer_order_line_item_qty, customer_order_line_total, customer_order_line_order_id) values (15, 3.61, 16, 57.83, 4);\r\n",
                "insert into customer_order_lines (customer_order_line_product_id, customer_order_line_unit_price, customer_order_line_item_qty, customer_order_line_total, customer_order_line_order_id) values (9, 8.03, 18, 144.46, 5);\r\n",
                "insert into customer_order_lines (customer_order_line_product_id, customer_order_line_unit_price, customer_order_line_item_qty, customer_order_line_total, customer_order_line_order_id) values (9, 3.91, 18, 70.42, 6);\r\n",
                "insert into customer_order_lines (customer_order_line_product_id, customer_order_line_unit_price, customer_order_line_item_qty, customer_order_line_total, customer_order_line_order_id) values (2, 6.82, 5, 34.1, 7);\r\n",
                "insert into customer_order_lines (customer_order_line_product_id, customer_order_line_unit_price, customer_order_line_item_qty, customer_order_line_total, customer_order_line_order_id) values (1, 10.72, 12, 128.59, 8);\r\n",
                "insert into customer_order_lines (customer_order_line_product_id, customer_order_line_unit_price, customer_order_line_item_qty, customer_order_line_total, customer_order_line_order_id) values (6, 2.06, 20, 41.26, 9);\r\n",
                "insert into customer_order_lines (customer_order_line_product_id, customer_order_line_unit_price, customer_order_line_item_qty, customer_order_line_total, customer_order_line_order_id) values (18, 39.85, 2, 79.71, 10);\r\n",
                "insert into customer_order_lines (customer_order_line_product_id, customer_order_line_unit_price, customer_order_line_item_qty, customer_order_line_total, customer_order_line_order_id) values (6, 6.88, 18, 123.77, 11);\r\n",
                "insert into customer_order_lines (customer_order_line_product_id, customer_order_line_unit_price, customer_order_line_item_qty, customer_order_line_total, customer_order_line_order_id) values (8, 6.63, 6, 39.77, 12);\r\n",
                "insert into customer_order_lines (customer_order_line_product_id, customer_order_line_unit_price, customer_order_line_item_qty, customer_order_line_total, customer_order_line_order_id) values (3, 0.73, 13, 9.54, 13);\r\n",
                "insert into customer_order_lines (customer_order_line_product_id, customer_order_line_unit_price, customer_order_line_item_qty, customer_order_line_total, customer_order_line_order_id) values (10, 4.98, 17, 84.73, 14);\r\n",
                "insert into customer_order_lines (customer_order_line_product_id, customer_order_line_unit_price, customer_order_line_item_qty, customer_order_line_total, customer_order_line_order_id) values (1, 10.16, 14, 142.24, 15);\r\n",
                "insert into customer_order_lines (customer_order_line_product_id, customer_order_line_unit_price, customer_order_line_item_qty, customer_order_line_total, customer_order_line_order_id) values (16, 7.23, 18, 130.12, 16);\r\n",
                "insert into customer_order_lines (customer_order_line_product_id, customer_order_line_unit_price, customer_order_line_item_qty, customer_order_line_total, customer_order_line_order_id) values (18, 4.56, 9, 41.06, 17);\r\n",
                "insert into customer_order_lines (customer_order_line_product_id, customer_order_line_unit_price, customer_order_line_item_qty, customer_order_line_total, customer_order_line_order_id) values (14, 3.81, 8, 30.48, 18);\r\n",
                "insert into customer_order_lines (customer_order_line_product_id, customer_order_line_unit_price, customer_order_line_item_qty, customer_order_line_total, customer_order_line_order_id) values (5, 4.09, 20, 81.86, 19);\r\n",
                "insert into customer_order_lines (customer_order_line_product_id, customer_order_line_unit_price, customer_order_line_item_qty, customer_order_line_total, customer_order_line_order_id) values (6, 12.67, 9, 114.07, 20);\r\n",
                "insert into customer_order_lines (customer_order_line_product_id, customer_order_line_unit_price, customer_order_line_item_qty, customer_order_line_total, customer_order_line_order_id) values (17, 4.47, 12, 53.68, 21);\r\n",
                "insert into customer_order_lines (customer_order_line_product_id, customer_order_line_unit_price, customer_order_line_item_qty, customer_order_line_total, customer_order_line_order_id) values (12, 17.39, 5, 86.97, 22);\r\n",
                "insert into customer_order_lines (customer_order_line_product_id, customer_order_line_unit_price, customer_order_line_item_qty, customer_order_line_total, customer_order_line_order_id) values (9, 16.24, 5, 81.19, 23);\r\n",
                "insert into customer_order_lines (customer_order_line_product_id, customer_order_line_unit_price, customer_order_line_item_qty, customer_order_line_total, customer_order_line_order_id) values (5, 0.4, 20, 7.97, 24);\r\n",
                "insert into customer_order_lines (customer_order_line_product_id, customer_order_line_unit_price, customer_order_line_item_qty, customer_order_line_total, customer_order_line_order_id) values (24, 16.98, 7, 118.83, 25);\r\n",
                "insert into customer_order_lines (customer_order_line_product_id, customer_order_line_unit_price, customer_order_line_item_qty, customer_order_line_total, customer_order_line_order_id) values (4, 4.39, 17, 74.58, 26);\r\n",
                "insert into customer_order_lines (customer_order_line_product_id, customer_order_line_unit_price, customer_order_line_item_qty, customer_order_line_total, customer_order_line_order_id) values (13, 18.37, 7, 128.61, 27);\r\n",
                "insert into customer_order_lines (customer_order_line_product_id, customer_order_line_unit_price, customer_order_line_item_qty, customer_order_line_total, customer_order_line_order_id) values (14, 3.71, 15, 55.59, 28);\r\n",
                "insert into customer_order_lines (customer_order_line_product_id, customer_order_line_unit_price, customer_order_line_item_qty, customer_order_line_total, customer_order_line_order_id) values (24, 26.05, 4, 104.2, 29);\r\n",
                "insert into customer_order_lines (customer_order_line_product_id, customer_order_line_unit_price, customer_order_line_item_qty, customer_order_line_total, customer_order_line_order_id) values (16, 12.33, 11, 135.65, 30);\r\n",
                "insert into customer_order_lines (customer_order_line_product_id, customer_order_line_unit_price, customer_order_line_item_qty, customer_order_line_total, customer_order_line_order_id) values (4, 11.18, 11, 123.01, 31);\r\n",
                "insert into customer_order_lines (customer_order_line_product_id, customer_order_line_unit_price, customer_order_line_item_qty, customer_order_line_total, customer_order_line_order_id) values (15, 3.28, 16, 52.44, 32);\r\n",
                "insert into customer_order_lines (customer_order_line_product_id, customer_order_line_unit_price, customer_order_line_item_qty, customer_order_line_total, customer_order_line_order_id) values (20, 7.72, 14, 108.07, 33);\r\n",
                "insert into customer_order_lines (customer_order_line_product_id, customer_order_line_unit_price, customer_order_line_item_qty, customer_order_line_total, customer_order_line_order_id) values (19, 21.45, 5, 107.26, 34);\r\n",
                "insert into customer_order_lines (customer_order_line_product_id, customer_order_line_unit_price, customer_order_line_item_qty, customer_order_line_total, customer_order_line_order_id) values (21, 2.23, 15, 33.4, 35);\r\n",
                "insert into customer_order_lines (customer_order_line_product_id, customer_order_line_unit_price, customer_order_line_item_qty, customer_order_line_total, customer_order_line_order_id) values (5, 4.21, 11, 46.26, 36);\r\n",
                "insert into customer_order_lines (customer_order_line_product_id, customer_order_line_unit_price, customer_order_line_item_qty, customer_order_line_total, customer_order_line_order_id) values (12, 2.25, 3, 6.74, 37);\r\n",
                "insert into customer_order_lines (customer_order_line_product_id, customer_order_line_unit_price, customer_order_line_item_qty, customer_order_line_total, customer_order_line_order_id) values (19, 10.48, 8, 83.83, 38);\r\n",
                "insert into customer_order_lines (customer_order_line_product_id, customer_order_line_unit_price, customer_order_line_item_qty, customer_order_line_total, customer_order_line_order_id) values (18, 13.61, 5, 68.05, 39);\r\n",
                "insert into customer_order_lines (customer_order_line_product_id, customer_order_line_unit_price, customer_order_line_item_qty, customer_order_line_total, customer_order_line_order_id) values (20, 12.2, 10, 121.97, 40);\r\n",
                "insert into customer_order_lines (customer_order_line_product_id, customer_order_line_unit_price, customer_order_line_item_qty, customer_order_line_total, customer_order_line_order_id) values (8, 8.59, 16, 137.42, 41);\r\n",
                "insert into customer_order_lines (customer_order_line_product_id, customer_order_line_unit_price, customer_order_line_item_qty, customer_order_line_total, customer_order_line_order_id) values (24, 1.32, 20, 26.38, 42);\r\n",
                "insert into customer_order_lines (customer_order_line_product_id, customer_order_line_unit_price, customer_order_line_item_qty, customer_order_line_total, customer_order_line_order_id) values (15, 1.1, 9, 9.87, 43);\r\n",
                "insert into customer_order_lines (customer_order_line_product_id, customer_order_line_unit_price, customer_order_line_item_qty, customer_order_line_total, customer_order_line_order_id) values (18, 10.98, 8, 87.85, 44);\r\n",
                "insert into customer_order_lines (customer_order_line_product_id, customer_order_line_unit_price, customer_order_line_item_qty, customer_order_line_total, customer_order_line_order_id) values (18, 22.07, 5, 110.35, 45);\r\n",
                "insert into customer_order_lines (customer_order_line_product_id, customer_order_line_unit_price, customer_order_line_item_qty, customer_order_line_total, customer_order_line_order_id) values (22, 3.48, 14, 48.75, 46);\r\n",
                "insert into customer_order_lines (customer_order_line_product_id, customer_order_line_unit_price, customer_order_line_item_qty, customer_order_line_total, customer_order_line_order_id) values (1, 4.99, 14, 69.84, 47);\r\n",
                "insert into customer_order_lines (customer_order_line_product_id, customer_order_line_unit_price, customer_order_line_item_qty, customer_order_line_total, customer_order_line_order_id) values (15, 2.03, 5, 10.14, 48);\r\n",
                "insert into customer_order_lines (customer_order_line_product_id, customer_order_line_unit_price, customer_order_line_item_qty, customer_order_line_total, customer_order_line_order_id) values (15, 7.34, 20, 146.77, 49);\r\n",
                "insert into customer_order_lines (customer_order_line_product_id, customer_order_line_unit_price, customer_order_line_item_qty, customer_order_line_total, customer_order_line_order_id) values (12, 2.27, 11, 24.94, 50);\r\n",
                "insert into customer_order_lines (customer_order_line_product_id, customer_order_line_unit_price, customer_order_line_item_qty, customer_order_line_total, customer_order_line_order_id) values (8, 7.35, 10, 73.53, 51);\r\n",
                "insert into customer_order_lines (customer_order_line_product_id, customer_order_line_unit_price, customer_order_line_item_qty, customer_order_line_total, customer_order_line_order_id) values (5, 9.96, 15, 149.42, 52);\r\n",
                "insert into customer_order_lines (customer_order_line_product_id, customer_order_line_unit_price, customer_order_line_item_qty, customer_order_line_total, customer_order_line_order_id) values (22, 0.86, 16, 13.74, 53);\r\n",
                "insert into customer_order_lines (customer_order_line_product_id, customer_order_line_unit_price, customer_order_line_item_qty, customer_order_line_total, customer_order_line_order_id) values (23, 6.44, 4, 25.76, 54);\r\n",
                "insert into customer_order_lines (customer_order_line_product_id, customer_order_line_unit_price, customer_order_line_item_qty, customer_order_line_total, customer_order_line_order_id) values (12, 13.14, 9, 118.28, 55);\r\n",
                "insert into customer_order_lines (customer_order_line_product_id, customer_order_line_unit_price, customer_order_line_item_qty, customer_order_line_total, customer_order_line_order_id) values (12, 8.13, 15, 121.99, 56);\r\n",
                "insert into customer_order_lines (customer_order_line_product_id, customer_order_line_unit_price, customer_order_line_item_qty, customer_order_line_total, customer_order_line_order_id) values (19, 24.06, 5, 120.32, 57);\r\n",
                "insert into customer_order_lines (customer_order_line_product_id, customer_order_line_unit_price, customer_order_line_item_qty, customer_order_line_total, customer_order_line_order_id) values (24, 5.97, 13, 77.63, 58);\r\n",
                "insert into customer_order_lines (customer_order_line_product_id, customer_order_line_unit_price, customer_order_line_item_qty, customer_order_line_total, customer_order_line_order_id) values (7, 6.53, 15, 97.95, 59);\r\n",
                "insert into customer_order_lines (customer_order_line_product_id, customer_order_line_unit_price, customer_order_line_item_qty, customer_order_line_total, customer_order_line_order_id) values (20, 11.25, 12, 135, 60);\r\n",
                "insert into customer_order_lines (customer_order_line_product_id, customer_order_line_unit_price, customer_order_line_item_qty, customer_order_line_total, customer_order_line_order_id) values (19, 33.39, 3, 100.17, 61);\r\n",
                "insert into customer_order_lines (customer_order_line_product_id, customer_order_line_unit_price, customer_order_line_item_qty, customer_order_line_total, customer_order_line_order_id) values (3, 11.74, 10, 117.44, 62);\r\n",
                "insert into customer_order_lines (customer_order_line_product_id, customer_order_line_unit_price, customer_order_line_item_qty, customer_order_line_total, customer_order_line_order_id) values (9, 2.65, 18, 47.7, 63);\r\n",
                "insert into customer_order_lines (customer_order_line_product_id, customer_order_line_unit_price, customer_order_line_item_qty, customer_order_line_total, customer_order_line_order_id) values (15, 44.1, 3, 132.3, 64);\r\n",
                "insert into customer_order_lines (customer_order_line_product_id, customer_order_line_unit_price, customer_order_line_item_qty, customer_order_line_total, customer_order_line_order_id) values (8, 8.46, 12, 101.46, 65);\r\n",
                "insert into customer_order_lines (customer_order_line_product_id, customer_order_line_unit_price, customer_order_line_item_qty, customer_order_line_total, customer_order_line_order_id) values (7, 27.92, 4, 111.67, 66);\r\n",
                "insert into customer_order_lines (customer_order_line_product_id, customer_order_line_unit_price, customer_order_line_item_qty, customer_order_line_total, customer_order_line_order_id) values (7, 0.98, 17, 16.66, 67);\r\n",
                "insert into customer_order_lines (customer_order_line_product_id, customer_order_line_unit_price, customer_order_line_item_qty, customer_order_line_total, customer_order_line_order_id) values (19, 5, 20, 99.9, 68);\r\n",
                "insert into customer_order_lines (customer_order_line_product_id, customer_order_line_unit_price, customer_order_line_item_qty, customer_order_line_total, customer_order_line_order_id) values (6, 19.2, 2, 38.41, 69);\r\n",
                "insert into customer_order_lines (customer_order_line_product_id, customer_order_line_unit_price, customer_order_line_item_qty, customer_order_line_total, customer_order_line_order_id) values (7, 17.51, 5, 87.53, 70);\r\n",
                "insert into customer_order_lines (customer_order_line_product_id, customer_order_line_unit_price, customer_order_line_item_qty, customer_order_line_total, customer_order_line_order_id) values (22, 3.83, 19, 72.84, 71);\r\n",
                "insert into customer_order_lines (customer_order_line_product_id, customer_order_line_unit_price, customer_order_line_item_qty, customer_order_line_total, customer_order_line_order_id) values (11, 33.17, 4, 132.67, 72);\r\n",
                "insert into customer_order_lines (customer_order_line_product_id, customer_order_line_unit_price, customer_order_line_item_qty, customer_order_line_total, customer_order_line_order_id) values (14, 37.95, 2, 75.91, 73);\r\n",
                "insert into customer_order_lines (customer_order_line_product_id, customer_order_line_unit_price, customer_order_line_item_qty, customer_order_line_total, customer_order_line_order_id) values (11, 1.99, 8, 15.88, 74);\r\n",
                "insert into customer_order_lines (customer_order_line_product_id, customer_order_line_unit_price, customer_order_line_item_qty, customer_order_line_total, customer_order_line_order_id) values (7, 6.87, 16, 109.89, 75);\r\n",
                "insert into customer_order_lines (customer_order_line_product_id, customer_order_line_unit_price, customer_order_line_item_qty, customer_order_line_total, customer_order_line_order_id) values (22, 20.28, 6, 121.67, 76);\r\n",
                "insert into customer_order_lines (customer_order_line_product_id, customer_order_line_unit_price, customer_order_line_item_qty, customer_order_line_total, customer_order_line_order_id) values (19, 5.6, 18, 100.72, 77);\r\n",
                "insert into customer_order_lines (customer_order_line_product_id, customer_order_line_unit_price, customer_order_line_item_qty, customer_order_line_total, customer_order_line_order_id) values (6, 10.21, 7, 71.48, 78);\r\n",
                "insert into customer_order_lines (customer_order_line_product_id, customer_order_line_unit_price, customer_order_line_item_qty, customer_order_line_total, customer_order_line_order_id) values (22, 16.85, 6, 101.1, 79);\r\n",
                "insert into customer_order_lines (customer_order_line_product_id, customer_order_line_unit_price, customer_order_line_item_qty, customer_order_line_total, customer_order_line_order_id) values (18, 6.55, 13, 85.21, 80);\r\n",
                "insert into customer_order_lines (customer_order_line_product_id, customer_order_line_unit_price, customer_order_line_item_qty, customer_order_line_total, customer_order_line_order_id) values (13, 2.04, 19, 38.69, 81);\r\n",
                "insert into customer_order_lines (customer_order_line_product_id, customer_order_line_unit_price, customer_order_line_item_qty, customer_order_line_total, customer_order_line_order_id) values (6, 10.74, 12, 128.84, 82);\r\n",
                "insert into customer_order_lines (customer_order_line_product_id, customer_order_line_unit_price, customer_order_line_item_qty, customer_order_line_total, customer_order_line_order_id) values (21, 1.76, 20, 35.29, 83);\r\n",
                "insert into customer_order_lines (customer_order_line_product_id, customer_order_line_unit_price, customer_order_line_item_qty, customer_order_line_total, customer_order_line_order_id) values (20, 4.13, 10, 41.34, 84);\r\n",
                "insert into customer_order_lines (customer_order_line_product_id, customer_order_line_unit_price, customer_order_line_item_qty, customer_order_line_total, customer_order_line_order_id) values (15, 37.41, 2, 74.82, 85);\r\n",
                "insert into customer_order_lines (customer_order_line_product_id, customer_order_line_unit_price, customer_order_line_item_qty, customer_order_line_total, customer_order_line_order_id) values (2, 5.63, 13, 73.14, 86);\r\n",
                "insert into customer_order_lines (customer_order_line_product_id, customer_order_line_unit_price, customer_order_line_item_qty, customer_order_line_total, customer_order_line_order_id) values (5, 2.86, 16, 45.72, 87);\r\n",
                "insert into customer_order_lines (customer_order_line_product_id, customer_order_line_unit_price, customer_order_line_item_qty, customer_order_line_total, customer_order_line_order_id) values (13, 8.11, 17, 137.82, 88);\r\n",
                "insert into customer_order_lines (customer_order_line_product_id, customer_order_line_unit_price, customer_order_line_item_qty, customer_order_line_total, customer_order_line_order_id) values (4, 6.38, 20, 127.5, 89);\r\n",
                "insert into customer_order_lines (customer_order_line_product_id, customer_order_line_unit_price, customer_order_line_item_qty, customer_order_line_total, customer_order_line_order_id) values (15, 1.93, 17, 32.73, 90);\r\n",
                "insert into customer_order_lines (customer_order_line_product_id, customer_order_line_unit_price, customer_order_line_item_qty, customer_order_line_total, customer_order_line_order_id) values (2, 10.29, 12, 123.52, 91);\r\n",
                "insert into customer_order_lines (customer_order_line_product_id, customer_order_line_unit_price, customer_order_line_item_qty, customer_order_line_total, customer_order_line_order_id) values (14, 10.98, 5, 54.91, 92);\r\n",
                "insert into customer_order_lines (customer_order_line_product_id, customer_order_line_unit_price, customer_order_line_item_qty, customer_order_line_total, customer_order_line_order_id) values (5, 14.69, 7, 102.86, 93);\r\n",
                "insert into customer_order_lines (customer_order_line_product_id, customer_order_line_unit_price, customer_order_line_item_qty, customer_order_line_total, customer_order_line_order_id) values (21, 8.09, 14, 113.2, 94);\r\n",
                "insert into customer_order_lines (customer_order_line_product_id, customer_order_line_unit_price, customer_order_line_item_qty, customer_order_line_total, customer_order_line_order_id) values (18, 20.43, 5, 102.16, 95);\r\n",
                "insert into customer_order_lines (customer_order_line_product_id, customer_order_line_unit_price, customer_order_line_item_qty, customer_order_line_total, customer_order_line_order_id) values (20, 33.38, 2, 66.76, 96);\r\n",
                "insert into customer_order_lines (customer_order_line_product_id, customer_order_line_unit_price, customer_order_line_item_qty, customer_order_line_total, customer_order_line_order_id) values (18, 2.31, 11, 25.45, 97);\r\n",
                "insert into customer_order_lines (customer_order_line_product_id, customer_order_line_unit_price, customer_order_line_item_qty, customer_order_line_total, customer_order_line_order_id) values (6, 5.28, 17, 89.78, 98);\r\n",
                "insert into customer_order_lines (customer_order_line_product_id, customer_order_line_unit_price, customer_order_line_item_qty, customer_order_line_total, customer_order_line_order_id) values (17, 2.55, 8, 20.38, 99);\r\n",
                "insert into customer_order_lines (customer_order_line_product_id, customer_order_line_unit_price, customer_order_line_item_qty, customer_order_line_total, customer_order_line_order_id) values (16, 8.29, 9, 74.63, 100);\r\n",
                "insert into customer_order_lines (customer_order_line_product_id, customer_order_line_unit_price, customer_order_line_item_qty, customer_order_line_total, customer_order_line_order_id) values (14, 6.18, 19, 117.33, 101);\r\n",
                "insert into customer_order_lines (customer_order_line_product_id, customer_order_line_unit_price, customer_order_line_item_qty, customer_order_line_total, customer_order_line_order_id) values (13, 43.38, 3, 130.15, 102);\r\n",
                "insert into customer_order_lines (customer_order_line_product_id, customer_order_line_unit_price, customer_order_line_item_qty, customer_order_line_total, customer_order_line_order_id) values (21, 11.75, 8, 94, 103);\r\n",
                "insert into customer_order_lines (customer_order_line_product_id, customer_order_line_unit_price, customer_order_line_item_qty, customer_order_line_total, customer_order_line_order_id) values (8, 1.29, 8, 10.3, 104);\r\n",
                "insert into customer_order_lines (customer_order_line_product_id, customer_order_line_unit_price, customer_order_line_item_qty, customer_order_line_total, customer_order_line_order_id) values (6, 5.34, 19, 101.42, 105);\r\n",
                "insert into customer_order_lines (customer_order_line_product_id, customer_order_line_unit_price, customer_order_line_item_qty, customer_order_line_total, customer_order_line_order_id) values (9, 0.59, 13, 7.6, 106);\r\n",
                "insert into customer_order_lines (customer_order_line_product_id, customer_order_line_unit_price, customer_order_line_item_qty, customer_order_line_total, customer_order_line_order_id) values (4, 34.98, 3, 104.94, 107);\r\n",
                "insert into customer_order_lines (customer_order_line_product_id, customer_order_line_unit_price, customer_order_line_item_qty, customer_order_line_total, customer_order_line_order_id) values (10, 7.6, 10, 76, 108);\r\n",
                "insert into customer_order_lines (customer_order_line_product_id, customer_order_line_unit_price, customer_order_line_item_qty, customer_order_line_total, customer_order_line_order_id) values (16, 1.27, 17, 21.57, 109);\r\n",
                "insert into customer_order_lines (customer_order_line_product_id, customer_order_line_unit_price, customer_order_line_item_qty, customer_order_line_total, customer_order_line_order_id) values (20, 4.46, 15, 66.94, 110);\r\n",
                "insert into customer_order_lines (customer_order_line_product_id, customer_order_line_unit_price, customer_order_line_item_qty, customer_order_line_total, customer_order_line_order_id) values (22, 1.57, 15, 23.58, 111);\r\n",
                "insert into customer_order_lines (customer_order_line_product_id, customer_order_line_unit_price, customer_order_line_item_qty, customer_order_line_total, customer_order_line_order_id) values (9, 9.72, 5, 48.58, 112);\r\n",
                "insert into customer_order_lines (customer_order_line_product_id, customer_order_line_unit_price, customer_order_line_item_qty, customer_order_line_total, customer_order_line_order_id) values (17, 15.99, 7, 111.9, 113);\r\n",
                "insert into customer_order_lines (customer_order_line_product_id, customer_order_line_unit_price, customer_order_line_item_qty, customer_order_line_total, customer_order_line_order_id) values (5, 13.15, 4, 52.59, 114);\r\n",
                "insert into customer_order_lines (customer_order_line_product_id, customer_order_line_unit_price, customer_order_line_item_qty, customer_order_line_total, customer_order_line_order_id) values (12, 3.99, 17, 67.89, 115);\r\n",
                "insert into customer_order_lines (customer_order_line_product_id, customer_order_line_unit_price, customer_order_line_item_qty, customer_order_line_total, customer_order_line_order_id) values (17, 9.81, 7, 68.66, 116);\r\n",
                "insert into customer_order_lines (customer_order_line_product_id, customer_order_line_unit_price, customer_order_line_item_qty, customer_order_line_total, customer_order_line_order_id) values (23, 12.35, 12, 148.2, 117);\r\n",
                "insert into customer_order_lines (customer_order_line_product_id, customer_order_line_unit_price, customer_order_line_item_qty, customer_order_line_total, customer_order_line_order_id) values (3, 21.14, 4, 84.55, 118);\r\n",
                "insert into customer_order_lines (customer_order_line_product_id, customer_order_line_unit_price, customer_order_line_item_qty, customer_order_line_total, customer_order_line_order_id) values (5, 6.38, 20, 127.54, 119);\r\n",
                "insert into customer_order_lines (customer_order_line_product_id, customer_order_line_unit_price, customer_order_line_item_qty, customer_order_line_total, customer_order_line_order_id) values (13, 12.83, 9, 115.43, 120);\r\n",
                "insert into customer_order_lines (customer_order_line_product_id, customer_order_line_unit_price, customer_order_line_item_qty, customer_order_line_total, customer_order_line_order_id) values (24, 0.4, 18, 7.21, 121);\r\n",
                "insert into customer_order_lines (customer_order_line_product_id, customer_order_line_unit_price, customer_order_line_item_qty, customer_order_line_total, customer_order_line_order_id) values (20, 0.85, 18, 15.21, 122);\r\n",
                "insert into customer_order_lines (customer_order_line_product_id, customer_order_line_unit_price, customer_order_line_item_qty, customer_order_line_total, customer_order_line_order_id) values (1, 2.63, 19, 50.01, 123);\r\n",
                "insert into customer_order_lines (customer_order_line_product_id, customer_order_line_unit_price, customer_order_line_item_qty, customer_order_line_total, customer_order_line_order_id) values (4, 4.09, 15, 61.28, 124);\r\n",
                "insert into customer_order_lines (customer_order_line_product_id, customer_order_line_unit_price, customer_order_line_item_qty, customer_order_line_total, customer_order_line_order_id) values (12, 17, 6, 102.01, 125);\r\n",
                "insert into customer_order_lines (customer_order_line_product_id, customer_order_line_unit_price, customer_order_line_item_qty, customer_order_line_total, customer_order_line_order_id) values (17, 4.64, 20, 92.81, 126);\r\n",
                "insert into customer_order_lines (customer_order_line_product_id, customer_order_line_unit_price, customer_order_line_item_qty, customer_order_line_total, customer_order_line_order_id) values (11, 1.57, 12, 18.78, 127);\r\n",
                "insert into customer_order_lines (customer_order_line_product_id, customer_order_line_unit_price, customer_order_line_item_qty, customer_order_line_total, customer_order_line_order_id) values (10, 1.26, 7, 8.79, 128);\r\n",
                "insert into customer_order_lines (customer_order_line_product_id, customer_order_line_unit_price, customer_order_line_item_qty, customer_order_line_total, customer_order_line_order_id) values (3, 14.73, 9, 132.58, 129);\r\n",
                "insert into customer_order_lines (customer_order_line_product_id, customer_order_line_unit_price, customer_order_line_item_qty, customer_order_line_total, customer_order_line_order_id) values (2, 62.15, 2, 124.3, 130);\r\n",
                "insert into customer_order_lines (customer_order_line_product_id, customer_order_line_unit_price, customer_order_line_item_qty, customer_order_line_total, customer_order_line_order_id) values (23, 3.81, 18, 68.51, 131);\r\n",
                "insert into customer_order_lines (customer_order_line_product_id, customer_order_line_unit_price, customer_order_line_item_qty, customer_order_line_total, customer_order_line_order_id) values (4, 8.63, 9, 77.67, 132);\r\n",
                "insert into customer_order_lines (customer_order_line_product_id, customer_order_line_unit_price, customer_order_line_item_qty, customer_order_line_total, customer_order_line_order_id) values (12, 6.27, 18, 112.88, 133);\r\n",
                "insert into customer_order_lines (customer_order_line_product_id, customer_order_line_unit_price, customer_order_line_item_qty, customer_order_line_total, customer_order_line_order_id) values (6, 0.33, 20, 6.59, 134);\r\n",
                "insert into customer_order_lines (customer_order_line_product_id, customer_order_line_unit_price, customer_order_line_item_qty, customer_order_line_total, customer_order_line_order_id) values (22, 1.54, 18, 27.68, 135);\r\n",
                "insert into customer_order_lines (customer_order_line_product_id, customer_order_line_unit_price, customer_order_line_item_qty, customer_order_line_total, customer_order_line_order_id) values (15, 0.51, 20, 10.25, 136);\r\n",
                "insert into customer_order_lines (customer_order_line_product_id, customer_order_line_unit_price, customer_order_line_item_qty, customer_order_line_total, customer_order_line_order_id) values (10, 12.71, 9, 114.43, 137);\r\n",
                "insert into customer_order_lines (customer_order_line_product_id, customer_order_line_unit_price, customer_order_line_item_qty, customer_order_line_total, customer_order_line_order_id) values (9, 2.08, 15, 31.24, 138);\r\n",
                "insert into customer_order_lines (customer_order_line_product_id, customer_order_line_unit_price, customer_order_line_item_qty, customer_order_line_total, customer_order_line_order_id) values (23, 9.01, 9, 81.13, 139);\r\n",
                "insert into customer_order_lines (customer_order_line_product_id, customer_order_line_unit_price, customer_order_line_item_qty, customer_order_line_total, customer_order_line_order_id) values (6, 28.74, 3, 86.22, 140);\r\n",
                "insert into customer_order_lines (customer_order_line_product_id, customer_order_line_unit_price, customer_order_line_item_qty, customer_order_line_total, customer_order_line_order_id) values (16, 3.09, 12, 37.08, 141);\r\n",
                "insert into customer_order_lines (customer_order_line_product_id, customer_order_line_unit_price, customer_order_line_item_qty, customer_order_line_total, customer_order_line_order_id) values (6, 33.23, 4, 132.9, 142);\r\n",
                "insert into customer_order_lines (customer_order_line_product_id, customer_order_line_unit_price, customer_order_line_item_qty, customer_order_line_total, customer_order_line_order_id) values (1, 3.73, 18, 67.15, 143);\r\n",
                "insert into customer_order_lines (customer_order_line_product_id, customer_order_line_unit_price, customer_order_line_item_qty, customer_order_line_total, customer_order_line_order_id) values (1, 1.24, 20, 24.74, 144);\r\n",
                "insert into customer_order_lines (customer_order_line_product_id, customer_order_line_unit_price, customer_order_line_item_qty, customer_order_line_total, customer_order_line_order_id) values (7, 3.57, 13, 46.35, 145);\r\n",
                "insert into customer_order_lines (customer_order_line_product_id, customer_order_line_unit_price, customer_order_line_item_qty, customer_order_line_total, customer_order_line_order_id) values (10, 7.08, 17, 120.39, 146);\r\n",
                "insert into customer_order_lines (customer_order_line_product_id, customer_order_line_unit_price, customer_order_line_item_qty, customer_order_line_total, customer_order_line_order_id) values (1, 1.82, 16, 29.14, 147);\r\n",
                "insert into customer_order_lines (customer_order_line_product_id, customer_order_line_unit_price, customer_order_line_item_qty, customer_order_line_total, customer_order_line_order_id) values (22, 3.31, 20, 66.22, 148);\r\n",
                "insert into customer_order_lines (customer_order_line_product_id, customer_order_line_unit_price, customer_order_line_item_qty, customer_order_line_total, customer_order_line_order_id) values (17, 5.35, 19, 101.67, 149);\r\n",
                "insert into customer_order_lines (customer_order_line_product_id, customer_order_line_unit_price, customer_order_line_item_qty, customer_order_line_total, customer_order_line_order_id) values (6, 6.54, 5, 32.71, 150);\r\n",
                "insert into customer_order_lines (customer_order_line_product_id, customer_order_line_unit_price, customer_order_line_item_qty, customer_order_line_total, customer_order_line_order_id) values (15, 3.59, 17, 61.1, 151);\r\n",
                "insert into customer_order_lines (customer_order_line_product_id, customer_order_line_unit_price, customer_order_line_item_qty, customer_order_line_total, customer_order_line_order_id) values (1, 60.92, 2, 121.85, 152);\r\n",
                "insert into customer_order_lines (customer_order_line_product_id, customer_order_line_unit_price, customer_order_line_item_qty, customer_order_line_total, customer_order_line_order_id) values (9, 4.13, 6, 24.77, 153);\r\n",
                "insert into customer_order_lines (customer_order_line_product_id, customer_order_line_unit_price, customer_order_line_item_qty, customer_order_line_total, customer_order_line_order_id) values (16, 4.89, 13, 63.59, 154);\r\n",
                "insert into customer_order_lines (customer_order_line_product_id, customer_order_line_unit_price, customer_order_line_item_qty, customer_order_line_total, customer_order_line_order_id) values (22, 37.65, 3, 112.94, 155);\r\n",
                "insert into customer_order_lines (customer_order_line_product_id, customer_order_line_unit_price, customer_order_line_item_qty, customer_order_line_total, customer_order_line_order_id) values (1, 50.33, 2, 100.66, 156);\r\n",
                "insert into customer_order_lines (customer_order_line_product_id, customer_order_line_unit_price, customer_order_line_item_qty, customer_order_line_total, customer_order_line_order_id) values (6, 7, 15, 104.98, 157);\r\n",
                "insert into customer_order_lines (customer_order_line_product_id, customer_order_line_unit_price, customer_order_line_item_qty, customer_order_line_total, customer_order_line_order_id) values (23, 2.99, 9, 26.91, 158);\r\n",
                "insert into customer_order_lines (customer_order_line_product_id, customer_order_line_unit_price, customer_order_line_item_qty, customer_order_line_total, customer_order_line_order_id) values (3, 4.29, 16, 68.61, 159);\r\n",
                "insert into customer_order_lines (customer_order_line_product_id, customer_order_line_unit_price, customer_order_line_item_qty, customer_order_line_total, customer_order_line_order_id) values (20, 10.04, 7, 70.27, 160);\r\n",
                "insert into customer_order_lines (customer_order_line_product_id, customer_order_line_unit_price, customer_order_line_item_qty, customer_order_line_total, customer_order_line_order_id) values (19, 3.09, 3, 9.28, 161);\r\n",
                "insert into customer_order_lines (customer_order_line_product_id, customer_order_line_unit_price, customer_order_line_item_qty, customer_order_line_total, customer_order_line_order_id) values (10, 2.36, 18, 42.44, 162);\r\n",
                "insert into customer_order_lines (customer_order_line_product_id, customer_order_line_unit_price, customer_order_line_item_qty, customer_order_line_total, customer_order_line_order_id) values (20, 1.16, 20, 23.28, 163);\r\n",
                "insert into customer_order_lines (customer_order_line_product_id, customer_order_line_unit_price, customer_order_line_item_qty, customer_order_line_total, customer_order_line_order_id) values (22, 8.53, 12, 102.4, 164);\r\n",
                "insert into customer_order_lines (customer_order_line_product_id, customer_order_line_unit_price, customer_order_line_item_qty, customer_order_line_total, customer_order_line_order_id) values (3, 4.03, 20, 80.65, 165);\r\n",
                "insert into customer_order_lines (customer_order_line_product_id, customer_order_line_unit_price, customer_order_line_item_qty, customer_order_line_total, customer_order_line_order_id) values (1, 3.58, 18, 64.39, 166);\r\n",
                "insert into customer_order_lines (customer_order_line_product_id, customer_order_line_unit_price, customer_order_line_item_qty, customer_order_line_total, customer_order_line_order_id) values (22, 4.85, 5, 24.26, 167);\r\n",
                "insert into customer_order_lines (customer_order_line_product_id, customer_order_line_unit_price, customer_order_line_item_qty, customer_order_line_total, customer_order_line_order_id) values (20, 2.51, 9, 22.61, 168);\r\n",
                "insert into customer_order_lines (customer_order_line_product_id, customer_order_line_unit_price, customer_order_line_item_qty, customer_order_line_total, customer_order_line_order_id) values (11, 1.43, 11, 15.73, 169);\r\n",
                "insert into customer_order_lines (customer_order_line_product_id, customer_order_line_unit_price, customer_order_line_item_qty, customer_order_line_total, customer_order_line_order_id) values (3, 6.49, 11, 71.38, 170);\r\n",
                "insert into customer_order_lines (customer_order_line_product_id, customer_order_line_unit_price, customer_order_line_item_qty, customer_order_line_total, customer_order_line_order_id) values (16, 6.23, 9, 56.03, 171);\r\n",
                "insert into customer_order_lines (customer_order_line_product_id, customer_order_line_unit_price, customer_order_line_item_qty, customer_order_line_total, customer_order_line_order_id) values (18, 3.28, 16, 52.54, 172);\r\n",
                "insert into customer_order_lines (customer_order_line_product_id, customer_order_line_unit_price, customer_order_line_item_qty, customer_order_line_total, customer_order_line_order_id) values (5, 21.22, 7, 148.52, 173);\r\n",
                "insert into customer_order_lines (customer_order_line_product_id, customer_order_line_unit_price, customer_order_line_item_qty, customer_order_line_total, customer_order_line_order_id) values (11, 49.88, 3, 149.63, 174);\r\n",
                "insert into customer_order_lines (customer_order_line_product_id, customer_order_line_unit_price, customer_order_line_item_qty, customer_order_line_total, customer_order_line_order_id) values (4, 9.39, 14, 131.49, 175);\r\n",
                "insert into customer_order_lines (customer_order_line_product_id, customer_order_line_unit_price, customer_order_line_item_qty, customer_order_line_total, customer_order_line_order_id) values (7, 17.11, 8, 136.85, 176);\r\n",
                "insert into customer_order_lines (customer_order_line_product_id, customer_order_line_unit_price, customer_order_line_item_qty, customer_order_line_total, customer_order_line_order_id) values (22, 0.46, 20, 9.2, 177);\r\n",
                "insert into customer_order_lines (customer_order_line_product_id, customer_order_line_unit_price, customer_order_line_item_qty, customer_order_line_total, customer_order_line_order_id) values (9, 6.5, 11, 71.52, 178);\r\n",
                "insert into customer_order_lines (customer_order_line_product_id, customer_order_line_unit_price, customer_order_line_item_qty, customer_order_line_total, customer_order_line_order_id) values (16, 8.57, 17, 145.71, 179);\r\n",
                "insert into customer_order_lines (customer_order_line_product_id, customer_order_line_unit_price, customer_order_line_item_qty, customer_order_line_total, customer_order_line_order_id) values (7, 7.62, 9, 68.61, 180);\r\n",
                "insert into customer_order_lines (customer_order_line_product_id, customer_order_line_unit_price, customer_order_line_item_qty, customer_order_line_total, customer_order_line_order_id) values (3, 0.75, 17, 12.69, 181);\r\n",
                "insert into customer_order_lines (customer_order_line_product_id, customer_order_line_unit_price, customer_order_line_item_qty, customer_order_line_total, customer_order_line_order_id) values (23, 6.86, 20, 137.19, 182);\r\n",
                "insert into customer_order_lines (customer_order_line_product_id, customer_order_line_unit_price, customer_order_line_item_qty, customer_order_line_total, customer_order_line_order_id) values (5, 12.08, 7, 84.56, 183);\r\n",
                "insert into customer_order_lines (customer_order_line_product_id, customer_order_line_unit_price, customer_order_line_item_qty, customer_order_line_total, customer_order_line_order_id) values (22, 63.16, 2, 126.32, 184);\r\n",
                "insert into customer_order_lines (customer_order_line_product_id, customer_order_line_unit_price, customer_order_line_item_qty, customer_order_line_total, customer_order_line_order_id) values (1, 5.35, 16, 85.54, 185);\r\n",
                "insert into customer_order_lines (customer_order_line_product_id, customer_order_line_unit_price, customer_order_line_item_qty, customer_order_line_total, customer_order_line_order_id) values (13, 6.25, 16, 99.93, 186);\r\n",
                "insert into customer_order_lines (customer_order_line_product_id, customer_order_line_unit_price, customer_order_line_item_qty, customer_order_line_total, customer_order_line_order_id) values (19, 60.55, 2, 121.11, 187);\r\n",
                "insert into customer_order_lines (customer_order_line_product_id, customer_order_line_unit_price, customer_order_line_item_qty, customer_order_line_total, customer_order_line_order_id) values (12, 24.95, 6, 149.68, 188);\r\n",
                "insert into customer_order_lines (customer_order_line_product_id, customer_order_line_unit_price, customer_order_line_item_qty, customer_order_line_total, customer_order_line_order_id) values (8, 8.53, 9, 76.76, 189);\r\n",
                "insert into customer_order_lines (customer_order_line_product_id, customer_order_line_unit_price, customer_order_line_item_qty, customer_order_line_total, customer_order_line_order_id) values (1, 0.99, 12, 11.92, 190);\r\n",
                "insert into customer_order_lines (customer_order_line_product_id, customer_order_line_unit_price, customer_order_line_item_qty, customer_order_line_total, customer_order_line_order_id) values (21, 14.86, 6, 89.15, 191);\r\n",
                "insert into customer_order_lines (customer_order_line_product_id, customer_order_line_unit_price, customer_order_line_item_qty, customer_order_line_total, customer_order_line_order_id) values (7, 18.48, 7, 129.35, 192);\r\n",
                "insert into customer_order_lines (customer_order_line_product_id, customer_order_line_unit_price, customer_order_line_item_qty, customer_order_line_total, customer_order_line_order_id) values (4, 24.54, 3, 73.61, 193);\r\n",
                "insert into customer_order_lines (customer_order_line_product_id, customer_order_line_unit_price, customer_order_line_item_qty, customer_order_line_total, customer_order_line_order_id) values (2, 9.87, 7, 69.09, 194);\r\n",
                "insert into customer_order_lines (customer_order_line_product_id, customer_order_line_unit_price, customer_order_line_item_qty, customer_order_line_total, customer_order_line_order_id) values (3, 34.55, 2, 69.11, 195);\r\n",
                "insert into customer_order_lines (customer_order_line_product_id, customer_order_line_unit_price, customer_order_line_item_qty, customer_order_line_total, customer_order_line_order_id) values (9, 4.75, 10, 47.54, 196);\r\n",
                "insert into customer_order_lines (customer_order_line_product_id, customer_order_line_unit_price, customer_order_line_item_qty, customer_order_line_total, customer_order_line_order_id) values (20, 9.98, 10, 99.79, 197);\r\n",
                "insert into customer_order_lines (customer_order_line_product_id, customer_order_line_unit_price, customer_order_line_item_qty, customer_order_line_total, customer_order_line_order_id) values (3, 9.2, 16, 147.18, 198);\r\n",
                "insert into customer_order_lines (customer_order_line_product_id, customer_order_line_unit_price, customer_order_line_item_qty, customer_order_line_total, customer_order_line_order_id) values (23, 4.12, 19, 78.3, 199);\r\n",
                "insert into customer_order_lines (customer_order_line_product_id, customer_order_line_unit_price, customer_order_line_item_qty, customer_order_line_total, customer_order_line_order_id) values (20, 3.22, 6, 19.34, 200);\r\n",
                ""
            ],
            "metadata": {
                "language": "sql",
                "azdata_cell_guid": "ef24e018-f9c5-4c86-aba9-b2ef839a8a08",
                "tags": [
                    "hide_input"
                ]
            },
            "outputs": [
                {
                    "output_type": "display_data",
                    "data": {
                        "text/html": "(1 row affected)"
                    },
                    "metadata": {}
                },
                {
                    "output_type": "display_data",
                    "data": {
                        "text/html": "(1 row affected)"
                    },
                    "metadata": {}
                },
                {
                    "output_type": "display_data",
                    "data": {
                        "text/html": "(1 row affected)"
                    },
                    "metadata": {}
                },
                {
                    "output_type": "display_data",
                    "data": {
                        "text/html": "(1 row affected)"
                    },
                    "metadata": {}
                },
                {
                    "output_type": "display_data",
                    "data": {
                        "text/html": "(1 row affected)"
                    },
                    "metadata": {}
                },
                {
                    "output_type": "display_data",
                    "data": {
                        "text/html": "(1 row affected)"
                    },
                    "metadata": {}
                },
                {
                    "output_type": "display_data",
                    "data": {
                        "text/html": "(1 row affected)"
                    },
                    "metadata": {}
                },
                {
                    "output_type": "display_data",
                    "data": {
                        "text/html": "(1 row affected)"
                    },
                    "metadata": {}
                },
                {
                    "output_type": "display_data",
                    "data": {
                        "text/html": "(1 row affected)"
                    },
                    "metadata": {}
                },
                {
                    "output_type": "display_data",
                    "data": {
                        "text/html": "(1 row affected)"
                    },
                    "metadata": {}
                },
                {
                    "output_type": "display_data",
                    "data": {
                        "text/html": "(1 row affected)"
                    },
                    "metadata": {}
                },
                {
                    "output_type": "display_data",
                    "data": {
                        "text/html": "(1 row affected)"
                    },
                    "metadata": {}
                },
                {
                    "output_type": "display_data",
                    "data": {
                        "text/html": "(1 row affected)"
                    },
                    "metadata": {}
                },
                {
                    "output_type": "display_data",
                    "data": {
                        "text/html": "(1 row affected)"
                    },
                    "metadata": {}
                },
                {
                    "output_type": "display_data",
                    "data": {
                        "text/html": "(1 row affected)"
                    },
                    "metadata": {}
                },
                {
                    "output_type": "display_data",
                    "data": {
                        "text/html": "(1 row affected)"
                    },
                    "metadata": {}
                },
                {
                    "output_type": "display_data",
                    "data": {
                        "text/html": "(1 row affected)"
                    },
                    "metadata": {}
                },
                {
                    "output_type": "display_data",
                    "data": {
                        "text/html": "(1 row affected)"
                    },
                    "metadata": {}
                },
                {
                    "output_type": "display_data",
                    "data": {
                        "text/html": "(1 row affected)"
                    },
                    "metadata": {}
                },
                {
                    "output_type": "display_data",
                    "data": {
                        "text/html": "(1 row affected)"
                    },
                    "metadata": {}
                },
                {
                    "output_type": "display_data",
                    "data": {
                        "text/html": "(1 row affected)"
                    },
                    "metadata": {}
                },
                {
                    "output_type": "display_data",
                    "data": {
                        "text/html": "(1 row affected)"
                    },
                    "metadata": {}
                },
                {
                    "output_type": "display_data",
                    "data": {
                        "text/html": "(1 row affected)"
                    },
                    "metadata": {}
                },
                {
                    "output_type": "display_data",
                    "data": {
                        "text/html": "(1 row affected)"
                    },
                    "metadata": {}
                },
                {
                    "output_type": "display_data",
                    "data": {
                        "text/html": "(1 row affected)"
                    },
                    "metadata": {}
                },
                {
                    "output_type": "display_data",
                    "data": {
                        "text/html": "(1 row affected)"
                    },
                    "metadata": {}
                },
                {
                    "output_type": "display_data",
                    "data": {
                        "text/html": "(1 row affected)"
                    },
                    "metadata": {}
                },
                {
                    "output_type": "display_data",
                    "data": {
                        "text/html": "(1 row affected)"
                    },
                    "metadata": {}
                },
                {
                    "output_type": "display_data",
                    "data": {
                        "text/html": "(1 row affected)"
                    },
                    "metadata": {}
                },
                {
                    "output_type": "display_data",
                    "data": {
                        "text/html": "(1 row affected)"
                    },
                    "metadata": {}
                },
                {
                    "output_type": "display_data",
                    "data": {
                        "text/html": "(1 row affected)"
                    },
                    "metadata": {}
                },
                {
                    "output_type": "display_data",
                    "data": {
                        "text/html": "(1 row affected)"
                    },
                    "metadata": {}
                },
                {
                    "output_type": "display_data",
                    "data": {
                        "text/html": "(1 row affected)"
                    },
                    "metadata": {}
                },
                {
                    "output_type": "display_data",
                    "data": {
                        "text/html": "(1 row affected)"
                    },
                    "metadata": {}
                },
                {
                    "output_type": "display_data",
                    "data": {
                        "text/html": "(1 row affected)"
                    },
                    "metadata": {}
                },
                {
                    "output_type": "display_data",
                    "data": {
                        "text/html": "(1 row affected)"
                    },
                    "metadata": {}
                },
                {
                    "output_type": "display_data",
                    "data": {
                        "text/html": "(1 row affected)"
                    },
                    "metadata": {}
                },
                {
                    "output_type": "display_data",
                    "data": {
                        "text/html": "(1 row affected)"
                    },
                    "metadata": {}
                },
                {
                    "output_type": "display_data",
                    "data": {
                        "text/html": "(1 row affected)"
                    },
                    "metadata": {}
                },
                {
                    "output_type": "display_data",
                    "data": {
                        "text/html": "(1 row affected)"
                    },
                    "metadata": {}
                },
                {
                    "output_type": "display_data",
                    "data": {
                        "text/html": "(1 row affected)"
                    },
                    "metadata": {}
                },
                {
                    "output_type": "display_data",
                    "data": {
                        "text/html": "(1 row affected)"
                    },
                    "metadata": {}
                },
                {
                    "output_type": "display_data",
                    "data": {
                        "text/html": "(1 row affected)"
                    },
                    "metadata": {}
                },
                {
                    "output_type": "display_data",
                    "data": {
                        "text/html": "(1 row affected)"
                    },
                    "metadata": {}
                },
                {
                    "output_type": "display_data",
                    "data": {
                        "text/html": "(1 row affected)"
                    },
                    "metadata": {}
                },
                {
                    "output_type": "display_data",
                    "data": {
                        "text/html": "(1 row affected)"
                    },
                    "metadata": {}
                },
                {
                    "output_type": "display_data",
                    "data": {
                        "text/html": "(1 row affected)"
                    },
                    "metadata": {}
                },
                {
                    "output_type": "display_data",
                    "data": {
                        "text/html": "(1 row affected)"
                    },
                    "metadata": {}
                },
                {
                    "output_type": "display_data",
                    "data": {
                        "text/html": "(1 row affected)"
                    },
                    "metadata": {}
                },
                {
                    "output_type": "display_data",
                    "data": {
                        "text/html": "(1 row affected)"
                    },
                    "metadata": {}
                },
                {
                    "output_type": "display_data",
                    "data": {
                        "text/html": "(1 row affected)"
                    },
                    "metadata": {}
                },
                {
                    "output_type": "display_data",
                    "data": {
                        "text/html": "(1 row affected)"
                    },
                    "metadata": {}
                },
                {
                    "output_type": "display_data",
                    "data": {
                        "text/html": "(1 row affected)"
                    },
                    "metadata": {}
                },
                {
                    "output_type": "display_data",
                    "data": {
                        "text/html": "(1 row affected)"
                    },
                    "metadata": {}
                },
                {
                    "output_type": "display_data",
                    "data": {
                        "text/html": "(1 row affected)"
                    },
                    "metadata": {}
                },
                {
                    "output_type": "display_data",
                    "data": {
                        "text/html": "(1 row affected)"
                    },
                    "metadata": {}
                },
                {
                    "output_type": "display_data",
                    "data": {
                        "text/html": "(1 row affected)"
                    },
                    "metadata": {}
                },
                {
                    "output_type": "display_data",
                    "data": {
                        "text/html": "(1 row affected)"
                    },
                    "metadata": {}
                },
                {
                    "output_type": "display_data",
                    "data": {
                        "text/html": "(1 row affected)"
                    },
                    "metadata": {}
                },
                {
                    "output_type": "display_data",
                    "data": {
                        "text/html": "(1 row affected)"
                    },
                    "metadata": {}
                },
                {
                    "output_type": "display_data",
                    "data": {
                        "text/html": "(1 row affected)"
                    },
                    "metadata": {}
                },
                {
                    "output_type": "display_data",
                    "data": {
                        "text/html": "(1 row affected)"
                    },
                    "metadata": {}
                },
                {
                    "output_type": "display_data",
                    "data": {
                        "text/html": "(1 row affected)"
                    },
                    "metadata": {}
                },
                {
                    "output_type": "display_data",
                    "data": {
                        "text/html": "(1 row affected)"
                    },
                    "metadata": {}
                },
                {
                    "output_type": "display_data",
                    "data": {
                        "text/html": "(1 row affected)"
                    },
                    "metadata": {}
                },
                {
                    "output_type": "display_data",
                    "data": {
                        "text/html": "(1 row affected)"
                    },
                    "metadata": {}
                },
                {
                    "output_type": "display_data",
                    "data": {
                        "text/html": "(1 row affected)"
                    },
                    "metadata": {}
                },
                {
                    "output_type": "display_data",
                    "data": {
                        "text/html": "(1 row affected)"
                    },
                    "metadata": {}
                },
                {
                    "output_type": "display_data",
                    "data": {
                        "text/html": "(1 row affected)"
                    },
                    "metadata": {}
                },
                {
                    "output_type": "display_data",
                    "data": {
                        "text/html": "(1 row affected)"
                    },
                    "metadata": {}
                },
                {
                    "output_type": "display_data",
                    "data": {
                        "text/html": "(1 row affected)"
                    },
                    "metadata": {}
                },
                {
                    "output_type": "display_data",
                    "data": {
                        "text/html": "(1 row affected)"
                    },
                    "metadata": {}
                },
                {
                    "output_type": "display_data",
                    "data": {
                        "text/html": "(1 row affected)"
                    },
                    "metadata": {}
                },
                {
                    "output_type": "display_data",
                    "data": {
                        "text/html": "(1 row affected)"
                    },
                    "metadata": {}
                },
                {
                    "output_type": "display_data",
                    "data": {
                        "text/html": "(1 row affected)"
                    },
                    "metadata": {}
                },
                {
                    "output_type": "display_data",
                    "data": {
                        "text/html": "(1 row affected)"
                    },
                    "metadata": {}
                },
                {
                    "output_type": "display_data",
                    "data": {
                        "text/html": "(1 row affected)"
                    },
                    "metadata": {}
                },
                {
                    "output_type": "display_data",
                    "data": {
                        "text/html": "(1 row affected)"
                    },
                    "metadata": {}
                },
                {
                    "output_type": "display_data",
                    "data": {
                        "text/html": "(1 row affected)"
                    },
                    "metadata": {}
                },
                {
                    "output_type": "display_data",
                    "data": {
                        "text/html": "(1 row affected)"
                    },
                    "metadata": {}
                },
                {
                    "output_type": "display_data",
                    "data": {
                        "text/html": "(1 row affected)"
                    },
                    "metadata": {}
                },
                {
                    "output_type": "display_data",
                    "data": {
                        "text/html": "(1 row affected)"
                    },
                    "metadata": {}
                },
                {
                    "output_type": "display_data",
                    "data": {
                        "text/html": "(1 row affected)"
                    },
                    "metadata": {}
                },
                {
                    "output_type": "display_data",
                    "data": {
                        "text/html": "(1 row affected)"
                    },
                    "metadata": {}
                },
                {
                    "output_type": "display_data",
                    "data": {
                        "text/html": "(1 row affected)"
                    },
                    "metadata": {}
                },
                {
                    "output_type": "display_data",
                    "data": {
                        "text/html": "(1 row affected)"
                    },
                    "metadata": {}
                },
                {
                    "output_type": "display_data",
                    "data": {
                        "text/html": "(1 row affected)"
                    },
                    "metadata": {}
                },
                {
                    "output_type": "display_data",
                    "data": {
                        "text/html": "(1 row affected)"
                    },
                    "metadata": {}
                },
                {
                    "output_type": "display_data",
                    "data": {
                        "text/html": "(1 row affected)"
                    },
                    "metadata": {}
                },
                {
                    "output_type": "display_data",
                    "data": {
                        "text/html": "(1 row affected)"
                    },
                    "metadata": {}
                },
                {
                    "output_type": "display_data",
                    "data": {
                        "text/html": "(1 row affected)"
                    },
                    "metadata": {}
                },
                {
                    "output_type": "display_data",
                    "data": {
                        "text/html": "(1 row affected)"
                    },
                    "metadata": {}
                },
                {
                    "output_type": "display_data",
                    "data": {
                        "text/html": "(1 row affected)"
                    },
                    "metadata": {}
                },
                {
                    "output_type": "display_data",
                    "data": {
                        "text/html": "(1 row affected)"
                    },
                    "metadata": {}
                },
                {
                    "output_type": "display_data",
                    "data": {
                        "text/html": "(1 row affected)"
                    },
                    "metadata": {}
                },
                {
                    "output_type": "display_data",
                    "data": {
                        "text/html": "(1 row affected)"
                    },
                    "metadata": {}
                },
                {
                    "output_type": "display_data",
                    "data": {
                        "text/html": "(1 row affected)"
                    },
                    "metadata": {}
                },
                {
                    "output_type": "display_data",
                    "data": {
                        "text/html": "(1 row affected)"
                    },
                    "metadata": {}
                },
                {
                    "output_type": "display_data",
                    "data": {
                        "text/html": "(1 row affected)"
                    },
                    "metadata": {}
                },
                {
                    "output_type": "display_data",
                    "data": {
                        "text/html": "(1 row affected)"
                    },
                    "metadata": {}
                },
                {
                    "output_type": "display_data",
                    "data": {
                        "text/html": "(1 row affected)"
                    },
                    "metadata": {}
                },
                {
                    "output_type": "display_data",
                    "data": {
                        "text/html": "(1 row affected)"
                    },
                    "metadata": {}
                },
                {
                    "output_type": "display_data",
                    "data": {
                        "text/html": "(1 row affected)"
                    },
                    "metadata": {}
                },
                {
                    "output_type": "display_data",
                    "data": {
                        "text/html": "(1 row affected)"
                    },
                    "metadata": {}
                },
                {
                    "output_type": "display_data",
                    "data": {
                        "text/html": "(1 row affected)"
                    },
                    "metadata": {}
                },
                {
                    "output_type": "display_data",
                    "data": {
                        "text/html": "(1 row affected)"
                    },
                    "metadata": {}
                },
                {
                    "output_type": "display_data",
                    "data": {
                        "text/html": "(1 row affected)"
                    },
                    "metadata": {}
                },
                {
                    "output_type": "display_data",
                    "data": {
                        "text/html": "(1 row affected)"
                    },
                    "metadata": {}
                },
                {
                    "output_type": "display_data",
                    "data": {
                        "text/html": "(1 row affected)"
                    },
                    "metadata": {}
                },
                {
                    "output_type": "display_data",
                    "data": {
                        "text/html": "(1 row affected)"
                    },
                    "metadata": {}
                },
                {
                    "output_type": "display_data",
                    "data": {
                        "text/html": "(1 row affected)"
                    },
                    "metadata": {}
                },
                {
                    "output_type": "display_data",
                    "data": {
                        "text/html": "(1 row affected)"
                    },
                    "metadata": {}
                },
                {
                    "output_type": "display_data",
                    "data": {
                        "text/html": "(1 row affected)"
                    },
                    "metadata": {}
                },
                {
                    "output_type": "display_data",
                    "data": {
                        "text/html": "(1 row affected)"
                    },
                    "metadata": {}
                },
                {
                    "output_type": "display_data",
                    "data": {
                        "text/html": "(1 row affected)"
                    },
                    "metadata": {}
                },
                {
                    "output_type": "display_data",
                    "data": {
                        "text/html": "(1 row affected)"
                    },
                    "metadata": {}
                },
                {
                    "output_type": "display_data",
                    "data": {
                        "text/html": "(1 row affected)"
                    },
                    "metadata": {}
                },
                {
                    "output_type": "display_data",
                    "data": {
                        "text/html": "(1 row affected)"
                    },
                    "metadata": {}
                },
                {
                    "output_type": "display_data",
                    "data": {
                        "text/html": "(1 row affected)"
                    },
                    "metadata": {}
                },
                {
                    "output_type": "display_data",
                    "data": {
                        "text/html": "(1 row affected)"
                    },
                    "metadata": {}
                },
                {
                    "output_type": "display_data",
                    "data": {
                        "text/html": "(1 row affected)"
                    },
                    "metadata": {}
                },
                {
                    "output_type": "display_data",
                    "data": {
                        "text/html": "(1 row affected)"
                    },
                    "metadata": {}
                },
                {
                    "output_type": "display_data",
                    "data": {
                        "text/html": "(1 row affected)"
                    },
                    "metadata": {}
                },
                {
                    "output_type": "display_data",
                    "data": {
                        "text/html": "(1 row affected)"
                    },
                    "metadata": {}
                },
                {
                    "output_type": "display_data",
                    "data": {
                        "text/html": "(1 row affected)"
                    },
                    "metadata": {}
                },
                {
                    "output_type": "display_data",
                    "data": {
                        "text/html": "(1 row affected)"
                    },
                    "metadata": {}
                },
                {
                    "output_type": "display_data",
                    "data": {
                        "text/html": "(1 row affected)"
                    },
                    "metadata": {}
                },
                {
                    "output_type": "display_data",
                    "data": {
                        "text/html": "(1 row affected)"
                    },
                    "metadata": {}
                },
                {
                    "output_type": "display_data",
                    "data": {
                        "text/html": "(1 row affected)"
                    },
                    "metadata": {}
                },
                {
                    "output_type": "display_data",
                    "data": {
                        "text/html": "(1 row affected)"
                    },
                    "metadata": {}
                },
                {
                    "output_type": "display_data",
                    "data": {
                        "text/html": "(1 row affected)"
                    },
                    "metadata": {}
                },
                {
                    "output_type": "display_data",
                    "data": {
                        "text/html": "(1 row affected)"
                    },
                    "metadata": {}
                },
                {
                    "output_type": "display_data",
                    "data": {
                        "text/html": "(1 row affected)"
                    },
                    "metadata": {}
                },
                {
                    "output_type": "display_data",
                    "data": {
                        "text/html": "(1 row affected)"
                    },
                    "metadata": {}
                },
                {
                    "output_type": "display_data",
                    "data": {
                        "text/html": "(1 row affected)"
                    },
                    "metadata": {}
                },
                {
                    "output_type": "display_data",
                    "data": {
                        "text/html": "(1 row affected)"
                    },
                    "metadata": {}
                },
                {
                    "output_type": "display_data",
                    "data": {
                        "text/html": "(1 row affected)"
                    },
                    "metadata": {}
                },
                {
                    "output_type": "display_data",
                    "data": {
                        "text/html": "(1 row affected)"
                    },
                    "metadata": {}
                },
                {
                    "output_type": "display_data",
                    "data": {
                        "text/html": "(1 row affected)"
                    },
                    "metadata": {}
                },
                {
                    "output_type": "display_data",
                    "data": {
                        "text/html": "(1 row affected)"
                    },
                    "metadata": {}
                },
                {
                    "output_type": "display_data",
                    "data": {
                        "text/html": "(1 row affected)"
                    },
                    "metadata": {}
                },
                {
                    "output_type": "display_data",
                    "data": {
                        "text/html": "(1 row affected)"
                    },
                    "metadata": {}
                },
                {
                    "output_type": "display_data",
                    "data": {
                        "text/html": "(1 row affected)"
                    },
                    "metadata": {}
                },
                {
                    "output_type": "display_data",
                    "data": {
                        "text/html": "(1 row affected)"
                    },
                    "metadata": {}
                },
                {
                    "output_type": "display_data",
                    "data": {
                        "text/html": "(1 row affected)"
                    },
                    "metadata": {}
                },
                {
                    "output_type": "display_data",
                    "data": {
                        "text/html": "(1 row affected)"
                    },
                    "metadata": {}
                },
                {
                    "output_type": "display_data",
                    "data": {
                        "text/html": "(1 row affected)"
                    },
                    "metadata": {}
                },
                {
                    "output_type": "display_data",
                    "data": {
                        "text/html": "(1 row affected)"
                    },
                    "metadata": {}
                },
                {
                    "output_type": "display_data",
                    "data": {
                        "text/html": "(1 row affected)"
                    },
                    "metadata": {}
                },
                {
                    "output_type": "display_data",
                    "data": {
                        "text/html": "(1 row affected)"
                    },
                    "metadata": {}
                },
                {
                    "output_type": "display_data",
                    "data": {
                        "text/html": "(1 row affected)"
                    },
                    "metadata": {}
                },
                {
                    "output_type": "display_data",
                    "data": {
                        "text/html": "(1 row affected)"
                    },
                    "metadata": {}
                },
                {
                    "output_type": "display_data",
                    "data": {
                        "text/html": "(1 row affected)"
                    },
                    "metadata": {}
                },
                {
                    "output_type": "display_data",
                    "data": {
                        "text/html": "(1 row affected)"
                    },
                    "metadata": {}
                },
                {
                    "output_type": "display_data",
                    "data": {
                        "text/html": "(1 row affected)"
                    },
                    "metadata": {}
                },
                {
                    "output_type": "display_data",
                    "data": {
                        "text/html": "(1 row affected)"
                    },
                    "metadata": {}
                },
                {
                    "output_type": "display_data",
                    "data": {
                        "text/html": "(1 row affected)"
                    },
                    "metadata": {}
                },
                {
                    "output_type": "display_data",
                    "data": {
                        "text/html": "(1 row affected)"
                    },
                    "metadata": {}
                },
                {
                    "output_type": "display_data",
                    "data": {
                        "text/html": "(1 row affected)"
                    },
                    "metadata": {}
                },
                {
                    "output_type": "display_data",
                    "data": {
                        "text/html": "(1 row affected)"
                    },
                    "metadata": {}
                },
                {
                    "output_type": "display_data",
                    "data": {
                        "text/html": "(1 row affected)"
                    },
                    "metadata": {}
                },
                {
                    "output_type": "display_data",
                    "data": {
                        "text/html": "(1 row affected)"
                    },
                    "metadata": {}
                },
                {
                    "output_type": "display_data",
                    "data": {
                        "text/html": "(1 row affected)"
                    },
                    "metadata": {}
                },
                {
                    "output_type": "display_data",
                    "data": {
                        "text/html": "(1 row affected)"
                    },
                    "metadata": {}
                },
                {
                    "output_type": "display_data",
                    "data": {
                        "text/html": "(1 row affected)"
                    },
                    "metadata": {}
                },
                {
                    "output_type": "display_data",
                    "data": {
                        "text/html": "(1 row affected)"
                    },
                    "metadata": {}
                },
                {
                    "output_type": "display_data",
                    "data": {
                        "text/html": "(1 row affected)"
                    },
                    "metadata": {}
                },
                {
                    "output_type": "display_data",
                    "data": {
                        "text/html": "(1 row affected)"
                    },
                    "metadata": {}
                },
                {
                    "output_type": "display_data",
                    "data": {
                        "text/html": "(1 row affected)"
                    },
                    "metadata": {}
                },
                {
                    "output_type": "display_data",
                    "data": {
                        "text/html": "(1 row affected)"
                    },
                    "metadata": {}
                },
                {
                    "output_type": "display_data",
                    "data": {
                        "text/html": "(1 row affected)"
                    },
                    "metadata": {}
                },
                {
                    "output_type": "display_data",
                    "data": {
                        "text/html": "(1 row affected)"
                    },
                    "metadata": {}
                },
                {
                    "output_type": "display_data",
                    "data": {
                        "text/html": "(1 row affected)"
                    },
                    "metadata": {}
                },
                {
                    "output_type": "display_data",
                    "data": {
                        "text/html": "(1 row affected)"
                    },
                    "metadata": {}
                },
                {
                    "output_type": "display_data",
                    "data": {
                        "text/html": "(1 row affected)"
                    },
                    "metadata": {}
                },
                {
                    "output_type": "display_data",
                    "data": {
                        "text/html": "(1 row affected)"
                    },
                    "metadata": {}
                },
                {
                    "output_type": "display_data",
                    "data": {
                        "text/html": "(1 row affected)"
                    },
                    "metadata": {}
                },
                {
                    "output_type": "display_data",
                    "data": {
                        "text/html": "(1 row affected)"
                    },
                    "metadata": {}
                },
                {
                    "output_type": "display_data",
                    "data": {
                        "text/html": "(1 row affected)"
                    },
                    "metadata": {}
                },
                {
                    "output_type": "display_data",
                    "data": {
                        "text/html": "(1 row affected)"
                    },
                    "metadata": {}
                },
                {
                    "output_type": "display_data",
                    "data": {
                        "text/html": "(1 row affected)"
                    },
                    "metadata": {}
                },
                {
                    "output_type": "display_data",
                    "data": {
                        "text/html": "(1 row affected)"
                    },
                    "metadata": {}
                },
                {
                    "output_type": "display_data",
                    "data": {
                        "text/html": "(1 row affected)"
                    },
                    "metadata": {}
                },
                {
                    "output_type": "display_data",
                    "data": {
                        "text/html": "(1 row affected)"
                    },
                    "metadata": {}
                },
                {
                    "output_type": "display_data",
                    "data": {
                        "text/html": "(1 row affected)"
                    },
                    "metadata": {}
                },
                {
                    "output_type": "display_data",
                    "data": {
                        "text/html": "(1 row affected)"
                    },
                    "metadata": {}
                },
                {
                    "output_type": "display_data",
                    "data": {
                        "text/html": "(1 row affected)"
                    },
                    "metadata": {}
                },
                {
                    "output_type": "display_data",
                    "data": {
                        "text/html": "(1 row affected)"
                    },
                    "metadata": {}
                },
                {
                    "output_type": "display_data",
                    "data": {
                        "text/html": "(1 row affected)"
                    },
                    "metadata": {}
                },
                {
                    "output_type": "display_data",
                    "data": {
                        "text/html": "(1 row affected)"
                    },
                    "metadata": {}
                },
                {
                    "output_type": "display_data",
                    "data": {
                        "text/html": "(1 row affected)"
                    },
                    "metadata": {}
                },
                {
                    "output_type": "display_data",
                    "data": {
                        "text/html": "(1 row affected)"
                    },
                    "metadata": {}
                },
                {
                    "output_type": "display_data",
                    "data": {
                        "text/html": "(1 row affected)"
                    },
                    "metadata": {}
                },
                {
                    "output_type": "display_data",
                    "data": {
                        "text/html": "(1 row affected)"
                    },
                    "metadata": {}
                },
                {
                    "output_type": "display_data",
                    "data": {
                        "text/html": "(1 row affected)"
                    },
                    "metadata": {}
                },
                {
                    "output_type": "display_data",
                    "data": {
                        "text/html": "(1 row affected)"
                    },
                    "metadata": {}
                },
                {
                    "output_type": "display_data",
                    "data": {
                        "text/html": "(1 row affected)"
                    },
                    "metadata": {}
                },
                {
                    "output_type": "display_data",
                    "data": {
                        "text/html": "(1 row affected)"
                    },
                    "metadata": {}
                },
                {
                    "output_type": "display_data",
                    "data": {
                        "text/html": "(1 row affected)"
                    },
                    "metadata": {}
                },
                {
                    "output_type": "display_data",
                    "data": {
                        "text/html": "(1 row affected)"
                    },
                    "metadata": {}
                },
                {
                    "output_type": "display_data",
                    "data": {
                        "text/html": "Total execution time: 00:00:00.684"
                    },
                    "metadata": {}
                }
            ],
            "execution_count": 18
        },
        {
            "cell_type": "code",
            "source": [
                "--Data into store_orders\r\n",
                "insert into store_orders (store_order_date, store_order_subtotal, store_order_tax, store_order_total) values ('4/1/2022 04:30', 87.86, 7.03, 94.89);\r\n",
                "insert into store_orders (store_order_date, store_order_subtotal, store_order_tax, store_order_total) values ('4/2/2022 03:21', 104.65, 8.37, 113.02);\r\n",
                "insert into store_orders (store_order_date, store_order_subtotal, store_order_tax, store_order_total) values ('4/2/2022 12:50', 81.1, 6.49, 87.59);\r\n",
                "insert into store_orders (store_order_date, store_order_subtotal, store_order_tax, store_order_total) values ('4/2/2022 14:40', 49.1, 3.93, 53.03);\r\n",
                "insert into store_orders (store_order_date, store_order_subtotal, store_order_tax, store_order_total) values ('4/2/2022 19:54', 122.86, 9.83, 132.69);\r\n",
                "insert into store_orders (store_order_date, store_order_subtotal, store_order_tax, store_order_total) values ('4/3/2022 08:39', 59.82, 4.79, 64.61);\r\n",
                "insert into store_orders (store_order_date, store_order_subtotal, store_order_tax, store_order_total) values ('4/3/2022 14:53', 28.99, 2.32, 31.31);\r\n",
                "insert into store_orders (store_order_date, store_order_subtotal, store_order_tax, store_order_total) values ('4/4/2022 08:30', 109.34, 8.75, 118.09);\r\n",
                "insert into store_orders (store_order_date, store_order_subtotal, store_order_tax, store_order_total) values ('4/4/2022 13:01', 35.02, 2.8, 37.82);\r\n",
                "insert into store_orders (store_order_date, store_order_subtotal, store_order_tax, store_order_total) values ('4/4/2022 15:04', 67.75, 5.42, 73.17);\r\n",
                "insert into store_orders (store_order_date, store_order_subtotal, store_order_tax, store_order_total) values ('4/5/2022 16:54', 105.26, 8.42, 113.68);\r\n",
                "insert into store_orders (store_order_date, store_order_subtotal, store_order_tax, store_order_total) values ('4/6/2022 08:09', 33.81, 2.7, 36.51);\r\n",
                "insert into store_orders (store_order_date, store_order_subtotal, store_order_tax, store_order_total) values ('4/6/2022 08:45', 8.07, 0.65, 8.72);\r\n",
                "insert into store_orders (store_order_date, store_order_subtotal, store_order_tax, store_order_total) values ('4/6/2022 10:16', 71.96, 5.76, 77.72);\r\n",
                "insert into store_orders (store_order_date, store_order_subtotal, store_order_tax, store_order_total) values ('4/6/2022 20:25', 120.9, 9.67, 130.57);\r\n",
                "insert into store_orders (store_order_date, store_order_subtotal, store_order_tax, store_order_total) values ('4/7/2022 03:07', 110.62, 8.85, 119.47);\r\n",
                "insert into store_orders (store_order_date, store_order_subtotal, store_order_tax, store_order_total) values ('4/7/2022 05:52', 34.88, 2.79, 37.67);\r\n",
                "insert into store_orders (store_order_date, store_order_subtotal, store_order_tax, store_order_total) values ('4/7/2022 22:47', 25.91, 2.07, 27.98);\r\n",
                "insert into store_orders (store_order_date, store_order_subtotal, store_order_tax, store_order_total) values ('4/8/2022 05:49', 69.53, 5.56, 75.09);\r\n",
                "insert into store_orders (store_order_date, store_order_subtotal, store_order_tax, store_order_total) values ('4/8/2022 21:55', 96.93, 7.75, 104.68);\r\n",
                "insert into store_orders (store_order_date, store_order_subtotal, store_order_tax, store_order_total) values ('4/8/2022 22:43', 45.59, 3.65, 49.24);\r\n",
                "insert into store_orders (store_order_date, store_order_subtotal, store_order_tax, store_order_total) values ('4/9/2022 02:19', 73.91, 5.91, 79.82);\r\n",
                "insert into store_orders (store_order_date, store_order_subtotal, store_order_tax, store_order_total) values ('4/9/2022 18:54', 69.02, 5.52, 74.54);\r\n",
                "insert into store_orders (store_order_date, store_order_subtotal, store_order_tax, store_order_total) values ('4/10/2022 15:21', 6.8, 0.54, 7.34);\r\n",
                "insert into store_orders (store_order_date, store_order_subtotal, store_order_tax, store_order_total) values ('4/11/2022 06:32', 101.03, 8.08, 109.11);\r\n",
                "insert into store_orders (store_order_date, store_order_subtotal, store_order_tax, store_order_total) values ('4/12/2022 02:30', 63.44, 5.08, 68.52);\r\n",
                "insert into store_orders (store_order_date, store_order_subtotal, store_order_tax, store_order_total) values ('4/12/2022 16:48', 109.3, 8.74, 118.04);\r\n",
                "insert into store_orders (store_order_date, store_order_subtotal, store_order_tax, store_order_total) values ('4/12/2022 22:45', 47.3, 3.78, 51.08);\r\n",
                "insert into store_orders (store_order_date, store_order_subtotal, store_order_tax, store_order_total) values ('4/13/2022 05:00', 88.57, 7.09, 95.66);\r\n",
                "insert into store_orders (store_order_date, store_order_subtotal, store_order_tax, store_order_total) values ('4/13/2022 08:07', 115.29, 9.22, 124.51);\r\n",
                "insert into store_orders (store_order_date, store_order_subtotal, store_order_tax, store_order_total) values ('4/13/2022 09:22', 104.53, 8.36, 112.89);\r\n",
                "insert into store_orders (store_order_date, store_order_subtotal, store_order_tax, store_order_total) values ('4/14/2022 20:59', 44.61, 3.57, 48.18);\r\n",
                "insert into store_orders (store_order_date, store_order_subtotal, store_order_tax, store_order_total) values ('4/14/2022 23:28', 91.87, 7.35, 99.22);\r\n",
                "insert into store_orders (store_order_date, store_order_subtotal, store_order_tax, store_order_total) values ('4/15/2022 01:44', 91.16, 7.29, 98.45);\r\n",
                "insert into store_orders (store_order_date, store_order_subtotal, store_order_tax, store_order_total) values ('4/15/2022 07:32', 28.43, 2.27, 30.7);\r\n",
                "insert into store_orders (store_order_date, store_order_subtotal, store_order_tax, store_order_total) values ('4/15/2022 09:52', 39.36, 3.15, 42.51);\r\n",
                "insert into store_orders (store_order_date, store_order_subtotal, store_order_tax, store_order_total) values ('4/16/2022 00:59', 5.74, 0.46, 6.2);\r\n",
                "insert into store_orders (store_order_date, store_order_subtotal, store_order_tax, store_order_total) values ('4/16/2022 12:24', 71.26, 5.7, 76.96);\r\n",
                "insert into store_orders (store_order_date, store_order_subtotal, store_order_tax, store_order_total) values ('4/17/2022 01:26', 57.84, 4.63, 62.47);\r\n",
                "insert into store_orders (store_order_date, store_order_subtotal, store_order_tax, store_order_total) values ('4/18/2022 01:14', 103.7, 8.3, 112);\r\n",
                "insert into store_orders (store_order_date, store_order_subtotal, store_order_tax, store_order_total) values ('4/18/2022 03:38', 116.82, 9.35, 126.17);\r\n",
                "insert into store_orders (store_order_date, store_order_subtotal, store_order_tax, store_order_total) values ('4/18/2022 09:25', 22.44, 1.8, 24.24);\r\n",
                "insert into store_orders (store_order_date, store_order_subtotal, store_order_tax, store_order_total) values ('4/18/2022 12:42', 8.42, 0.67, 9.09);\r\n",
                "insert into store_orders (store_order_date, store_order_subtotal, store_order_tax, store_order_total) values ('4/18/2022 13:25', 74.66, 5.97, 80.63);\r\n",
                "insert into store_orders (store_order_date, store_order_subtotal, store_order_tax, store_order_total) values ('4/18/2022 23:21', 93.8, 7.5, 101.3);\r\n",
                "insert into store_orders (store_order_date, store_order_subtotal, store_order_tax, store_order_total) values ('4/19/2022 00:05', 41.41, 3.31, 44.72);\r\n",
                "insert into store_orders (store_order_date, store_order_subtotal, store_order_tax, store_order_total) values ('4/19/2022 06:02', 59.38, 4.75, 64.13);\r\n",
                "insert into store_orders (store_order_date, store_order_subtotal, store_order_tax, store_order_total) values ('4/19/2022 21:11', 8.63, 0.69, 9.32);\r\n",
                "insert into store_orders (store_order_date, store_order_subtotal, store_order_tax, store_order_total) values ('4/20/2022 02:12', 124.78, 9.98, 134.76);\r\n",
                "insert into store_orders (store_order_date, store_order_subtotal, store_order_tax, store_order_total) values ('4/20/2022 05:43', 21.22, 1.7, 22.92);\r\n",
                "insert into store_orders (store_order_date, store_order_subtotal, store_order_tax, store_order_total) values ('4/20/2022 17:24', 62.47, 5, 67.47);\r\n",
                "insert into store_orders (store_order_date, store_order_subtotal, store_order_tax, store_order_total) values ('4/22/2022 00:31', 126.99, 10.16, 137.15);\r\n",
                "insert into store_orders (store_order_date, store_order_subtotal, store_order_tax, store_order_total) values ('4/22/2022 00:33', 11.7, 0.94, 12.64);\r\n",
                "insert into store_orders (store_order_date, store_order_subtotal, store_order_tax, store_order_total) values ('4/22/2022 16:43', 21.9, 1.75, 23.65);\r\n",
                "insert into store_orders (store_order_date, store_order_subtotal, store_order_tax, store_order_total) values ('4/23/2022 21:51', 100.52, 8.04, 108.56);\r\n",
                "insert into store_orders (store_order_date, store_order_subtotal, store_order_tax, store_order_total) values ('4/24/2022 03:52', 103.66, 8.29, 111.95);\r\n",
                "insert into store_orders (store_order_date, store_order_subtotal, store_order_tax, store_order_total) values ('4/24/2022 22:29', 102.25, 8.18, 110.43);\r\n",
                "insert into store_orders (store_order_date, store_order_subtotal, store_order_tax, store_order_total) values ('4/25/2022 07:22', 65.97, 5.28, 71.25);\r\n",
                "insert into store_orders (store_order_date, store_order_subtotal, store_order_tax, store_order_total) values ('4/25/2022 07:45', 83.26, 6.66, 89.92);\r\n",
                "insert into store_orders (store_order_date, store_order_subtotal, store_order_tax, store_order_total) values ('4/25/2022 11:31', 114.75, 9.18, 123.93);\r\n",
                "insert into store_orders (store_order_date, store_order_subtotal, store_order_tax, store_order_total) values ('4/25/2022 14:30', 85.14, 6.81, 91.95);\r\n",
                "insert into store_orders (store_order_date, store_order_subtotal, store_order_tax, store_order_total) values ('4/25/2022 17:04', 99.79, 7.98, 107.77);\r\n",
                "insert into store_orders (store_order_date, store_order_subtotal, store_order_tax, store_order_total) values ('4/25/2022 21:01', 40.55, 3.24, 43.79);\r\n",
                "insert into store_orders (store_order_date, store_order_subtotal, store_order_tax, store_order_total) values ('4/25/2022 21:24', 112.45, 9, 121.45);\r\n",
                "insert into store_orders (store_order_date, store_order_subtotal, store_order_tax, store_order_total) values ('4/26/2022 07:01', 86.29, 6.9, 93.19);\r\n",
                "insert into store_orders (store_order_date, store_order_subtotal, store_order_tax, store_order_total) values ('4/26/2022 11:57', 94.93, 7.59, 102.52);\r\n",
                "insert into store_orders (store_order_date, store_order_subtotal, store_order_tax, store_order_total) values ('4/26/2022 23:15', 14.16, 1.13, 15.29);\r\n",
                "insert into store_orders (store_order_date, store_order_subtotal, store_order_tax, store_order_total) values ('4/27/2022 06:18', 85, 6.8, 91.8);\r\n",
                "insert into store_orders (store_order_date, store_order_subtotal, store_order_tax, store_order_total) values ('4/27/2022 13:42', 32.64, 2.61, 35.25);\r\n",
                "insert into store_orders (store_order_date, store_order_subtotal, store_order_tax, store_order_total) values ('4/28/2022 20:41', 74.42, 5.95, 80.37);\r\n",
                "insert into store_orders (store_order_date, store_order_subtotal, store_order_tax, store_order_total) values ('4/29/2022 02:02', 61.85, 4.95, 66.8);\r\n",
                "insert into store_orders (store_order_date, store_order_subtotal, store_order_tax, store_order_total) values ('4/30/2022 00:11', 112.78, 9.02, 121.8);\r\n",
                "insert into store_orders (store_order_date, store_order_subtotal, store_order_tax, store_order_total) values ('5/1/2022 00:36', 64.52, 5.16, 69.68);\r\n",
                "insert into store_orders (store_order_date, store_order_subtotal, store_order_tax, store_order_total) values ('5/2/2022 04:02', 13.53, 1.08, 14.61);\r\n",
                "insert into store_orders (store_order_date, store_order_subtotal, store_order_tax, store_order_total) values ('5/2/2022 08:05', 93.43, 7.47, 100.9);\r\n",
                "insert into store_orders (store_order_date, store_order_subtotal, store_order_tax, store_order_total) values ('5/2/2022 17:49', 103.43, 8.27, 111.7);\r\n",
                "insert into store_orders (store_order_date, store_order_subtotal, store_order_tax, store_order_total) values ('5/3/2022 00:22', 85.68, 6.85, 92.53);\r\n",
                "insert into store_orders (store_order_date, store_order_subtotal, store_order_tax, store_order_total) values ('5/3/2022 15:15', 60.75, 4.86, 65.61);\r\n",
                "insert into store_orders (store_order_date, store_order_subtotal, store_order_tax, store_order_total) values ('5/3/2022 23:02', 85.94, 6.88, 92.82);\r\n",
                "insert into store_orders (store_order_date, store_order_subtotal, store_order_tax, store_order_total) values ('5/4/2022 13:54', 72.38, 5.79, 78.17);\r\n",
                "insert into store_orders (store_order_date, store_order_subtotal, store_order_tax, store_order_total) values ('5/5/2022 07:49', 32.95, 2.64, 35.59);\r\n",
                "insert into store_orders (store_order_date, store_order_subtotal, store_order_tax, store_order_total) values ('5/5/2022 10:01', 109.55, 8.76, 118.31);\r\n",
                "insert into store_orders (store_order_date, store_order_subtotal, store_order_tax, store_order_total) values ('5/5/2022 11:22', 29.92, 2.39, 32.31);\r\n",
                "insert into store_orders (store_order_date, store_order_subtotal, store_order_tax, store_order_total) values ('5/5/2022 23:51', 35.1, 2.81, 37.91);\r\n",
                "insert into store_orders (store_order_date, store_order_subtotal, store_order_tax, store_order_total) values ('5/6/2022 02:58', 63.6, 5.09, 68.69);\r\n",
                "insert into store_orders (store_order_date, store_order_subtotal, store_order_tax, store_order_total) values ('5/6/2022 08:45', 62.21, 4.98, 67.19);\r\n",
                "insert into store_orders (store_order_date, store_order_subtotal, store_order_tax, store_order_total) values ('5/6/2022 14:28', 38.9, 3.11, 42.01);\r\n",
                "insert into store_orders (store_order_date, store_order_subtotal, store_order_tax, store_order_total) values ('5/7/2022 04:36', 117.19, 9.38, 126.57);\r\n",
                "insert into store_orders (store_order_date, store_order_subtotal, store_order_tax, store_order_total) values ('5/8/2022 14:48', 108.46, 8.68, 117.14);\r\n",
                "insert into store_orders (store_order_date, store_order_subtotal, store_order_tax, store_order_total) values ('5/8/2022 16:17', 27.89, 2.23, 30.12);\r\n",
                "insert into store_orders (store_order_date, store_order_subtotal, store_order_tax, store_order_total) values ('5/8/2022 22:07', 104.96, 8.4, 113.36);\r\n",
                "insert into store_orders (store_order_date, store_order_subtotal, store_order_tax, store_order_total) values ('5/9/2022 05:44', 46.66, 3.73, 50.39);\r\n",
                "insert into store_orders (store_order_date, store_order_subtotal, store_order_tax, store_order_total) values ('5/10/2022 04:17', 87.41, 6.99, 94.4);\r\n",
                "insert into store_orders (store_order_date, store_order_subtotal, store_order_tax, store_order_total) values ('5/10/2022 08:49', 96.27, 7.7, 103.97);\r\n",
                "insert into store_orders (store_order_date, store_order_subtotal, store_order_tax, store_order_total) values ('5/10/2022 16:40', 86.83, 6.95, 93.78);\r\n",
                "insert into store_orders (store_order_date, store_order_subtotal, store_order_tax, store_order_total) values ('5/10/2022 16:49', 56.75, 4.54, 61.29);\r\n",
                "insert into store_orders (store_order_date, store_order_subtotal, store_order_tax, store_order_total) values ('5/11/2022 01:21', 21.6, 1.73, 23.33);\r\n",
                "insert into store_orders (store_order_date, store_order_subtotal, store_order_tax, store_order_total) values ('5/11/2022 02:34', 76.3, 6.1, 82.4);\r\n",
                "insert into store_orders (store_order_date, store_order_subtotal, store_order_tax, store_order_total) values ('5/11/2022 12:28', 17.34, 1.39, 18.73);\r\n",
                "insert into store_orders (store_order_date, store_order_subtotal, store_order_tax, store_order_total) values ('5/11/2022 23:20', 63.42, 5.07, 68.49);\r\n",
                "insert into store_orders (store_order_date, store_order_subtotal, store_order_tax, store_order_total) values ('5/12/2022 02:05', 99.81, 7.98, 107.79);\r\n",
                "insert into store_orders (store_order_date, store_order_subtotal, store_order_tax, store_order_total) values ('5/12/2022 02:11', 110.62, 8.85, 119.47);\r\n",
                "insert into store_orders (store_order_date, store_order_subtotal, store_order_tax, store_order_total) values ('5/13/2022 01:18', 79.9, 6.39, 86.29);\r\n",
                "insert into store_orders (store_order_date, store_order_subtotal, store_order_tax, store_order_total) values ('5/13/2022 14:38', 8.77, 0.7, 9.47);\r\n",
                "insert into store_orders (store_order_date, store_order_subtotal, store_order_tax, store_order_total) values ('5/14/2022 01:18', 86.24, 6.9, 93.14);\r\n",
                "insert into store_orders (store_order_date, store_order_subtotal, store_order_tax, store_order_total) values ('5/14/2022 10:56', 6.52, 0.52, 7.04);\r\n",
                "insert into store_orders (store_order_date, store_order_subtotal, store_order_tax, store_order_total) values ('5/14/2022 19:52', 89.2, 7.14, 96.34);\r\n",
                "insert into store_orders (store_order_date, store_order_subtotal, store_order_tax, store_order_total) values ('5/15/2022 01:55', 64.6, 5.17, 69.77);\r\n",
                "insert into store_orders (store_order_date, store_order_subtotal, store_order_tax, store_order_total) values ('5/15/2022 14:05', 18.35, 1.47, 19.82);\r\n",
                "insert into store_orders (store_order_date, store_order_subtotal, store_order_tax, store_order_total) values ('5/16/2022 08:23', 56.87, 4.55, 61.42);\r\n",
                "insert into store_orders (store_order_date, store_order_subtotal, store_order_tax, store_order_total) values ('5/16/2022 21:52', 20.02, 1.6, 21.62);\r\n",
                "insert into store_orders (store_order_date, store_order_subtotal, store_order_tax, store_order_total) values ('5/17/2022 18:53', 41.31, 3.3, 44.61);\r\n",
                "insert into store_orders (store_order_date, store_order_subtotal, store_order_tax, store_order_total) values ('5/17/2022 20:37', 95.14, 7.61, 102.75);\r\n",
                "insert into store_orders (store_order_date, store_order_subtotal, store_order_tax, store_order_total) values ('5/17/2022 22:12', 44.71, 3.58, 48.29);\r\n",
                "insert into store_orders (store_order_date, store_order_subtotal, store_order_tax, store_order_total) values ('5/17/2022 23:19', 57.66, 4.61, 62.27);\r\n",
                "insert into store_orders (store_order_date, store_order_subtotal, store_order_tax, store_order_total) values ('5/18/2022 02:23', 58.37, 4.67, 63.04);\r\n",
                "insert into store_orders (store_order_date, store_order_subtotal, store_order_tax, store_order_total) values ('5/18/2022 09:17', 125.97, 10.08, 136.05);\r\n",
                "insert into store_orders (store_order_date, store_order_subtotal, store_order_tax, store_order_total) values ('5/18/2022 13:53', 71.88, 5.75, 77.63);\r\n",
                "insert into store_orders (store_order_date, store_order_subtotal, store_order_tax, store_order_total) values ('5/18/2022 16:11', 108.46, 8.68, 117.14);\r\n",
                "insert into store_orders (store_order_date, store_order_subtotal, store_order_tax, store_order_total) values ('5/18/2022 19:07', 98.15, 7.85, 106);\r\n",
                "insert into store_orders (store_order_date, store_order_subtotal, store_order_tax, store_order_total) values ('5/19/2022 01:40', 6.12, 0.49, 6.61);\r\n",
                "insert into store_orders (store_order_date, store_order_subtotal, store_order_tax, store_order_total) values ('5/19/2022 06:04', 13, 1.04, 14.04);\r\n",
                "insert into store_orders (store_order_date, store_order_subtotal, store_order_tax, store_order_total) values ('5/19/2022 22:59', 42.47, 3.4, 45.87);\r\n",
                "insert into store_orders (store_order_date, store_order_subtotal, store_order_tax, store_order_total) values ('5/20/2022 10:42', 52.15, 4.17, 56.32);\r\n",
                "insert into store_orders (store_order_date, store_order_subtotal, store_order_tax, store_order_total) values ('5/20/2022 21:22', 86.7, 6.94, 93.64);\r\n",
                "insert into store_orders (store_order_date, store_order_subtotal, store_order_tax, store_order_total) values ('5/20/2022 21:55', 78.88, 6.31, 85.19);\r\n",
                "insert into store_orders (store_order_date, store_order_subtotal, store_order_tax, store_order_total) values ('5/20/2022 22:55', 16.01, 1.28, 17.29);\r\n",
                "insert into store_orders (store_order_date, store_order_subtotal, store_order_tax, store_order_total) values ('5/21/2022 15:41', 7.5, 0.6, 8.1);\r\n",
                "insert into store_orders (store_order_date, store_order_subtotal, store_order_tax, store_order_total) values ('5/21/2022 19:03', 112.68, 9.01, 121.69);\r\n",
                "insert into store_orders (store_order_date, store_order_subtotal, store_order_tax, store_order_total) values ('5/22/2022 15:05', 105.66, 8.45, 114.11);\r\n",
                "insert into store_orders (store_order_date, store_order_subtotal, store_order_tax, store_order_total) values ('5/23/2022 01:09', 58.29, 4.66, 62.95);\r\n",
                "insert into store_orders (store_order_date, store_order_subtotal, store_order_tax, store_order_total) values ('5/23/2022 07:22', 66.02, 5.28, 71.3);\r\n",
                "insert into store_orders (store_order_date, store_order_subtotal, store_order_tax, store_order_total) values ('5/24/2022 01:54', 95.93, 7.67, 103.6);\r\n",
                "insert into store_orders (store_order_date, store_order_subtotal, store_order_tax, store_order_total) values ('5/24/2022 04:11', 5.61, 0.45, 6.06);\r\n",
                "insert into store_orders (store_order_date, store_order_subtotal, store_order_tax, store_order_total) values ('5/24/2022 19:45', 23.56, 1.88, 25.44);\r\n",
                "insert into store_orders (store_order_date, store_order_subtotal, store_order_tax, store_order_total) values ('5/25/2022 11:10', 8.67, 0.69, 9.36);\r\n",
                "insert into store_orders (store_order_date, store_order_subtotal, store_order_tax, store_order_total) values ('5/25/2022 13:23', 97.23, 7.78, 105.01);\r\n",
                "insert into store_orders (store_order_date, store_order_subtotal, store_order_tax, store_order_total) values ('5/26/2022 05:24', 26.52, 2.12, 28.64);\r\n",
                "insert into store_orders (store_order_date, store_order_subtotal, store_order_tax, store_order_total) values ('5/26/2022 16:45', 68.93, 5.51, 74.44);\r\n",
                "insert into store_orders (store_order_date, store_order_subtotal, store_order_tax, store_order_total) values ('5/27/2022 02:39', 73.29, 5.86, 79.15);\r\n",
                "insert into store_orders (store_order_date, store_order_subtotal, store_order_tax, store_order_total) values ('5/27/2022 22:40', 31.52, 2.52, 34.04);\r\n",
                "insert into store_orders (store_order_date, store_order_subtotal, store_order_tax, store_order_total) values ('5/28/2022 06:33', 112.98, 9.04, 122.02);\r\n",
                "insert into store_orders (store_order_date, store_order_subtotal, store_order_tax, store_order_total) values ('5/28/2022 08:44', 57.07, 4.57, 61.64);\r\n",
                "insert into store_orders (store_order_date, store_order_subtotal, store_order_tax, store_order_total) values ('5/29/2022 04:16', 21.08, 1.69, 22.77);\r\n",
                "insert into store_orders (store_order_date, store_order_subtotal, store_order_tax, store_order_total) values ('5/29/2022 12:08', 39.45, 3.16, 42.61);\r\n",
                "insert into store_orders (store_order_date, store_order_subtotal, store_order_tax, store_order_total) values ('5/29/2022 15:18', 102.31, 8.18, 110.49);\r\n",
                "insert into store_orders (store_order_date, store_order_subtotal, store_order_tax, store_order_total) values ('5/29/2022 16:34', 24.75, 1.98, 26.73);\r\n",
                "insert into store_orders (store_order_date, store_order_subtotal, store_order_tax, store_order_total) values ('5/29/2022 18:29', 56.27, 4.5, 60.77);\r\n",
                "insert into store_orders (store_order_date, store_order_subtotal, store_order_tax, store_order_total) values ('5/30/2022 13:15', 86.4, 6.91, 93.31);\r\n",
                "insert into store_orders (store_order_date, store_order_subtotal, store_order_tax, store_order_total) values ('5/30/2022 19:42', 27.8, 2.22, 30.02);\r\n",
                "insert into store_orders (store_order_date, store_order_subtotal, store_order_tax, store_order_total) values ('5/31/2022 13:49', 51.88, 4.15, 56.03);\r\n",
                "insert into store_orders (store_order_date, store_order_subtotal, store_order_tax, store_order_total) values ('6/1/2022 16:17', 103.56, 8.28, 111.84);\r\n",
                "insert into store_orders (store_order_date, store_order_subtotal, store_order_tax, store_order_total) values ('6/1/2022 18:37', 21.06, 1.68, 22.74);\r\n",
                "insert into store_orders (store_order_date, store_order_subtotal, store_order_tax, store_order_total) values ('6/1/2022 20:48', 54.03, 4.32, 58.35);\r\n",
                "insert into store_orders (store_order_date, store_order_subtotal, store_order_tax, store_order_total) values ('6/1/2022 23:54', 96.01, 7.68, 103.69);\r\n",
                "insert into store_orders (store_order_date, store_order_subtotal, store_order_tax, store_order_total) values ('6/2/2022 05:21', 85.56, 6.84, 92.4);\r\n",
                "insert into store_orders (store_order_date, store_order_subtotal, store_order_tax, store_order_total) values ('6/2/2022 11:32', 89.25, 7.14, 96.39);\r\n",
                "insert into store_orders (store_order_date, store_order_subtotal, store_order_tax, store_order_total) values ('6/2/2022 13:21', 22.87, 1.83, 24.7);\r\n",
                "insert into store_orders (store_order_date, store_order_subtotal, store_order_tax, store_order_total) values ('6/4/2022 03:29', 58.34, 4.67, 63.01);\r\n",
                "insert into store_orders (store_order_date, store_order_subtotal, store_order_tax, store_order_total) values ('6/4/2022 19:06', 59.74, 4.78, 64.52);\r\n",
                "insert into store_orders (store_order_date, store_order_subtotal, store_order_tax, store_order_total) values ('6/7/2022 08:58', 7.88, 0.63, 8.51);\r\n",
                "insert into store_orders (store_order_date, store_order_subtotal, store_order_tax, store_order_total) values ('6/7/2022 13:15', 36.11, 2.89, 39);\r\n",
                "insert into store_orders (store_order_date, store_order_subtotal, store_order_tax, store_order_total) values ('6/8/2022 02:22', 19.72, 1.58, 21.3);\r\n",
                "insert into store_orders (store_order_date, store_order_subtotal, store_order_tax, store_order_total) values ('6/8/2022 20:35', 87.01, 6.96, 93.97);\r\n",
                "insert into store_orders (store_order_date, store_order_subtotal, store_order_tax, store_order_total) values ('6/9/2022 15:52', 68.51, 5.48, 73.99);\r\n",
                "insert into store_orders (store_order_date, store_order_subtotal, store_order_tax, store_order_total) values ('6/11/2022 03:48', 54.77, 4.38, 59.15);\r\n",
                "insert into store_orders (store_order_date, store_order_subtotal, store_order_tax, store_order_total) values ('6/11/2022 11:35', 20.61, 1.65, 22.26);\r\n",
                "insert into store_orders (store_order_date, store_order_subtotal, store_order_tax, store_order_total) values ('6/12/2022 14:32', 19.2, 1.54, 20.74);\r\n",
                "insert into store_orders (store_order_date, store_order_subtotal, store_order_tax, store_order_total) values ('6/13/2022 09:37', 13.37, 1.07, 14.44);\r\n",
                "insert into store_orders (store_order_date, store_order_subtotal, store_order_tax, store_order_total) values ('6/13/2022 12:15', 60.68, 4.85, 65.53);\r\n",
                "insert into store_orders (store_order_date, store_order_subtotal, store_order_tax, store_order_total) values ('6/14/2022 04:49', 47.66, 3.81, 51.47);\r\n",
                "insert into store_orders (store_order_date, store_order_subtotal, store_order_tax, store_order_total) values ('6/15/2022 07:35', 44.61, 3.57, 48.18);\r\n",
                "insert into store_orders (store_order_date, store_order_subtotal, store_order_tax, store_order_total) values ('6/15/2022 09:31', 126.26, 10.1, 136.36);\r\n",
                "insert into store_orders (store_order_date, store_order_subtotal, store_order_tax, store_order_total) values ('6/16/2022 18:20', 127.19, 10.18, 137.37);\r\n",
                "insert into store_orders (store_order_date, store_order_subtotal, store_order_tax, store_order_total) values ('6/17/2022 15:09', 111.74, 8.94, 120.68);\r\n",
                "insert into store_orders (store_order_date, store_order_subtotal, store_order_tax, store_order_total) values ('6/18/2022 08:53', 116.35, 9.31, 125.66);\r\n",
                "insert into store_orders (store_order_date, store_order_subtotal, store_order_tax, store_order_total) values ('6/18/2022 09:19', 7.82, 0.63, 8.45);\r\n",
                "insert into store_orders (store_order_date, store_order_subtotal, store_order_tax, store_order_total) values ('6/18/2022 22:57', 60.78, 4.86, 65.64);\r\n",
                "insert into store_orders (store_order_date, store_order_subtotal, store_order_tax, store_order_total) values ('6/20/2022 01:36', 123.84, 9.91, 133.75);\r\n",
                "insert into store_orders (store_order_date, store_order_subtotal, store_order_tax, store_order_total) values ('6/20/2022 04:36', 58.29, 4.66, 62.95);\r\n",
                "insert into store_orders (store_order_date, store_order_subtotal, store_order_tax, store_order_total) values ('6/21/2022 04:01', 10.84, 0.87, 11.71);\r\n",
                "insert into store_orders (store_order_date, store_order_subtotal, store_order_tax, store_order_total) values ('6/21/2022 07:32', 116.62, 9.33, 125.95);\r\n",
                "insert into store_orders (store_order_date, store_order_subtotal, store_order_tax, store_order_total) values ('6/21/2022 12:20', 71.88, 5.75, 77.63);\r\n",
                "insert into store_orders (store_order_date, store_order_subtotal, store_order_tax, store_order_total) values ('6/22/2022 01:49', 107.37, 8.59, 115.96);\r\n",
                "insert into store_orders (store_order_date, store_order_subtotal, store_order_tax, store_order_total) values ('6/22/2022 04:03', 72.76, 5.82, 78.58);\r\n",
                "insert into store_orders (store_order_date, store_order_subtotal, store_order_tax, store_order_total) values ('6/22/2022 13:16', 85, 6.8, 91.8);\r\n",
                "insert into store_orders (store_order_date, store_order_subtotal, store_order_tax, store_order_total) values ('6/23/2022 19:02', 102.94, 8.24, 111.18);\r\n",
                "insert into store_orders (store_order_date, store_order_subtotal, store_order_tax, store_order_total) values ('6/23/2022 22:51', 127.25, 10.18, 137.43);\r\n",
                "insert into store_orders (store_order_date, store_order_subtotal, store_order_tax, store_order_total) values ('6/24/2022 07:44', 65.25, 5.22, 70.47);\r\n",
                "insert into store_orders (store_order_date, store_order_subtotal, store_order_tax, store_order_total) values ('6/24/2022 15:21', 10.1, 0.81, 10.91);\r\n",
                "insert into store_orders (store_order_date, store_order_subtotal, store_order_tax, store_order_total) values ('6/25/2022 19:55', 75.79, 6.06, 81.85);\r\n",
                "insert into store_orders (store_order_date, store_order_subtotal, store_order_tax, store_order_total) values ('6/26/2022 05:38', 109.96, 8.8, 118.76);\r\n",
                "insert into store_orders (store_order_date, store_order_subtotal, store_order_tax, store_order_total) values ('6/26/2022 08:37', 62.58, 5.01, 67.59);\r\n",
                "insert into store_orders (store_order_date, store_order_subtotal, store_order_tax, store_order_total) values ('6/26/2022 19:13', 58.73, 4.7, 63.43);\r\n",
                "insert into store_orders (store_order_date, store_order_subtotal, store_order_tax, store_order_total) values ('6/27/2022 00:47', 58.73, 4.7, 63.43);\r\n",
                "insert into store_orders (store_order_date, store_order_subtotal, store_order_tax, store_order_total) values ('6/27/2022 05:39', 40.38, 3.23, 43.61);\r\n",
                "insert into store_orders (store_order_date, store_order_subtotal, store_order_tax, store_order_total) values ('6/27/2022 13:48', 84.83, 6.79, 91.62);\r\n",
                "insert into store_orders (store_order_date, store_order_subtotal, store_order_tax, store_order_total) values ('6/29/2022 13:03', 125.12, 10.01, 135.13);\r\n",
                "insert into store_orders (store_order_date, store_order_subtotal, store_order_tax, store_order_total) values ('6/29/2022 16:25', 66.54, 5.32, 71.86);\r\n",
                "insert into store_orders (store_order_date, store_order_subtotal, store_order_tax, store_order_total) values ('6/29/2022 22:58', 16.42, 1.31, 17.73);\r\n",
                ""
            ],
            "metadata": {
                "language": "sql",
                "azdata_cell_guid": "cc06254b-01f4-4eab-8e72-25f53edd340d",
                "tags": [
                    "hide_input"
                ]
            },
            "outputs": [
                {
                    "output_type": "display_data",
                    "data": {
                        "text/html": "(1 row affected)"
                    },
                    "metadata": {}
                },
                {
                    "output_type": "display_data",
                    "data": {
                        "text/html": "(1 row affected)"
                    },
                    "metadata": {}
                },
                {
                    "output_type": "display_data",
                    "data": {
                        "text/html": "(1 row affected)"
                    },
                    "metadata": {}
                },
                {
                    "output_type": "display_data",
                    "data": {
                        "text/html": "(1 row affected)"
                    },
                    "metadata": {}
                },
                {
                    "output_type": "display_data",
                    "data": {
                        "text/html": "(1 row affected)"
                    },
                    "metadata": {}
                },
                {
                    "output_type": "display_data",
                    "data": {
                        "text/html": "(1 row affected)"
                    },
                    "metadata": {}
                },
                {
                    "output_type": "display_data",
                    "data": {
                        "text/html": "(1 row affected)"
                    },
                    "metadata": {}
                },
                {
                    "output_type": "display_data",
                    "data": {
                        "text/html": "(1 row affected)"
                    },
                    "metadata": {}
                },
                {
                    "output_type": "display_data",
                    "data": {
                        "text/html": "(1 row affected)"
                    },
                    "metadata": {}
                },
                {
                    "output_type": "display_data",
                    "data": {
                        "text/html": "(1 row affected)"
                    },
                    "metadata": {}
                },
                {
                    "output_type": "display_data",
                    "data": {
                        "text/html": "(1 row affected)"
                    },
                    "metadata": {}
                },
                {
                    "output_type": "display_data",
                    "data": {
                        "text/html": "(1 row affected)"
                    },
                    "metadata": {}
                },
                {
                    "output_type": "display_data",
                    "data": {
                        "text/html": "(1 row affected)"
                    },
                    "metadata": {}
                },
                {
                    "output_type": "display_data",
                    "data": {
                        "text/html": "(1 row affected)"
                    },
                    "metadata": {}
                },
                {
                    "output_type": "display_data",
                    "data": {
                        "text/html": "(1 row affected)"
                    },
                    "metadata": {}
                },
                {
                    "output_type": "display_data",
                    "data": {
                        "text/html": "(1 row affected)"
                    },
                    "metadata": {}
                },
                {
                    "output_type": "display_data",
                    "data": {
                        "text/html": "(1 row affected)"
                    },
                    "metadata": {}
                },
                {
                    "output_type": "display_data",
                    "data": {
                        "text/html": "(1 row affected)"
                    },
                    "metadata": {}
                },
                {
                    "output_type": "display_data",
                    "data": {
                        "text/html": "(1 row affected)"
                    },
                    "metadata": {}
                },
                {
                    "output_type": "display_data",
                    "data": {
                        "text/html": "(1 row affected)"
                    },
                    "metadata": {}
                },
                {
                    "output_type": "display_data",
                    "data": {
                        "text/html": "(1 row affected)"
                    },
                    "metadata": {}
                },
                {
                    "output_type": "display_data",
                    "data": {
                        "text/html": "(1 row affected)"
                    },
                    "metadata": {}
                },
                {
                    "output_type": "display_data",
                    "data": {
                        "text/html": "(1 row affected)"
                    },
                    "metadata": {}
                },
                {
                    "output_type": "display_data",
                    "data": {
                        "text/html": "(1 row affected)"
                    },
                    "metadata": {}
                },
                {
                    "output_type": "display_data",
                    "data": {
                        "text/html": "(1 row affected)"
                    },
                    "metadata": {}
                },
                {
                    "output_type": "display_data",
                    "data": {
                        "text/html": "(1 row affected)"
                    },
                    "metadata": {}
                },
                {
                    "output_type": "display_data",
                    "data": {
                        "text/html": "(1 row affected)"
                    },
                    "metadata": {}
                },
                {
                    "output_type": "display_data",
                    "data": {
                        "text/html": "(1 row affected)"
                    },
                    "metadata": {}
                },
                {
                    "output_type": "display_data",
                    "data": {
                        "text/html": "(1 row affected)"
                    },
                    "metadata": {}
                },
                {
                    "output_type": "display_data",
                    "data": {
                        "text/html": "(1 row affected)"
                    },
                    "metadata": {}
                },
                {
                    "output_type": "display_data",
                    "data": {
                        "text/html": "(1 row affected)"
                    },
                    "metadata": {}
                },
                {
                    "output_type": "display_data",
                    "data": {
                        "text/html": "(1 row affected)"
                    },
                    "metadata": {}
                },
                {
                    "output_type": "display_data",
                    "data": {
                        "text/html": "(1 row affected)"
                    },
                    "metadata": {}
                },
                {
                    "output_type": "display_data",
                    "data": {
                        "text/html": "(1 row affected)"
                    },
                    "metadata": {}
                },
                {
                    "output_type": "display_data",
                    "data": {
                        "text/html": "(1 row affected)"
                    },
                    "metadata": {}
                },
                {
                    "output_type": "display_data",
                    "data": {
                        "text/html": "(1 row affected)"
                    },
                    "metadata": {}
                },
                {
                    "output_type": "display_data",
                    "data": {
                        "text/html": "(1 row affected)"
                    },
                    "metadata": {}
                },
                {
                    "output_type": "display_data",
                    "data": {
                        "text/html": "(1 row affected)"
                    },
                    "metadata": {}
                },
                {
                    "output_type": "display_data",
                    "data": {
                        "text/html": "(1 row affected)"
                    },
                    "metadata": {}
                },
                {
                    "output_type": "display_data",
                    "data": {
                        "text/html": "(1 row affected)"
                    },
                    "metadata": {}
                },
                {
                    "output_type": "display_data",
                    "data": {
                        "text/html": "(1 row affected)"
                    },
                    "metadata": {}
                },
                {
                    "output_type": "display_data",
                    "data": {
                        "text/html": "(1 row affected)"
                    },
                    "metadata": {}
                },
                {
                    "output_type": "display_data",
                    "data": {
                        "text/html": "(1 row affected)"
                    },
                    "metadata": {}
                },
                {
                    "output_type": "display_data",
                    "data": {
                        "text/html": "(1 row affected)"
                    },
                    "metadata": {}
                },
                {
                    "output_type": "display_data",
                    "data": {
                        "text/html": "(1 row affected)"
                    },
                    "metadata": {}
                },
                {
                    "output_type": "display_data",
                    "data": {
                        "text/html": "(1 row affected)"
                    },
                    "metadata": {}
                },
                {
                    "output_type": "display_data",
                    "data": {
                        "text/html": "(1 row affected)"
                    },
                    "metadata": {}
                },
                {
                    "output_type": "display_data",
                    "data": {
                        "text/html": "(1 row affected)"
                    },
                    "metadata": {}
                },
                {
                    "output_type": "display_data",
                    "data": {
                        "text/html": "(1 row affected)"
                    },
                    "metadata": {}
                },
                {
                    "output_type": "display_data",
                    "data": {
                        "text/html": "(1 row affected)"
                    },
                    "metadata": {}
                },
                {
                    "output_type": "display_data",
                    "data": {
                        "text/html": "(1 row affected)"
                    },
                    "metadata": {}
                },
                {
                    "output_type": "display_data",
                    "data": {
                        "text/html": "(1 row affected)"
                    },
                    "metadata": {}
                },
                {
                    "output_type": "display_data",
                    "data": {
                        "text/html": "(1 row affected)"
                    },
                    "metadata": {}
                },
                {
                    "output_type": "display_data",
                    "data": {
                        "text/html": "(1 row affected)"
                    },
                    "metadata": {}
                },
                {
                    "output_type": "display_data",
                    "data": {
                        "text/html": "(1 row affected)"
                    },
                    "metadata": {}
                },
                {
                    "output_type": "display_data",
                    "data": {
                        "text/html": "(1 row affected)"
                    },
                    "metadata": {}
                },
                {
                    "output_type": "display_data",
                    "data": {
                        "text/html": "(1 row affected)"
                    },
                    "metadata": {}
                },
                {
                    "output_type": "display_data",
                    "data": {
                        "text/html": "(1 row affected)"
                    },
                    "metadata": {}
                },
                {
                    "output_type": "display_data",
                    "data": {
                        "text/html": "(1 row affected)"
                    },
                    "metadata": {}
                },
                {
                    "output_type": "display_data",
                    "data": {
                        "text/html": "(1 row affected)"
                    },
                    "metadata": {}
                },
                {
                    "output_type": "display_data",
                    "data": {
                        "text/html": "(1 row affected)"
                    },
                    "metadata": {}
                },
                {
                    "output_type": "display_data",
                    "data": {
                        "text/html": "(1 row affected)"
                    },
                    "metadata": {}
                },
                {
                    "output_type": "display_data",
                    "data": {
                        "text/html": "(1 row affected)"
                    },
                    "metadata": {}
                },
                {
                    "output_type": "display_data",
                    "data": {
                        "text/html": "(1 row affected)"
                    },
                    "metadata": {}
                },
                {
                    "output_type": "display_data",
                    "data": {
                        "text/html": "(1 row affected)"
                    },
                    "metadata": {}
                },
                {
                    "output_type": "display_data",
                    "data": {
                        "text/html": "(1 row affected)"
                    },
                    "metadata": {}
                },
                {
                    "output_type": "display_data",
                    "data": {
                        "text/html": "(1 row affected)"
                    },
                    "metadata": {}
                },
                {
                    "output_type": "display_data",
                    "data": {
                        "text/html": "(1 row affected)"
                    },
                    "metadata": {}
                },
                {
                    "output_type": "display_data",
                    "data": {
                        "text/html": "(1 row affected)"
                    },
                    "metadata": {}
                },
                {
                    "output_type": "display_data",
                    "data": {
                        "text/html": "(1 row affected)"
                    },
                    "metadata": {}
                },
                {
                    "output_type": "display_data",
                    "data": {
                        "text/html": "(1 row affected)"
                    },
                    "metadata": {}
                },
                {
                    "output_type": "display_data",
                    "data": {
                        "text/html": "(1 row affected)"
                    },
                    "metadata": {}
                },
                {
                    "output_type": "display_data",
                    "data": {
                        "text/html": "(1 row affected)"
                    },
                    "metadata": {}
                },
                {
                    "output_type": "display_data",
                    "data": {
                        "text/html": "(1 row affected)"
                    },
                    "metadata": {}
                },
                {
                    "output_type": "display_data",
                    "data": {
                        "text/html": "(1 row affected)"
                    },
                    "metadata": {}
                },
                {
                    "output_type": "display_data",
                    "data": {
                        "text/html": "(1 row affected)"
                    },
                    "metadata": {}
                },
                {
                    "output_type": "display_data",
                    "data": {
                        "text/html": "(1 row affected)"
                    },
                    "metadata": {}
                },
                {
                    "output_type": "display_data",
                    "data": {
                        "text/html": "(1 row affected)"
                    },
                    "metadata": {}
                },
                {
                    "output_type": "display_data",
                    "data": {
                        "text/html": "(1 row affected)"
                    },
                    "metadata": {}
                },
                {
                    "output_type": "display_data",
                    "data": {
                        "text/html": "(1 row affected)"
                    },
                    "metadata": {}
                },
                {
                    "output_type": "display_data",
                    "data": {
                        "text/html": "(1 row affected)"
                    },
                    "metadata": {}
                },
                {
                    "output_type": "display_data",
                    "data": {
                        "text/html": "(1 row affected)"
                    },
                    "metadata": {}
                },
                {
                    "output_type": "display_data",
                    "data": {
                        "text/html": "(1 row affected)"
                    },
                    "metadata": {}
                },
                {
                    "output_type": "display_data",
                    "data": {
                        "text/html": "(1 row affected)"
                    },
                    "metadata": {}
                },
                {
                    "output_type": "display_data",
                    "data": {
                        "text/html": "(1 row affected)"
                    },
                    "metadata": {}
                },
                {
                    "output_type": "display_data",
                    "data": {
                        "text/html": "(1 row affected)"
                    },
                    "metadata": {}
                },
                {
                    "output_type": "display_data",
                    "data": {
                        "text/html": "(1 row affected)"
                    },
                    "metadata": {}
                },
                {
                    "output_type": "display_data",
                    "data": {
                        "text/html": "(1 row affected)"
                    },
                    "metadata": {}
                },
                {
                    "output_type": "display_data",
                    "data": {
                        "text/html": "(1 row affected)"
                    },
                    "metadata": {}
                },
                {
                    "output_type": "display_data",
                    "data": {
                        "text/html": "(1 row affected)"
                    },
                    "metadata": {}
                },
                {
                    "output_type": "display_data",
                    "data": {
                        "text/html": "(1 row affected)"
                    },
                    "metadata": {}
                },
                {
                    "output_type": "display_data",
                    "data": {
                        "text/html": "(1 row affected)"
                    },
                    "metadata": {}
                },
                {
                    "output_type": "display_data",
                    "data": {
                        "text/html": "(1 row affected)"
                    },
                    "metadata": {}
                },
                {
                    "output_type": "display_data",
                    "data": {
                        "text/html": "(1 row affected)"
                    },
                    "metadata": {}
                },
                {
                    "output_type": "display_data",
                    "data": {
                        "text/html": "(1 row affected)"
                    },
                    "metadata": {}
                },
                {
                    "output_type": "display_data",
                    "data": {
                        "text/html": "(1 row affected)"
                    },
                    "metadata": {}
                },
                {
                    "output_type": "display_data",
                    "data": {
                        "text/html": "(1 row affected)"
                    },
                    "metadata": {}
                },
                {
                    "output_type": "display_data",
                    "data": {
                        "text/html": "(1 row affected)"
                    },
                    "metadata": {}
                },
                {
                    "output_type": "display_data",
                    "data": {
                        "text/html": "(1 row affected)"
                    },
                    "metadata": {}
                },
                {
                    "output_type": "display_data",
                    "data": {
                        "text/html": "(1 row affected)"
                    },
                    "metadata": {}
                },
                {
                    "output_type": "display_data",
                    "data": {
                        "text/html": "(1 row affected)"
                    },
                    "metadata": {}
                },
                {
                    "output_type": "display_data",
                    "data": {
                        "text/html": "(1 row affected)"
                    },
                    "metadata": {}
                },
                {
                    "output_type": "display_data",
                    "data": {
                        "text/html": "(1 row affected)"
                    },
                    "metadata": {}
                },
                {
                    "output_type": "display_data",
                    "data": {
                        "text/html": "(1 row affected)"
                    },
                    "metadata": {}
                },
                {
                    "output_type": "display_data",
                    "data": {
                        "text/html": "(1 row affected)"
                    },
                    "metadata": {}
                },
                {
                    "output_type": "display_data",
                    "data": {
                        "text/html": "(1 row affected)"
                    },
                    "metadata": {}
                },
                {
                    "output_type": "display_data",
                    "data": {
                        "text/html": "(1 row affected)"
                    },
                    "metadata": {}
                },
                {
                    "output_type": "display_data",
                    "data": {
                        "text/html": "(1 row affected)"
                    },
                    "metadata": {}
                },
                {
                    "output_type": "display_data",
                    "data": {
                        "text/html": "(1 row affected)"
                    },
                    "metadata": {}
                },
                {
                    "output_type": "display_data",
                    "data": {
                        "text/html": "(1 row affected)"
                    },
                    "metadata": {}
                },
                {
                    "output_type": "display_data",
                    "data": {
                        "text/html": "(1 row affected)"
                    },
                    "metadata": {}
                },
                {
                    "output_type": "display_data",
                    "data": {
                        "text/html": "(1 row affected)"
                    },
                    "metadata": {}
                },
                {
                    "output_type": "display_data",
                    "data": {
                        "text/html": "(1 row affected)"
                    },
                    "metadata": {}
                },
                {
                    "output_type": "display_data",
                    "data": {
                        "text/html": "(1 row affected)"
                    },
                    "metadata": {}
                },
                {
                    "output_type": "display_data",
                    "data": {
                        "text/html": "(1 row affected)"
                    },
                    "metadata": {}
                },
                {
                    "output_type": "display_data",
                    "data": {
                        "text/html": "(1 row affected)"
                    },
                    "metadata": {}
                },
                {
                    "output_type": "display_data",
                    "data": {
                        "text/html": "(1 row affected)"
                    },
                    "metadata": {}
                },
                {
                    "output_type": "display_data",
                    "data": {
                        "text/html": "(1 row affected)"
                    },
                    "metadata": {}
                },
                {
                    "output_type": "display_data",
                    "data": {
                        "text/html": "(1 row affected)"
                    },
                    "metadata": {}
                },
                {
                    "output_type": "display_data",
                    "data": {
                        "text/html": "(1 row affected)"
                    },
                    "metadata": {}
                },
                {
                    "output_type": "display_data",
                    "data": {
                        "text/html": "(1 row affected)"
                    },
                    "metadata": {}
                },
                {
                    "output_type": "display_data",
                    "data": {
                        "text/html": "(1 row affected)"
                    },
                    "metadata": {}
                },
                {
                    "output_type": "display_data",
                    "data": {
                        "text/html": "(1 row affected)"
                    },
                    "metadata": {}
                },
                {
                    "output_type": "display_data",
                    "data": {
                        "text/html": "(1 row affected)"
                    },
                    "metadata": {}
                },
                {
                    "output_type": "display_data",
                    "data": {
                        "text/html": "(1 row affected)"
                    },
                    "metadata": {}
                },
                {
                    "output_type": "display_data",
                    "data": {
                        "text/html": "(1 row affected)"
                    },
                    "metadata": {}
                },
                {
                    "output_type": "display_data",
                    "data": {
                        "text/html": "(1 row affected)"
                    },
                    "metadata": {}
                },
                {
                    "output_type": "display_data",
                    "data": {
                        "text/html": "(1 row affected)"
                    },
                    "metadata": {}
                },
                {
                    "output_type": "display_data",
                    "data": {
                        "text/html": "(1 row affected)"
                    },
                    "metadata": {}
                },
                {
                    "output_type": "display_data",
                    "data": {
                        "text/html": "(1 row affected)"
                    },
                    "metadata": {}
                },
                {
                    "output_type": "display_data",
                    "data": {
                        "text/html": "(1 row affected)"
                    },
                    "metadata": {}
                },
                {
                    "output_type": "display_data",
                    "data": {
                        "text/html": "(1 row affected)"
                    },
                    "metadata": {}
                },
                {
                    "output_type": "display_data",
                    "data": {
                        "text/html": "(1 row affected)"
                    },
                    "metadata": {}
                },
                {
                    "output_type": "display_data",
                    "data": {
                        "text/html": "(1 row affected)"
                    },
                    "metadata": {}
                },
                {
                    "output_type": "display_data",
                    "data": {
                        "text/html": "(1 row affected)"
                    },
                    "metadata": {}
                },
                {
                    "output_type": "display_data",
                    "data": {
                        "text/html": "(1 row affected)"
                    },
                    "metadata": {}
                },
                {
                    "output_type": "display_data",
                    "data": {
                        "text/html": "(1 row affected)"
                    },
                    "metadata": {}
                },
                {
                    "output_type": "display_data",
                    "data": {
                        "text/html": "(1 row affected)"
                    },
                    "metadata": {}
                },
                {
                    "output_type": "display_data",
                    "data": {
                        "text/html": "(1 row affected)"
                    },
                    "metadata": {}
                },
                {
                    "output_type": "display_data",
                    "data": {
                        "text/html": "(1 row affected)"
                    },
                    "metadata": {}
                },
                {
                    "output_type": "display_data",
                    "data": {
                        "text/html": "(1 row affected)"
                    },
                    "metadata": {}
                },
                {
                    "output_type": "display_data",
                    "data": {
                        "text/html": "(1 row affected)"
                    },
                    "metadata": {}
                },
                {
                    "output_type": "display_data",
                    "data": {
                        "text/html": "(1 row affected)"
                    },
                    "metadata": {}
                },
                {
                    "output_type": "display_data",
                    "data": {
                        "text/html": "(1 row affected)"
                    },
                    "metadata": {}
                },
                {
                    "output_type": "display_data",
                    "data": {
                        "text/html": "(1 row affected)"
                    },
                    "metadata": {}
                },
                {
                    "output_type": "display_data",
                    "data": {
                        "text/html": "(1 row affected)"
                    },
                    "metadata": {}
                },
                {
                    "output_type": "display_data",
                    "data": {
                        "text/html": "(1 row affected)"
                    },
                    "metadata": {}
                },
                {
                    "output_type": "display_data",
                    "data": {
                        "text/html": "(1 row affected)"
                    },
                    "metadata": {}
                },
                {
                    "output_type": "display_data",
                    "data": {
                        "text/html": "(1 row affected)"
                    },
                    "metadata": {}
                },
                {
                    "output_type": "display_data",
                    "data": {
                        "text/html": "(1 row affected)"
                    },
                    "metadata": {}
                },
                {
                    "output_type": "display_data",
                    "data": {
                        "text/html": "(1 row affected)"
                    },
                    "metadata": {}
                },
                {
                    "output_type": "display_data",
                    "data": {
                        "text/html": "(1 row affected)"
                    },
                    "metadata": {}
                },
                {
                    "output_type": "display_data",
                    "data": {
                        "text/html": "(1 row affected)"
                    },
                    "metadata": {}
                },
                {
                    "output_type": "display_data",
                    "data": {
                        "text/html": "(1 row affected)"
                    },
                    "metadata": {}
                },
                {
                    "output_type": "display_data",
                    "data": {
                        "text/html": "(1 row affected)"
                    },
                    "metadata": {}
                },
                {
                    "output_type": "display_data",
                    "data": {
                        "text/html": "(1 row affected)"
                    },
                    "metadata": {}
                },
                {
                    "output_type": "display_data",
                    "data": {
                        "text/html": "(1 row affected)"
                    },
                    "metadata": {}
                },
                {
                    "output_type": "display_data",
                    "data": {
                        "text/html": "(1 row affected)"
                    },
                    "metadata": {}
                },
                {
                    "output_type": "display_data",
                    "data": {
                        "text/html": "(1 row affected)"
                    },
                    "metadata": {}
                },
                {
                    "output_type": "display_data",
                    "data": {
                        "text/html": "(1 row affected)"
                    },
                    "metadata": {}
                },
                {
                    "output_type": "display_data",
                    "data": {
                        "text/html": "(1 row affected)"
                    },
                    "metadata": {}
                },
                {
                    "output_type": "display_data",
                    "data": {
                        "text/html": "(1 row affected)"
                    },
                    "metadata": {}
                },
                {
                    "output_type": "display_data",
                    "data": {
                        "text/html": "(1 row affected)"
                    },
                    "metadata": {}
                },
                {
                    "output_type": "display_data",
                    "data": {
                        "text/html": "(1 row affected)"
                    },
                    "metadata": {}
                },
                {
                    "output_type": "display_data",
                    "data": {
                        "text/html": "(1 row affected)"
                    },
                    "metadata": {}
                },
                {
                    "output_type": "display_data",
                    "data": {
                        "text/html": "(1 row affected)"
                    },
                    "metadata": {}
                },
                {
                    "output_type": "display_data",
                    "data": {
                        "text/html": "(1 row affected)"
                    },
                    "metadata": {}
                },
                {
                    "output_type": "display_data",
                    "data": {
                        "text/html": "(1 row affected)"
                    },
                    "metadata": {}
                },
                {
                    "output_type": "display_data",
                    "data": {
                        "text/html": "(1 row affected)"
                    },
                    "metadata": {}
                },
                {
                    "output_type": "display_data",
                    "data": {
                        "text/html": "(1 row affected)"
                    },
                    "metadata": {}
                },
                {
                    "output_type": "display_data",
                    "data": {
                        "text/html": "(1 row affected)"
                    },
                    "metadata": {}
                },
                {
                    "output_type": "display_data",
                    "data": {
                        "text/html": "(1 row affected)"
                    },
                    "metadata": {}
                },
                {
                    "output_type": "display_data",
                    "data": {
                        "text/html": "(1 row affected)"
                    },
                    "metadata": {}
                },
                {
                    "output_type": "display_data",
                    "data": {
                        "text/html": "(1 row affected)"
                    },
                    "metadata": {}
                },
                {
                    "output_type": "display_data",
                    "data": {
                        "text/html": "(1 row affected)"
                    },
                    "metadata": {}
                },
                {
                    "output_type": "display_data",
                    "data": {
                        "text/html": "(1 row affected)"
                    },
                    "metadata": {}
                },
                {
                    "output_type": "display_data",
                    "data": {
                        "text/html": "(1 row affected)"
                    },
                    "metadata": {}
                },
                {
                    "output_type": "display_data",
                    "data": {
                        "text/html": "(1 row affected)"
                    },
                    "metadata": {}
                },
                {
                    "output_type": "display_data",
                    "data": {
                        "text/html": "(1 row affected)"
                    },
                    "metadata": {}
                },
                {
                    "output_type": "display_data",
                    "data": {
                        "text/html": "(1 row affected)"
                    },
                    "metadata": {}
                },
                {
                    "output_type": "display_data",
                    "data": {
                        "text/html": "(1 row affected)"
                    },
                    "metadata": {}
                },
                {
                    "output_type": "display_data",
                    "data": {
                        "text/html": "(1 row affected)"
                    },
                    "metadata": {}
                },
                {
                    "output_type": "display_data",
                    "data": {
                        "text/html": "(1 row affected)"
                    },
                    "metadata": {}
                },
                {
                    "output_type": "display_data",
                    "data": {
                        "text/html": "(1 row affected)"
                    },
                    "metadata": {}
                },
                {
                    "output_type": "display_data",
                    "data": {
                        "text/html": "(1 row affected)"
                    },
                    "metadata": {}
                },
                {
                    "output_type": "display_data",
                    "data": {
                        "text/html": "(1 row affected)"
                    },
                    "metadata": {}
                },
                {
                    "output_type": "display_data",
                    "data": {
                        "text/html": "(1 row affected)"
                    },
                    "metadata": {}
                },
                {
                    "output_type": "display_data",
                    "data": {
                        "text/html": "(1 row affected)"
                    },
                    "metadata": {}
                },
                {
                    "output_type": "display_data",
                    "data": {
                        "text/html": "(1 row affected)"
                    },
                    "metadata": {}
                },
                {
                    "output_type": "display_data",
                    "data": {
                        "text/html": "(1 row affected)"
                    },
                    "metadata": {}
                },
                {
                    "output_type": "display_data",
                    "data": {
                        "text/html": "(1 row affected)"
                    },
                    "metadata": {}
                },
                {
                    "output_type": "display_data",
                    "data": {
                        "text/html": "(1 row affected)"
                    },
                    "metadata": {}
                },
                {
                    "output_type": "display_data",
                    "data": {
                        "text/html": "(1 row affected)"
                    },
                    "metadata": {}
                },
                {
                    "output_type": "display_data",
                    "data": {
                        "text/html": "(1 row affected)"
                    },
                    "metadata": {}
                },
                {
                    "output_type": "display_data",
                    "data": {
                        "text/html": "(1 row affected)"
                    },
                    "metadata": {}
                },
                {
                    "output_type": "display_data",
                    "data": {
                        "text/html": "(1 row affected)"
                    },
                    "metadata": {}
                },
                {
                    "output_type": "display_data",
                    "data": {
                        "text/html": "(1 row affected)"
                    },
                    "metadata": {}
                },
                {
                    "output_type": "display_data",
                    "data": {
                        "text/html": "(1 row affected)"
                    },
                    "metadata": {}
                },
                {
                    "output_type": "display_data",
                    "data": {
                        "text/html": "(1 row affected)"
                    },
                    "metadata": {}
                },
                {
                    "output_type": "display_data",
                    "data": {
                        "text/html": "(1 row affected)"
                    },
                    "metadata": {}
                },
                {
                    "output_type": "display_data",
                    "data": {
                        "text/html": "Total execution time: 00:00:00.674"
                    },
                    "metadata": {}
                }
            ],
            "execution_count": 19
        },
        {
            "cell_type": "code",
            "source": [
                "--Data into store_order_lines\r\n",
                "insert into store_order_lines (store_order_line_order_id, store_order_line_product_id, store_order_line_unit_price, store_order_line_item_qty, store_order_line_total, store_order_line_status, store_order_line_arrival_date) values (1, 10, 4.624, 19, 87.86, 3, '4/2/2022 00:00');\r\n",
                "insert into store_order_lines (store_order_line_order_id, store_order_line_product_id, store_order_line_unit_price, store_order_line_item_qty, store_order_line_total, store_order_line_status, store_order_line_arrival_date) values (2, 16, 34.884, 3, 104.65, 3, '4/14/2022 00:00');\r\n",
                "insert into store_order_lines (store_order_line_order_id, store_order_line_product_id, store_order_line_unit_price, store_order_line_item_qty, store_order_line_total, store_order_line_status, store_order_line_arrival_date) values (3, 22, 11.5855, 7, 81.1, 3, '4/4/2022 00:00');\r\n",
                "insert into store_order_lines (store_order_line_order_id, store_order_line_product_id, store_order_line_unit_price, store_order_line_item_qty, store_order_line_total, store_order_line_status, store_order_line_arrival_date) values (4, 15, 3.0685, 16, 49.1, 3, '4/4/2022 00:00');\r\n",
                "insert into store_order_lines (store_order_line_order_id, store_order_line_product_id, store_order_line_unit_price, store_order_line_item_qty, store_order_line_total, store_order_line_status, store_order_line_arrival_date) values (5, 9, 6.8255, 18, 122.86, 3, '4/7/2022 00:00');\r\n",
                "insert into store_order_lines (store_order_line_order_id, store_order_line_product_id, store_order_line_unit_price, store_order_line_item_qty, store_order_line_total, store_order_line_status, store_order_line_arrival_date) values (6, 9, 3.3235, 18, 59.82, 3, '4/8/2022 00:00');\r\n",
                "insert into store_order_lines (store_order_line_order_id, store_order_line_product_id, store_order_line_unit_price, store_order_line_item_qty, store_order_line_total, store_order_line_status, store_order_line_arrival_date) values (7, 2, 5.797, 5, 28.99, 3, '4/12/2022 00:00');\r\n",
                "insert into store_order_lines (store_order_line_order_id, store_order_line_product_id, store_order_line_unit_price, store_order_line_item_qty, store_order_line_total, store_order_line_status, store_order_line_arrival_date) values (8, 1, 9.112, 12, 109.34, 3, '4/12/2022 00:00');\r\n",
                "insert into store_order_lines (store_order_line_order_id, store_order_line_product_id, store_order_line_unit_price, store_order_line_item_qty, store_order_line_total, store_order_line_status, store_order_line_arrival_date) values (9, 6, 1.751, 20, 35.02, 3, '4/11/2022 00:00');\r\n",
                "insert into store_order_lines (store_order_line_order_id, store_order_line_product_id, store_order_line_unit_price, store_order_line_item_qty, store_order_line_total, store_order_line_status, store_order_line_arrival_date) values (10, 18, 33.8725, 2, 67.75, 3, '4/6/2022 00:00');\r\n",
                "insert into store_order_lines (store_order_line_order_id, store_order_line_product_id, store_order_line_unit_price, store_order_line_item_qty, store_order_line_total, store_order_line_status, store_order_line_arrival_date) values (11, 6, 5.848, 18, 105.26, 3, '4/18/2022 00:00');\r\n",
                "insert into store_order_lines (store_order_line_order_id, store_order_line_product_id, store_order_line_unit_price, store_order_line_item_qty, store_order_line_total, store_order_line_status, store_order_line_arrival_date) values (12, 8, 5.6355, 6, 33.81, 3, '4/15/2022 00:00');\r\n",
                "insert into store_order_lines (store_order_line_order_id, store_order_line_product_id, store_order_line_unit_price, store_order_line_item_qty, store_order_line_total, store_order_line_status, store_order_line_arrival_date) values (13, 3, 0.6205, 13, 8.07, 3, '4/7/2022 00:00');\r\n",
                "insert into store_order_lines (store_order_line_order_id, store_order_line_product_id, store_order_line_unit_price, store_order_line_item_qty, store_order_line_total, store_order_line_status, store_order_line_arrival_date) values (14, 10, 4.233, 17, 71.96, 3, '4/13/2022 00:00');\r\n",
                "insert into store_order_lines (store_order_line_order_id, store_order_line_product_id, store_order_line_unit_price, store_order_line_item_qty, store_order_line_total, store_order_line_status, store_order_line_arrival_date) values (15, 1, 8.636, 14, 120.9, 3, '4/8/2022 00:00');\r\n",
                "insert into store_order_lines (store_order_line_order_id, store_order_line_product_id, store_order_line_unit_price, store_order_line_item_qty, store_order_line_total, store_order_line_status, store_order_line_arrival_date) values (16, 16, 6.1455, 18, 110.62, 3, '4/13/2022 00:00');\r\n",
                "insert into store_order_lines (store_order_line_order_id, store_order_line_product_id, store_order_line_unit_price, store_order_line_item_qty, store_order_line_total, store_order_line_status, store_order_line_arrival_date) values (17, 18, 3.876, 9, 34.88, 3, '4/11/2022 00:00');\r\n",
                "insert into store_order_lines (store_order_line_order_id, store_order_line_product_id, store_order_line_unit_price, store_order_line_item_qty, store_order_line_total, store_order_line_status, store_order_line_arrival_date) values (18, 14, 3.2385, 8, 25.91, 3, '4/11/2022 00:00');\r\n",
                "insert into store_order_lines (store_order_line_order_id, store_order_line_product_id, store_order_line_unit_price, store_order_line_item_qty, store_order_line_total, store_order_line_status, store_order_line_arrival_date) values (19, 5, 3.4765, 20, 69.53, 3, '4/16/2022 00:00');\r\n",
                "insert into store_order_lines (store_order_line_order_id, store_order_line_product_id, store_order_line_unit_price, store_order_line_item_qty, store_order_line_total, store_order_line_status, store_order_line_arrival_date) values (20, 6, 10.7695, 9, 96.93, 3, '4/18/2022 00:00');\r\n",
                "insert into store_order_lines (store_order_line_order_id, store_order_line_product_id, store_order_line_unit_price, store_order_line_item_qty, store_order_line_total, store_order_line_status, store_order_line_arrival_date) values (21, 17, 3.7995, 12, 45.59, 3, '4/11/2022 00:00');\r\n",
                "insert into store_order_lines (store_order_line_order_id, store_order_line_product_id, store_order_line_unit_price, store_order_line_item_qty, store_order_line_total, store_order_line_status, store_order_line_arrival_date) values (22, 12, 14.7815, 5, 73.91, 3, '4/10/2022 00:00');\r\n",
                "insert into store_order_lines (store_order_line_order_id, store_order_line_product_id, store_order_line_unit_price, store_order_line_item_qty, store_order_line_total, store_order_line_status, store_order_line_arrival_date) values (23, 9, 13.804, 5, 69.02, 3, '4/14/2022 00:00');\r\n",
                "insert into store_order_lines (store_order_line_order_id, store_order_line_product_id, store_order_line_unit_price, store_order_line_item_qty, store_order_line_total, store_order_line_status, store_order_line_arrival_date) values (24, 5, 0.34, 20, 6.8, 3, '4/20/2022 00:00');\r\n",
                "insert into store_order_lines (store_order_line_order_id, store_order_line_product_id, store_order_line_unit_price, store_order_line_item_qty, store_order_line_total, store_order_line_status, store_order_line_arrival_date) values (25, 24, 14.433, 7, 101.03, 3, '4/15/2022 00:00');\r\n",
                "insert into store_order_lines (store_order_line_order_id, store_order_line_product_id, store_order_line_unit_price, store_order_line_item_qty, store_order_line_total, store_order_line_status, store_order_line_arrival_date) values (26, 4, 3.7315, 17, 63.44, 3, '4/15/2022 00:00');\r\n",
                "insert into store_order_lines (store_order_line_order_id, store_order_line_product_id, store_order_line_unit_price, store_order_line_item_qty, store_order_line_total, store_order_line_status, store_order_line_arrival_date) values (27, 13, 15.6145, 7, 109.3, 3, '4/24/2022 00:00');\r\n",
                "insert into store_order_lines (store_order_line_order_id, store_order_line_product_id, store_order_line_unit_price, store_order_line_item_qty, store_order_line_total, store_order_line_status, store_order_line_arrival_date) values (28, 14, 3.1535, 15, 47.3, 3, '4/25/2022 00:00');\r\n",
                "insert into store_order_lines (store_order_line_order_id, store_order_line_product_id, store_order_line_unit_price, store_order_line_item_qty, store_order_line_total, store_order_line_status, store_order_line_arrival_date) values (29, 24, 22.1425, 4, 88.57, 3, '4/14/2022 00:00');\r\n",
                "insert into store_order_lines (store_order_line_order_id, store_order_line_product_id, store_order_line_unit_price, store_order_line_item_qty, store_order_line_total, store_order_line_status, store_order_line_arrival_date) values (30, 16, 10.4805, 11, 115.29, 3, '4/22/2022 00:00');\r\n",
                "insert into store_order_lines (store_order_line_order_id, store_order_line_product_id, store_order_line_unit_price, store_order_line_item_qty, store_order_line_total, store_order_line_status, store_order_line_arrival_date) values (31, 4, 9.503, 11, 104.53, 3, '4/22/2022 00:00');\r\n",
                "insert into store_order_lines (store_order_line_order_id, store_order_line_product_id, store_order_line_unit_price, store_order_line_item_qty, store_order_line_total, store_order_line_status, store_order_line_arrival_date) values (32, 15, 2.788, 16, 44.61, 3, '4/15/2022 00:00');\r\n",
                "insert into store_order_lines (store_order_line_order_id, store_order_line_product_id, store_order_line_unit_price, store_order_line_item_qty, store_order_line_total, store_order_line_status, store_order_line_arrival_date) values (33, 20, 6.562, 14, 91.87, 3, '4/23/2022 00:00');\r\n",
                "insert into store_order_lines (store_order_line_order_id, store_order_line_product_id, store_order_line_unit_price, store_order_line_item_qty, store_order_line_total, store_order_line_status, store_order_line_arrival_date) values (34, 19, 18.2325, 5, 91.16, 3, '4/24/2022 00:00');\r\n",
                "insert into store_order_lines (store_order_line_order_id, store_order_line_product_id, store_order_line_unit_price, store_order_line_item_qty, store_order_line_total, store_order_line_status, store_order_line_arrival_date) values (35, 21, 1.8955, 15, 28.43, 3, '4/20/2022 00:00');\r\n",
                "insert into store_order_lines (store_order_line_order_id, store_order_line_product_id, store_order_line_unit_price, store_order_line_item_qty, store_order_line_total, store_order_line_status, store_order_line_arrival_date) values (36, 5, 3.5785, 11, 39.36, 3, '4/26/2022 00:00');\r\n",
                "insert into store_order_lines (store_order_line_order_id, store_order_line_product_id, store_order_line_unit_price, store_order_line_item_qty, store_order_line_total, store_order_line_status, store_order_line_arrival_date) values (37, 12, 1.9125, 3, 5.74, 3, '4/27/2022 00:00');\r\n",
                "insert into store_order_lines (store_order_line_order_id, store_order_line_product_id, store_order_line_unit_price, store_order_line_item_qty, store_order_line_total, store_order_line_status, store_order_line_arrival_date) values (38, 19, 8.908, 8, 71.26, 3, '4/20/2022 00:00');\r\n",
                "insert into store_order_lines (store_order_line_order_id, store_order_line_product_id, store_order_line_unit_price, store_order_line_item_qty, store_order_line_total, store_order_line_status, store_order_line_arrival_date) values (39, 18, 11.5685, 5, 57.84, 3, '4/19/2022 00:00');\r\n",
                "insert into store_order_lines (store_order_line_order_id, store_order_line_product_id, store_order_line_unit_price, store_order_line_item_qty, store_order_line_total, store_order_line_status, store_order_line_arrival_date) values (40, 20, 10.37, 10, 103.7, 3, '4/25/2022 00:00');\r\n",
                "insert into store_order_lines (store_order_line_order_id, store_order_line_product_id, store_order_line_unit_price, store_order_line_item_qty, store_order_line_total, store_order_line_status, store_order_line_arrival_date) values (41, 8, 7.3015, 16, 116.82, 3, '4/30/2022 00:00');\r\n",
                "insert into store_order_lines (store_order_line_order_id, store_order_line_product_id, store_order_line_unit_price, store_order_line_item_qty, store_order_line_total, store_order_line_status, store_order_line_arrival_date) values (42, 24, 1.122, 20, 22.44, 3, '4/23/2022 00:00');\r\n",
                "insert into store_order_lines (store_order_line_order_id, store_order_line_product_id, store_order_line_unit_price, store_order_line_item_qty, store_order_line_total, store_order_line_status, store_order_line_arrival_date) values (43, 15, 0.935, 9, 8.42, 3, '4/30/2022 00:00');\r\n",
                "insert into store_order_lines (store_order_line_order_id, store_order_line_product_id, store_order_line_unit_price, store_order_line_item_qty, store_order_line_total, store_order_line_status, store_order_line_arrival_date) values (44, 18, 9.333, 8, 74.66, 3, '4/26/2022 00:00');\r\n",
                "insert into store_order_lines (store_order_line_order_id, store_order_line_product_id, store_order_line_unit_price, store_order_line_item_qty, store_order_line_total, store_order_line_status, store_order_line_arrival_date) values (45, 18, 18.7595, 5, 93.8, 3, '4/24/2022 00:00');\r\n",
                "insert into store_order_lines (store_order_line_order_id, store_order_line_product_id, store_order_line_unit_price, store_order_line_item_qty, store_order_line_total, store_order_line_status, store_order_line_arrival_date) values (46, 22, 2.958, 14, 41.41, 3, '4/23/2022 00:00');\r\n",
                "insert into store_order_lines (store_order_line_order_id, store_order_line_product_id, store_order_line_unit_price, store_order_line_item_qty, store_order_line_total, store_order_line_status, store_order_line_arrival_date) values (47, 1, 4.2415, 14, 59.38, 3, '5/3/2022 00:00');\r\n",
                "insert into store_order_lines (store_order_line_order_id, store_order_line_product_id, store_order_line_unit_price, store_order_line_item_qty, store_order_line_total, store_order_line_status, store_order_line_arrival_date) values (48, 15, 1.7255, 5, 8.63, 3, '4/20/2022 00:00');\r\n",
                "insert into store_order_lines (store_order_line_order_id, store_order_line_product_id, store_order_line_unit_price, store_order_line_item_qty, store_order_line_total, store_order_line_status, store_order_line_arrival_date) values (49, 15, 6.239, 20, 124.78, 3, '4/30/2022 00:00');\r\n",
                "insert into store_order_lines (store_order_line_order_id, store_order_line_product_id, store_order_line_unit_price, store_order_line_item_qty, store_order_line_total, store_order_line_status, store_order_line_arrival_date) values (50, 12, 1.9295, 11, 21.22, 3, '4/21/2022 00:00');\r\n",
                "insert into store_order_lines (store_order_line_order_id, store_order_line_product_id, store_order_line_unit_price, store_order_line_item_qty, store_order_line_total, store_order_line_status, store_order_line_arrival_date) values (51, 8, 6.2475, 10, 62.47, 3, '5/2/2022 00:00');\r\n",
                "insert into store_order_lines (store_order_line_order_id, store_order_line_product_id, store_order_line_unit_price, store_order_line_item_qty, store_order_line_total, store_order_line_status, store_order_line_arrival_date) values (52, 5, 8.466, 15, 126.99, 3, '5/1/2022 00:00');\r\n",
                "insert into store_order_lines (store_order_line_order_id, store_order_line_product_id, store_order_line_unit_price, store_order_line_item_qty, store_order_line_total, store_order_line_status, store_order_line_arrival_date) values (53, 22, 0.731, 16, 11.7, 3, '5/4/2022 00:00');\r\n",
                "insert into store_order_lines (store_order_line_order_id, store_order_line_product_id, store_order_line_unit_price, store_order_line_item_qty, store_order_line_total, store_order_line_status, store_order_line_arrival_date) values (54, 23, 5.474, 4, 21.9, 3, '4/27/2022 00:00');\r\n",
                "insert into store_order_lines (store_order_line_order_id, store_order_line_product_id, store_order_line_unit_price, store_order_line_item_qty, store_order_line_total, store_order_line_status, store_order_line_arrival_date) values (55, 12, 11.169, 9, 100.52, 3, '4/29/2022 00:00');\r\n",
                "insert into store_order_lines (store_order_line_order_id, store_order_line_product_id, store_order_line_unit_price, store_order_line_item_qty, store_order_line_total, store_order_line_status, store_order_line_arrival_date) values (56, 12, 6.9105, 15, 103.66, 3, '5/5/2022 00:00');\r\n",
                "insert into store_order_lines (store_order_line_order_id, store_order_line_product_id, store_order_line_unit_price, store_order_line_item_qty, store_order_line_total, store_order_line_status, store_order_line_arrival_date) values (57, 19, 20.451, 5, 102.25, 3, '5/8/2022 00:00');\r\n",
                "insert into store_order_lines (store_order_line_order_id, store_order_line_product_id, store_order_line_unit_price, store_order_line_item_qty, store_order_line_total, store_order_line_status, store_order_line_arrival_date) values (58, 24, 5.0745, 13, 65.97, 3, '4/26/2022 00:00');\r\n",
                "insert into store_order_lines (store_order_line_order_id, store_order_line_product_id, store_order_line_unit_price, store_order_line_item_qty, store_order_line_total, store_order_line_status, store_order_line_arrival_date) values (59, 7, 5.5505, 15, 83.26, 3, '5/7/2022 00:00');\r\n",
                "insert into store_order_lines (store_order_line_order_id, store_order_line_product_id, store_order_line_unit_price, store_order_line_item_qty, store_order_line_total, store_order_line_status, store_order_line_arrival_date) values (60, 20, 9.5625, 12, 114.75, 3, '5/2/2022 00:00');\r\n",
                "insert into store_order_lines (store_order_line_order_id, store_order_line_product_id, store_order_line_unit_price, store_order_line_item_qty, store_order_line_total, store_order_line_status, store_order_line_arrival_date) values (61, 19, 28.3815, 3, 85.14, 3, '5/9/2022 00:00');\r\n",
                "insert into store_order_lines (store_order_line_order_id, store_order_line_product_id, store_order_line_unit_price, store_order_line_item_qty, store_order_line_total, store_order_line_status, store_order_line_arrival_date) values (62, 3, 9.979, 10, 99.79, 3, '5/7/2022 00:00');\r\n",
                "insert into store_order_lines (store_order_line_order_id, store_order_line_product_id, store_order_line_unit_price, store_order_line_item_qty, store_order_line_total, store_order_line_status, store_order_line_arrival_date) values (63, 9, 2.2525, 18, 40.55, 3, '4/28/2022 00:00');\r\n",
                "insert into store_order_lines (store_order_line_order_id, store_order_line_product_id, store_order_line_unit_price, store_order_line_item_qty, store_order_line_total, store_order_line_status, store_order_line_arrival_date) values (64, 15, 37.485, 3, 112.45, 3, '4/28/2022 00:00');\r\n",
                "insert into store_order_lines (store_order_line_order_id, store_order_line_product_id, store_order_line_unit_price, store_order_line_item_qty, store_order_line_total, store_order_line_status, store_order_line_arrival_date) values (65, 8, 7.191, 12, 86.29, 3, '5/10/2022 00:00');\r\n",
                "insert into store_order_lines (store_order_line_order_id, store_order_line_product_id, store_order_line_unit_price, store_order_line_item_qty, store_order_line_total, store_order_line_status, store_order_line_arrival_date) values (66, 7, 23.732, 4, 94.93, 3, '5/6/2022 00:00');\r\n",
                "insert into store_order_lines (store_order_line_order_id, store_order_line_product_id, store_order_line_unit_price, store_order_line_item_qty, store_order_line_total, store_order_line_status, store_order_line_arrival_date) values (67, 7, 0.833, 17, 14.16, 3, '4/30/2022 00:00');\r\n",
                "insert into store_order_lines (store_order_line_order_id, store_order_line_product_id, store_order_line_unit_price, store_order_line_item_qty, store_order_line_total, store_order_line_status, store_order_line_arrival_date) values (68, 19, 4.25, 20, 85, 3, '4/30/2022 00:00');\r\n",
                "insert into store_order_lines (store_order_line_order_id, store_order_line_product_id, store_order_line_unit_price, store_order_line_item_qty, store_order_line_total, store_order_line_status, store_order_line_arrival_date) values (69, 6, 16.32, 2, 32.64, 3, '4/29/2022 00:00');\r\n",
                "insert into store_order_lines (store_order_line_order_id, store_order_line_product_id, store_order_line_unit_price, store_order_line_item_qty, store_order_line_total, store_order_line_status, store_order_line_arrival_date) values (70, 7, 14.8835, 5, 74.42, 3, '5/9/2022 00:00');\r\n",
                "insert into store_order_lines (store_order_line_order_id, store_order_line_product_id, store_order_line_unit_price, store_order_line_item_qty, store_order_line_total, store_order_line_status, store_order_line_arrival_date) values (71, 22, 3.2555, 19, 61.85, 3, '5/10/2022 00:00');\r\n",
                "insert into store_order_lines (store_order_line_order_id, store_order_line_product_id, store_order_line_unit_price, store_order_line_item_qty, store_order_line_total, store_order_line_status, store_order_line_arrival_date) values (72, 11, 28.1945, 4, 112.78, 3, '5/9/2022 00:00');\r\n",
                "insert into store_order_lines (store_order_line_order_id, store_order_line_product_id, store_order_line_unit_price, store_order_line_item_qty, store_order_line_total, store_order_line_status, store_order_line_arrival_date) values (73, 14, 32.2575, 2, 64.52, 3, '5/14/2022 00:00');\r\n",
                "insert into store_order_lines (store_order_line_order_id, store_order_line_product_id, store_order_line_unit_price, store_order_line_item_qty, store_order_line_total, store_order_line_status, store_order_line_arrival_date) values (74, 11, 1.6915, 8, 13.53, 3, '5/6/2022 00:00');\r\n",
                "insert into store_order_lines (store_order_line_order_id, store_order_line_product_id, store_order_line_unit_price, store_order_line_item_qty, store_order_line_total, store_order_line_status, store_order_line_arrival_date) values (75, 7, 5.8395, 16, 93.43, 3, '5/11/2022 00:00');\r\n",
                "insert into store_order_lines (store_order_line_order_id, store_order_line_product_id, store_order_line_unit_price, store_order_line_item_qty, store_order_line_total, store_order_line_status, store_order_line_arrival_date) values (76, 22, 17.238, 6, 103.43, 3, '5/14/2022 00:00');\r\n",
                "insert into store_order_lines (store_order_line_order_id, store_order_line_product_id, store_order_line_unit_price, store_order_line_item_qty, store_order_line_total, store_order_line_status, store_order_line_arrival_date) values (77, 19, 4.76, 18, 85.68, 3, '5/5/2022 00:00');\r\n",
                "insert into store_order_lines (store_order_line_order_id, store_order_line_product_id, store_order_line_unit_price, store_order_line_item_qty, store_order_line_total, store_order_line_status, store_order_line_arrival_date) values (78, 6, 8.6785, 7, 60.75, 3, '5/14/2022 00:00');\r\n",
                "insert into store_order_lines (store_order_line_order_id, store_order_line_product_id, store_order_line_unit_price, store_order_line_item_qty, store_order_line_total, store_order_line_status, store_order_line_arrival_date) values (79, 22, 14.3225, 6, 85.94, 3, '5/13/2022 00:00');\r\n",
                "insert into store_order_lines (store_order_line_order_id, store_order_line_product_id, store_order_line_unit_price, store_order_line_item_qty, store_order_line_total, store_order_line_status, store_order_line_arrival_date) values (80, 18, 5.5675, 13, 72.38, 3, '5/16/2022 00:00');\r\n",
                "insert into store_order_lines (store_order_line_order_id, store_order_line_product_id, store_order_line_unit_price, store_order_line_item_qty, store_order_line_total, store_order_line_status, store_order_line_arrival_date) values (81, 13, 1.734, 19, 32.95, 3, '5/19/2022 00:00');\r\n",
                "insert into store_order_lines (store_order_line_order_id, store_order_line_product_id, store_order_line_unit_price, store_order_line_item_qty, store_order_line_total, store_order_line_status, store_order_line_arrival_date) values (82, 6, 9.129, 12, 109.55, 3, '5/8/2022 00:00');\r\n",
                "insert into store_order_lines (store_order_line_order_id, store_order_line_product_id, store_order_line_unit_price, store_order_line_item_qty, store_order_line_total, store_order_line_status, store_order_line_arrival_date) values (83, 21, 1.496, 20, 29.92, 3, '5/15/2022 00:00');\r\n",
                "insert into store_order_lines (store_order_line_order_id, store_order_line_product_id, store_order_line_unit_price, store_order_line_item_qty, store_order_line_total, store_order_line_status, store_order_line_arrival_date) values (84, 20, 3.5105, 10, 35.1, 3, '5/14/2022 00:00');\r\n",
                "insert into store_order_lines (store_order_line_order_id, store_order_line_product_id, store_order_line_unit_price, store_order_line_item_qty, store_order_line_total, store_order_line_status, store_order_line_arrival_date) values (85, 15, 31.7985, 2, 63.6, 3, '5/20/2022 00:00');\r\n",
                "insert into store_order_lines (store_order_line_order_id, store_order_line_product_id, store_order_line_unit_price, store_order_line_item_qty, store_order_line_total, store_order_line_status, store_order_line_arrival_date) values (86, 2, 4.7855, 13, 62.21, 3, '5/11/2022 00:00');\r\n",
                "insert into store_order_lines (store_order_line_order_id, store_order_line_product_id, store_order_line_unit_price, store_order_line_item_qty, store_order_line_total, store_order_line_status, store_order_line_arrival_date) values (87, 5, 2.431, 16, 38.9, 3, '5/12/2022 00:00');\r\n",
                "insert into store_order_lines (store_order_line_order_id, store_order_line_product_id, store_order_line_unit_price, store_order_line_item_qty, store_order_line_total, store_order_line_status, store_order_line_arrival_date) values (88, 13, 6.8935, 17, 117.19, 3, '5/19/2022 00:00');\r\n",
                "insert into store_order_lines (store_order_line_order_id, store_order_line_product_id, store_order_line_unit_price, store_order_line_item_qty, store_order_line_total, store_order_line_status, store_order_line_arrival_date) values (89, 4, 5.423, 20, 108.46, 3, '5/18/2022 00:00');\r\n",
                "insert into store_order_lines (store_order_line_order_id, store_order_line_product_id, store_order_line_unit_price, store_order_line_item_qty, store_order_line_total, store_order_line_status, store_order_line_arrival_date) values (90, 15, 1.6405, 17, 27.89, 3, '5/14/2022 00:00');\r\n",
                "insert into store_order_lines (store_order_line_order_id, store_order_line_product_id, store_order_line_unit_price, store_order_line_item_qty, store_order_line_total, store_order_line_status, store_order_line_arrival_date) values (91, 2, 8.7465, 12, 104.96, 3, '5/10/2022 00:00');\r\n",
                "insert into store_order_lines (store_order_line_order_id, store_order_line_product_id, store_order_line_unit_price, store_order_line_item_qty, store_order_line_total, store_order_line_status, store_order_line_arrival_date) values (92, 14, 9.333, 5, 46.66, 3, '5/11/2022 00:00');\r\n",
                "insert into store_order_lines (store_order_line_order_id, store_order_line_product_id, store_order_line_unit_price, store_order_line_item_qty, store_order_line_total, store_order_line_status, store_order_line_arrival_date) values (93, 5, 12.4865, 7, 87.41, 3, '5/12/2022 00:00');\r\n",
                "insert into store_order_lines (store_order_line_order_id, store_order_line_product_id, store_order_line_unit_price, store_order_line_item_qty, store_order_line_total, store_order_line_status, store_order_line_arrival_date) values (94, 21, 6.8765, 14, 96.27, 3, '5/14/2022 00:00');\r\n",
                "insert into store_order_lines (store_order_line_order_id, store_order_line_product_id, store_order_line_unit_price, store_order_line_item_qty, store_order_line_total, store_order_line_status, store_order_line_arrival_date) values (95, 18, 17.3655, 5, 86.83, 3, '5/12/2022 00:00');\r\n",
                "insert into store_order_lines (store_order_line_order_id, store_order_line_product_id, store_order_line_unit_price, store_order_line_item_qty, store_order_line_total, store_order_line_status, store_order_line_arrival_date) values (96, 20, 28.373, 2, 56.75, 3, '5/15/2022 00:00');\r\n",
                "insert into store_order_lines (store_order_line_order_id, store_order_line_product_id, store_order_line_unit_price, store_order_line_item_qty, store_order_line_total, store_order_line_status, store_order_line_arrival_date) values (97, 18, 1.9635, 11, 21.6, 3, '5/14/2022 00:00');\r\n",
                "insert into store_order_lines (store_order_line_order_id, store_order_line_product_id, store_order_line_unit_price, store_order_line_item_qty, store_order_line_total, store_order_line_status, store_order_line_arrival_date) values (98, 6, 4.488, 17, 76.3, 3, '5/14/2022 00:00');\r\n",
                "insert into store_order_lines (store_order_line_order_id, store_order_line_product_id, store_order_line_unit_price, store_order_line_item_qty, store_order_line_total, store_order_line_status, store_order_line_arrival_date) values (99, 17, 2.1675, 8, 17.34, 3, '5/13/2022 00:00');\r\n",
                "insert into store_order_lines (store_order_line_order_id, store_order_line_product_id, store_order_line_unit_price, store_order_line_item_qty, store_order_line_total, store_order_line_status, store_order_line_arrival_date) values (100, 16, 7.0465, 9, 63.42, 3, '5/18/2022 00:00');\r\n",
                "insert into store_order_lines (store_order_line_order_id, store_order_line_product_id, store_order_line_unit_price, store_order_line_item_qty, store_order_line_total, store_order_line_status, store_order_line_arrival_date) values (101, 14, 5.253, 19, 99.81, 3, '5/15/2022 00:00');\r\n",
                "insert into store_order_lines (store_order_line_order_id, store_order_line_product_id, store_order_line_unit_price, store_order_line_item_qty, store_order_line_total, store_order_line_status, store_order_line_arrival_date) values (102, 13, 36.873, 3, 110.62, 3, '5/14/2022 00:00');\r\n",
                "insert into store_order_lines (store_order_line_order_id, store_order_line_product_id, store_order_line_unit_price, store_order_line_item_qty, store_order_line_total, store_order_line_status, store_order_line_arrival_date) values (103, 21, 9.9875, 8, 79.9, 3, '5/21/2022 00:00');\r\n",
                "insert into store_order_lines (store_order_line_order_id, store_order_line_product_id, store_order_line_unit_price, store_order_line_item_qty, store_order_line_total, store_order_line_status, store_order_line_arrival_date) values (104, 8, 1.0965, 8, 8.77, 3, '5/20/2022 00:00');\r\n",
                "insert into store_order_lines (store_order_line_order_id, store_order_line_product_id, store_order_line_unit_price, store_order_line_item_qty, store_order_line_total, store_order_line_status, store_order_line_arrival_date) values (105, 6, 4.539, 19, 86.24, 3, '5/21/2022 00:00');\r\n",
                "insert into store_order_lines (store_order_line_order_id, store_order_line_product_id, store_order_line_unit_price, store_order_line_item_qty, store_order_line_total, store_order_line_status, store_order_line_arrival_date) values (106, 9, 0.5015, 13, 6.52, 3, '5/16/2022 00:00');\r\n",
                "insert into store_order_lines (store_order_line_order_id, store_order_line_product_id, store_order_line_unit_price, store_order_line_item_qty, store_order_line_total, store_order_line_status, store_order_line_arrival_date) values (107, 4, 29.733, 3, 89.2, 3, '5/18/2022 00:00');\r\n",
                "insert into store_order_lines (store_order_line_order_id, store_order_line_product_id, store_order_line_unit_price, store_order_line_item_qty, store_order_line_total, store_order_line_status, store_order_line_arrival_date) values (108, 10, 6.46, 10, 64.6, 3, '5/29/2022 00:00');\r\n",
                "insert into store_order_lines (store_order_line_order_id, store_order_line_product_id, store_order_line_unit_price, store_order_line_item_qty, store_order_line_total, store_order_line_status, store_order_line_arrival_date) values (109, 16, 1.0795, 17, 18.35, 3, '5/26/2022 00:00');\r\n",
                "insert into store_order_lines (store_order_line_order_id, store_order_line_product_id, store_order_line_unit_price, store_order_line_item_qty, store_order_line_total, store_order_line_status, store_order_line_arrival_date) values (110, 20, 3.791, 15, 56.87, 3, '5/26/2022 00:00');\r\n",
                "insert into store_order_lines (store_order_line_order_id, store_order_line_product_id, store_order_line_unit_price, store_order_line_item_qty, store_order_line_total, store_order_line_status, store_order_line_arrival_date) values (111, 22, 1.3345, 15, 20.02, 3, '5/25/2022 00:00');\r\n",
                "insert into store_order_lines (store_order_line_order_id, store_order_line_product_id, store_order_line_unit_price, store_order_line_item_qty, store_order_line_total, store_order_line_status, store_order_line_arrival_date) values (112, 9, 8.262, 5, 41.31, 3, '5/29/2022 00:00');\r\n",
                "insert into store_order_lines (store_order_line_order_id, store_order_line_product_id, store_order_line_unit_price, store_order_line_item_qty, store_order_line_total, store_order_line_status, store_order_line_arrival_date) values (113, 17, 13.5915, 7, 95.14, 3, '5/28/2022 00:00');\r\n",
                "insert into store_order_lines (store_order_line_order_id, store_order_line_product_id, store_order_line_unit_price, store_order_line_item_qty, store_order_line_total, store_order_line_status, store_order_line_arrival_date) values (114, 5, 11.1775, 4, 44.71, 3, '5/21/2022 00:00');\r\n",
                "insert into store_order_lines (store_order_line_order_id, store_order_line_product_id, store_order_line_unit_price, store_order_line_item_qty, store_order_line_total, store_order_line_status, store_order_line_arrival_date) values (115, 12, 3.3915, 17, 57.66, 3, '5/30/2022 00:00');\r\n",
                "insert into store_order_lines (store_order_line_order_id, store_order_line_product_id, store_order_line_unit_price, store_order_line_item_qty, store_order_line_total, store_order_line_status, store_order_line_arrival_date) values (116, 17, 8.3385, 7, 58.37, 3, '5/25/2022 00:00');\r\n",
                "insert into store_order_lines (store_order_line_order_id, store_order_line_product_id, store_order_line_unit_price, store_order_line_item_qty, store_order_line_total, store_order_line_status, store_order_line_arrival_date) values (117, 23, 10.4975, 12, 125.97, 3, '5/29/2022 00:00');\r\n",
                "insert into store_order_lines (store_order_line_order_id, store_order_line_product_id, store_order_line_unit_price, store_order_line_item_qty, store_order_line_total, store_order_line_status, store_order_line_arrival_date) values (118, 3, 17.969, 4, 71.88, 3, '5/27/2022 00:00');\r\n",
                "insert into store_order_lines (store_order_line_order_id, store_order_line_product_id, store_order_line_unit_price, store_order_line_item_qty, store_order_line_total, store_order_line_status, store_order_line_arrival_date) values (119, 5, 5.423, 20, 108.46, 3, '5/22/2022 00:00');\r\n",
                "insert into store_order_lines (store_order_line_order_id, store_order_line_product_id, store_order_line_unit_price, store_order_line_item_qty, store_order_line_total, store_order_line_status, store_order_line_arrival_date) values (120, 13, 10.9055, 9, 98.15, 3, '5/29/2022 00:00');\r\n",
                "insert into store_order_lines (store_order_line_order_id, store_order_line_product_id, store_order_line_unit_price, store_order_line_item_qty, store_order_line_total, store_order_line_status, store_order_line_arrival_date) values (121, 24, 0.34, 18, 6.12, 3, '5/29/2022 00:00');\r\n",
                "insert into store_order_lines (store_order_line_order_id, store_order_line_product_id, store_order_line_unit_price, store_order_line_item_qty, store_order_line_total, store_order_line_status, store_order_line_arrival_date) values (122, 20, 0.7225, 18, 13, 3, '5/24/2022 00:00');\r\n",
                "insert into store_order_lines (store_order_line_order_id, store_order_line_product_id, store_order_line_unit_price, store_order_line_item_qty, store_order_line_total, store_order_line_status, store_order_line_arrival_date) values (123, 1, 2.2355, 19, 42.47, 3, '6/2/2022 00:00');\r\n",
                "insert into store_order_lines (store_order_line_order_id, store_order_line_product_id, store_order_line_unit_price, store_order_line_item_qty, store_order_line_total, store_order_line_status, store_order_line_arrival_date) values (124, 4, 3.4765, 15, 52.15, 3, '5/23/2022 00:00');\r\n",
                "insert into store_order_lines (store_order_line_order_id, store_order_line_product_id, store_order_line_unit_price, store_order_line_item_qty, store_order_line_total, store_order_line_status, store_order_line_arrival_date) values (125, 12, 14.45, 6, 86.7, 3, '6/1/2022 00:00');\r\n",
                "insert into store_order_lines (store_order_line_order_id, store_order_line_product_id, store_order_line_unit_price, store_order_line_item_qty, store_order_line_total, store_order_line_status, store_order_line_arrival_date) values (126, 17, 3.944, 20, 78.88, 3, '5/28/2022 00:00');\r\n",
                "insert into store_order_lines (store_order_line_order_id, store_order_line_product_id, store_order_line_unit_price, store_order_line_item_qty, store_order_line_total, store_order_line_status, store_order_line_arrival_date) values (127, 11, 1.3345, 12, 16.01, 3, '5/22/2022 00:00');\r\n",
                "insert into store_order_lines (store_order_line_order_id, store_order_line_product_id, store_order_line_unit_price, store_order_line_item_qty, store_order_line_total, store_order_line_status, store_order_line_arrival_date) values (128, 10, 1.071, 7, 7.5, 3, '6/1/2022 00:00');\r\n",
                "insert into store_order_lines (store_order_line_order_id, store_order_line_product_id, store_order_line_unit_price, store_order_line_item_qty, store_order_line_total, store_order_line_status, store_order_line_arrival_date) values (129, 3, 12.5205, 9, 112.68, 3, '5/30/2022 00:00');\r\n",
                "insert into store_order_lines (store_order_line_order_id, store_order_line_product_id, store_order_line_unit_price, store_order_line_item_qty, store_order_line_total, store_order_line_status, store_order_line_arrival_date) values (130, 2, 52.8275, 2, 105.66, 3, '6/5/2022 00:00');\r\n",
                "insert into store_order_lines (store_order_line_order_id, store_order_line_product_id, store_order_line_unit_price, store_order_line_item_qty, store_order_line_total, store_order_line_status, store_order_line_arrival_date) values (131, 23, 3.2385, 18, 58.29, 3, '6/1/2022 00:00');\r\n",
                "insert into store_order_lines (store_order_line_order_id, store_order_line_product_id, store_order_line_unit_price, store_order_line_item_qty, store_order_line_total, store_order_line_status, store_order_line_arrival_date) values (132, 4, 7.3355, 9, 66.02, 3, '6/5/2022 00:00');\r\n",
                "insert into store_order_lines (store_order_line_order_id, store_order_line_product_id, store_order_line_unit_price, store_order_line_item_qty, store_order_line_total, store_order_line_status, store_order_line_arrival_date) values (133, 12, 5.3295, 18, 95.93, 3, '5/27/2022 00:00');\r\n",
                "insert into store_order_lines (store_order_line_order_id, store_order_line_product_id, store_order_line_unit_price, store_order_line_item_qty, store_order_line_total, store_order_line_status, store_order_line_arrival_date) values (134, 6, 0.2805, 20, 5.61, 3, '5/28/2022 00:00');\r\n",
                "insert into store_order_lines (store_order_line_order_id, store_order_line_product_id, store_order_line_unit_price, store_order_line_item_qty, store_order_line_total, store_order_line_status, store_order_line_arrival_date) values (135, 22, 1.309, 18, 23.56, 3, '5/27/2022 00:00');\r\n",
                "insert into store_order_lines (store_order_line_order_id, store_order_line_product_id, store_order_line_unit_price, store_order_line_item_qty, store_order_line_total, store_order_line_status, store_order_line_arrival_date) values (136, 15, 0.4335, 20, 8.67, 3, '5/27/2022 00:00');\r\n",
                "insert into store_order_lines (store_order_line_order_id, store_order_line_product_id, store_order_line_unit_price, store_order_line_item_qty, store_order_line_total, store_order_line_status, store_order_line_arrival_date) values (137, 10, 10.8035, 9, 97.23, 3, '5/26/2022 00:00');\r\n",
                "insert into store_order_lines (store_order_line_order_id, store_order_line_product_id, store_order_line_unit_price, store_order_line_item_qty, store_order_line_total, store_order_line_status, store_order_line_arrival_date) values (138, 9, 1.768, 15, 26.52, 3, '6/4/2022 00:00');\r\n",
                "insert into store_order_lines (store_order_line_order_id, store_order_line_product_id, store_order_line_unit_price, store_order_line_item_qty, store_order_line_total, store_order_line_status, store_order_line_arrival_date) values (139, 23, 7.6585, 9, 68.93, 3, '5/31/2022 00:00');\r\n",
                "insert into store_order_lines (store_order_line_order_id, store_order_line_product_id, store_order_line_unit_price, store_order_line_item_qty, store_order_line_total, store_order_line_status, store_order_line_arrival_date) values (140, 6, 24.429, 3, 73.29, 3, '6/9/2022 00:00');\r\n",
                "insert into store_order_lines (store_order_line_order_id, store_order_line_product_id, store_order_line_unit_price, store_order_line_item_qty, store_order_line_total, store_order_line_status, store_order_line_arrival_date) values (141, 16, 2.6265, 12, 31.52, 3, '6/9/2022 00:00');\r\n",
                "insert into store_order_lines (store_order_line_order_id, store_order_line_product_id, store_order_line_unit_price, store_order_line_item_qty, store_order_line_total, store_order_line_status, store_order_line_arrival_date) values (142, 6, 28.2455, 4, 112.98, 3, '6/2/2022 00:00');\r\n",
                "insert into store_order_lines (store_order_line_order_id, store_order_line_product_id, store_order_line_unit_price, store_order_line_item_qty, store_order_line_total, store_order_line_status, store_order_line_arrival_date) values (143, 1, 3.1705, 18, 57.07, 3, '6/4/2022 00:00');\r\n",
                "insert into store_order_lines (store_order_line_order_id, store_order_line_product_id, store_order_line_unit_price, store_order_line_item_qty, store_order_line_total, store_order_line_status, store_order_line_arrival_date) values (144, 1, 1.054, 20, 21.08, 3, '6/1/2022 00:00');\r\n",
                "insert into store_order_lines (store_order_line_order_id, store_order_line_product_id, store_order_line_unit_price, store_order_line_item_qty, store_order_line_total, store_order_line_status, store_order_line_arrival_date) values (145, 7, 3.0345, 13, 39.45, 3, '6/12/2022 00:00');\r\n",
                "insert into store_order_lines (store_order_line_order_id, store_order_line_product_id, store_order_line_unit_price, store_order_line_item_qty, store_order_line_total, store_order_line_status, store_order_line_arrival_date) values (146, 10, 6.018, 17, 102.31, 3, '6/6/2022 00:00');\r\n",
                "insert into store_order_lines (store_order_line_order_id, store_order_line_product_id, store_order_line_unit_price, store_order_line_item_qty, store_order_line_total, store_order_line_status, store_order_line_arrival_date) values (147, 1, 1.547, 16, 24.75, 3, '6/10/2022 00:00');\r\n",
                "insert into store_order_lines (store_order_line_order_id, store_order_line_product_id, store_order_line_unit_price, store_order_line_item_qty, store_order_line_total, store_order_line_status, store_order_line_arrival_date) values (148, 22, 2.8135, 20, 56.27, 3, '5/31/2022 00:00');\r\n",
                "insert into store_order_lines (store_order_line_order_id, store_order_line_product_id, store_order_line_unit_price, store_order_line_item_qty, store_order_line_total, store_order_line_status, store_order_line_arrival_date) values (149, 17, 4.5475, 19, 86.4, 3, '6/9/2022 00:00');\r\n",
                "insert into store_order_lines (store_order_line_order_id, store_order_line_product_id, store_order_line_unit_price, store_order_line_item_qty, store_order_line_total, store_order_line_status, store_order_line_arrival_date) values (150, 6, 5.559, 5, 27.8, 3, '6/2/2022 00:00');\r\n",
                "insert into store_order_lines (store_order_line_order_id, store_order_line_product_id, store_order_line_unit_price, store_order_line_item_qty, store_order_line_total, store_order_line_status, store_order_line_arrival_date) values (151, 15, 3.0515, 17, 51.88, 3, '6/3/2022 00:00');\r\n",
                "insert into store_order_lines (store_order_line_order_id, store_order_line_product_id, store_order_line_unit_price, store_order_line_item_qty, store_order_line_total, store_order_line_status, store_order_line_arrival_date) values (152, 1, 51.782, 2, 103.56, 3, '6/9/2022 00:00');\r\n",
                "insert into store_order_lines (store_order_line_order_id, store_order_line_product_id, store_order_line_unit_price, store_order_line_item_qty, store_order_line_total, store_order_line_status, store_order_line_arrival_date) values (153, 9, 3.5105, 6, 21.06, 3, '6/6/2022 00:00');\r\n",
                "insert into store_order_lines (store_order_line_order_id, store_order_line_product_id, store_order_line_unit_price, store_order_line_item_qty, store_order_line_total, store_order_line_status, store_order_line_arrival_date) values (154, 16, 4.1565, 13, 54.03, 3, '6/12/2022 00:00');\r\n",
                "insert into store_order_lines (store_order_line_order_id, store_order_line_product_id, store_order_line_unit_price, store_order_line_item_qty, store_order_line_total, store_order_line_status, store_order_line_arrival_date) values (155, 22, 32.0025, 3, 96.01, 3, '6/10/2022 00:00');\r\n",
                "insert into store_order_lines (store_order_line_order_id, store_order_line_product_id, store_order_line_unit_price, store_order_line_item_qty, store_order_line_total, store_order_line_status, store_order_line_arrival_date) values (156, 1, 42.7805, 2, 85.56, 3, '6/13/2022 00:00');\r\n",
                "insert into store_order_lines (store_order_line_order_id, store_order_line_product_id, store_order_line_unit_price, store_order_line_item_qty, store_order_line_total, store_order_line_status, store_order_line_arrival_date) values (157, 6, 5.95, 15, 89.25, 3, '6/12/2022 00:00');\r\n",
                "insert into store_order_lines (store_order_line_order_id, store_order_line_product_id, store_order_line_unit_price, store_order_line_item_qty, store_order_line_total, store_order_line_status, store_order_line_arrival_date) values (158, 23, 2.5415, 9, 22.87, 3, '6/10/2022 00:00');\r\n",
                "insert into store_order_lines (store_order_line_order_id, store_order_line_product_id, store_order_line_unit_price, store_order_line_item_qty, store_order_line_total, store_order_line_status, store_order_line_arrival_date) values (159, 3, 3.6465, 16, 58.34, 3, '6/13/2022 00:00');\r\n",
                "insert into store_order_lines (store_order_line_order_id, store_order_line_product_id, store_order_line_unit_price, store_order_line_item_qty, store_order_line_total, store_order_line_status, store_order_line_arrival_date) values (160, 20, 8.534, 7, 59.74, 3, '6/8/2022 00:00');\r\n",
                "insert into store_order_lines (store_order_line_order_id, store_order_line_product_id, store_order_line_unit_price, store_order_line_item_qty, store_order_line_total, store_order_line_status, store_order_line_arrival_date) values (161, 19, 2.6265, 3, 7.88, 3, '6/12/2022 00:00');\r\n",
                "insert into store_order_lines (store_order_line_order_id, store_order_line_product_id, store_order_line_unit_price, store_order_line_item_qty, store_order_line_total, store_order_line_status, store_order_line_arrival_date) values (162, 10, 2.006, 18, 36.11, 3, '6/10/2022 00:00');\r\n",
                "insert into store_order_lines (store_order_line_order_id, store_order_line_product_id, store_order_line_unit_price, store_order_line_item_qty, store_order_line_total, store_order_line_status, store_order_line_arrival_date) values (163, 20, 0.986, 20, 19.72, 3, '6/19/2022 00:00');\r\n",
                "insert into store_order_lines (store_order_line_order_id, store_order_line_product_id, store_order_line_unit_price, store_order_line_item_qty, store_order_line_total, store_order_line_status, store_order_line_arrival_date) values (164, 22, 7.2505, 12, 87.01, 3, '6/15/2022 00:00');\r\n",
                "insert into store_order_lines (store_order_line_order_id, store_order_line_product_id, store_order_line_unit_price, store_order_line_item_qty, store_order_line_total, store_order_line_status, store_order_line_arrival_date) values (165, 3, 3.4255, 20, 68.51, 3, '6/19/2022 00:00');\r\n",
                "insert into store_order_lines (store_order_line_order_id, store_order_line_product_id, store_order_line_unit_price, store_order_line_item_qty, store_order_line_total, store_order_line_status, store_order_line_arrival_date) values (166, 1, 3.043, 18, 54.77, 3, '6/16/2022 00:00');\r\n",
                "insert into store_order_lines (store_order_line_order_id, store_order_line_product_id, store_order_line_unit_price, store_order_line_item_qty, store_order_line_total, store_order_line_status, store_order_line_arrival_date) values (167, 22, 4.1225, 5, 20.61, 3, '6/23/2022 00:00');\r\n",
                "insert into store_order_lines (store_order_line_order_id, store_order_line_product_id, store_order_line_unit_price, store_order_line_item_qty, store_order_line_total, store_order_line_status, store_order_line_arrival_date) values (168, 20, 2.1335, 9, 19.2, 3, '6/24/2022 00:00');\r\n",
                "insert into store_order_lines (store_order_line_order_id, store_order_line_product_id, store_order_line_unit_price, store_order_line_item_qty, store_order_line_total, store_order_line_status, store_order_line_arrival_date) values (169, 11, 1.2155, 11, 13.37, 3, '6/20/2022 00:00');\r\n",
                "insert into store_order_lines (store_order_line_order_id, store_order_line_product_id, store_order_line_unit_price, store_order_line_item_qty, store_order_line_total, store_order_line_status, store_order_line_arrival_date) values (170, 3, 5.5165, 11, 60.68, 3, '6/19/2022 00:00');\r\n",
                "insert into store_order_lines (store_order_line_order_id, store_order_line_product_id, store_order_line_unit_price, store_order_line_item_qty, store_order_line_total, store_order_line_status, store_order_line_arrival_date) values (171, 16, 5.2955, 9, 47.66, 3, '6/28/2022 00:00');\r\n",
                "insert into store_order_lines (store_order_line_order_id, store_order_line_product_id, store_order_line_unit_price, store_order_line_item_qty, store_order_line_total, store_order_line_status, store_order_line_arrival_date) values (172, 18, 2.788, 16, 44.61, 3, '6/18/2022 00:00');\r\n",
                "insert into store_order_lines (store_order_line_order_id, store_order_line_product_id, store_order_line_unit_price, store_order_line_item_qty, store_order_line_total, store_order_line_status, store_order_line_arrival_date) values (173, 5, 18.037, 7, 126.26, 3, '6/26/2022 00:00');\r\n",
                "insert into store_order_lines (store_order_line_order_id, store_order_line_product_id, store_order_line_unit_price, store_order_line_item_qty, store_order_line_total, store_order_line_status, store_order_line_arrival_date) values (174, 11, 42.398, 3, 127.19, 3, '6/22/2022 00:00');\r\n",
                "insert into store_order_lines (store_order_line_order_id, store_order_line_product_id, store_order_line_unit_price, store_order_line_item_qty, store_order_line_total, store_order_line_status, store_order_line_arrival_date) values (175, 4, 7.9815, 14, 111.74, 3, '6/20/2022 00:00');\r\n",
                "insert into store_order_lines (store_order_line_order_id, store_order_line_product_id, store_order_line_unit_price, store_order_line_item_qty, store_order_line_total, store_order_line_status, store_order_line_arrival_date) values (176, 7, 14.5435, 8, 116.35, 3, '6/24/2022 00:00');\r\n",
                "insert into store_order_lines (store_order_line_order_id, store_order_line_product_id, store_order_line_unit_price, store_order_line_item_qty, store_order_line_total, store_order_line_status, store_order_line_arrival_date) values (177, 22, 0.391, 20, 7.82, 3, '6/27/2022 00:00');\r\n",
                "insert into store_order_lines (store_order_line_order_id, store_order_line_product_id, store_order_line_unit_price, store_order_line_item_qty, store_order_line_total, store_order_line_status, store_order_line_arrival_date) values (178, 9, 5.525, 11, 60.78, 3, '6/25/2022 00:00');\r\n",
                "insert into store_order_lines (store_order_line_order_id, store_order_line_product_id, store_order_line_unit_price, store_order_line_item_qty, store_order_line_total, store_order_line_status, store_order_line_arrival_date) values (179, 16, 7.2845, 17, 123.84, 3, '7/3/2022 00:00');\r\n",
                "insert into store_order_lines (store_order_line_order_id, store_order_line_product_id, store_order_line_unit_price, store_order_line_item_qty, store_order_line_total, store_order_line_status, store_order_line_arrival_date) values (180, 7, 6.477, 9, 58.29, 3, '6/21/2022 00:00');\r\n",
                "insert into store_order_lines (store_order_line_order_id, store_order_line_product_id, store_order_line_unit_price, store_order_line_item_qty, store_order_line_total, store_order_line_status, store_order_line_arrival_date) values (181, 3, 0.6375, 17, 10.84, 3, '6/27/2022 00:00');\r\n",
                "insert into store_order_lines (store_order_line_order_id, store_order_line_product_id, store_order_line_unit_price, store_order_line_item_qty, store_order_line_total, store_order_line_status, store_order_line_arrival_date) values (182, 23, 5.831, 20, 116.62, 3, '7/4/2022 00:00');\r\n",
                "insert into store_order_lines (store_order_line_order_id, store_order_line_product_id, store_order_line_unit_price, store_order_line_item_qty, store_order_line_total, store_order_line_status, store_order_line_arrival_date) values (183, 5, 10.268, 7, 71.88, 3, '7/3/2022 00:00');\r\n",
                "insert into store_order_lines (store_order_line_order_id, store_order_line_product_id, store_order_line_unit_price, store_order_line_item_qty, store_order_line_total, store_order_line_status, store_order_line_arrival_date) values (184, 22, 53.686, 2, 107.37, 3, '7/1/2022 00:00');\r\n",
                "insert into store_order_lines (store_order_line_order_id, store_order_line_product_id, store_order_line_unit_price, store_order_line_item_qty, store_order_line_total, store_order_line_status, store_order_line_arrival_date) values (185, 1, 4.5475, 16, 72.76, 3, '7/3/2022 00:00');\r\n",
                "insert into store_order_lines (store_order_line_order_id, store_order_line_product_id, store_order_line_unit_price, store_order_line_item_qty, store_order_line_total, store_order_line_status, store_order_line_arrival_date) values (186, 13, 5.3125, 16, 85, 3, '7/5/2022 00:00');\r\n",
                "insert into store_order_lines (store_order_line_order_id, store_order_line_product_id, store_order_line_unit_price, store_order_line_item_qty, store_order_line_total, store_order_line_status, store_order_line_arrival_date) values (187, 19, 51.4675, 2, 102.94, 3, '7/5/2022 00:00');\r\n",
                "insert into store_order_lines (store_order_line_order_id, store_order_line_product_id, store_order_line_unit_price, store_order_line_item_qty, store_order_line_total, store_order_line_status, store_order_line_arrival_date) values (188, 12, 21.2075, 6, 127.25, 3, '7/3/2022 00:00');\r\n",
                "insert into store_order_lines (store_order_line_order_id, store_order_line_product_id, store_order_line_unit_price, store_order_line_item_qty, store_order_line_total, store_order_line_status, store_order_line_arrival_date) values (189, 8, 7.2505, 9, 65.25, 3, '7/1/2022 00:00');\r\n",
                "insert into store_order_lines (store_order_line_order_id, store_order_line_product_id, store_order_line_unit_price, store_order_line_item_qty, store_order_line_total, store_order_line_status, store_order_line_arrival_date) values (190, 1, 0.8415, 12, 10.1, 3, '7/7/2022 00:00');\r\n",
                "insert into store_order_lines (store_order_line_order_id, store_order_line_product_id, store_order_line_unit_price, store_order_line_item_qty, store_order_line_total, store_order_line_status, store_order_line_arrival_date) values (191, 21, 12.631, 6, 75.79, 3, '7/2/2022 00:00');\r\n",
                "insert into store_order_lines (store_order_line_order_id, store_order_line_product_id, store_order_line_unit_price, store_order_line_item_qty, store_order_line_total, store_order_line_status, store_order_line_arrival_date) values (192, 7, 15.708, 7, 109.96, 3, '6/28/2022 00:00');\r\n",
                "insert into store_order_lines (store_order_line_order_id, store_order_line_product_id, store_order_line_unit_price, store_order_line_item_qty, store_order_line_total, store_order_line_status, store_order_line_arrival_date) values (193, 4, 20.859, 3, 62.58, 3, '7/10/2022 00:00');\r\n",
                "insert into store_order_lines (store_order_line_order_id, store_order_line_product_id, store_order_line_unit_price, store_order_line_item_qty, store_order_line_total, store_order_line_status, store_order_line_arrival_date) values (194, 2, 8.3895, 7, 58.73, 3, '6/28/2022 00:00');\r\n",
                "insert into store_order_lines (store_order_line_order_id, store_order_line_product_id, store_order_line_unit_price, store_order_line_item_qty, store_order_line_total, store_order_line_status, store_order_line_arrival_date) values (195, 3, 29.3675, 2, 58.73, 3, '7/5/2022 00:00');\r\n",
                "insert into store_order_lines (store_order_line_order_id, store_order_line_product_id, store_order_line_unit_price, store_order_line_item_qty, store_order_line_total, store_order_line_status, store_order_line_arrival_date) values (196, 9, 4.0375, 10, 40.38, 3, '6/28/2022 00:00');\r\n",
                "insert into store_order_lines (store_order_line_order_id, store_order_line_product_id, store_order_line_unit_price, store_order_line_item_qty, store_order_line_total, store_order_line_status, store_order_line_arrival_date) values (197, 20, 8.483, 10, 84.83, 3, '6/29/2022 00:00');\r\n",
                "insert into store_order_lines (store_order_line_order_id, store_order_line_product_id, store_order_line_unit_price, store_order_line_item_qty, store_order_line_total, store_order_line_status, store_order_line_arrival_date) values (198, 3, 7.82, 16, 125.12, 3, '7/8/2022 00:00');\r\n",
                "insert into store_order_lines (store_order_line_order_id, store_order_line_product_id, store_order_line_unit_price, store_order_line_item_qty, store_order_line_total, store_order_line_status, store_order_line_arrival_date) values (199, 23, 3.502, 19, 66.54, 3, '7/3/2022 00:00');\r\n",
                "insert into store_order_lines (store_order_line_order_id, store_order_line_product_id, store_order_line_unit_price, store_order_line_item_qty, store_order_line_total, store_order_line_status, store_order_line_arrival_date) values (200, 20, 2.737, 6, 16.42, 3, '7/10/2022 00:00');\r\n",
                ""
            ],
            "metadata": {
                "language": "sql",
                "azdata_cell_guid": "27284ab2-dfec-4a8c-b6e2-75cae36b76ee",
                "tags": [
                    "hide_input"
                ]
            },
            "outputs": [
                {
                    "output_type": "display_data",
                    "data": {
                        "text/html": "(1 row affected)"
                    },
                    "metadata": {}
                },
                {
                    "output_type": "display_data",
                    "data": {
                        "text/html": "(1 row affected)"
                    },
                    "metadata": {}
                },
                {
                    "output_type": "display_data",
                    "data": {
                        "text/html": "(1 row affected)"
                    },
                    "metadata": {}
                },
                {
                    "output_type": "display_data",
                    "data": {
                        "text/html": "(1 row affected)"
                    },
                    "metadata": {}
                },
                {
                    "output_type": "display_data",
                    "data": {
                        "text/html": "(1 row affected)"
                    },
                    "metadata": {}
                },
                {
                    "output_type": "display_data",
                    "data": {
                        "text/html": "(1 row affected)"
                    },
                    "metadata": {}
                },
                {
                    "output_type": "display_data",
                    "data": {
                        "text/html": "(1 row affected)"
                    },
                    "metadata": {}
                },
                {
                    "output_type": "display_data",
                    "data": {
                        "text/html": "(1 row affected)"
                    },
                    "metadata": {}
                },
                {
                    "output_type": "display_data",
                    "data": {
                        "text/html": "(1 row affected)"
                    },
                    "metadata": {}
                },
                {
                    "output_type": "display_data",
                    "data": {
                        "text/html": "(1 row affected)"
                    },
                    "metadata": {}
                },
                {
                    "output_type": "display_data",
                    "data": {
                        "text/html": "(1 row affected)"
                    },
                    "metadata": {}
                },
                {
                    "output_type": "display_data",
                    "data": {
                        "text/html": "(1 row affected)"
                    },
                    "metadata": {}
                },
                {
                    "output_type": "display_data",
                    "data": {
                        "text/html": "(1 row affected)"
                    },
                    "metadata": {}
                },
                {
                    "output_type": "display_data",
                    "data": {
                        "text/html": "(1 row affected)"
                    },
                    "metadata": {}
                },
                {
                    "output_type": "display_data",
                    "data": {
                        "text/html": "(1 row affected)"
                    },
                    "metadata": {}
                },
                {
                    "output_type": "display_data",
                    "data": {
                        "text/html": "(1 row affected)"
                    },
                    "metadata": {}
                },
                {
                    "output_type": "display_data",
                    "data": {
                        "text/html": "(1 row affected)"
                    },
                    "metadata": {}
                },
                {
                    "output_type": "display_data",
                    "data": {
                        "text/html": "(1 row affected)"
                    },
                    "metadata": {}
                },
                {
                    "output_type": "display_data",
                    "data": {
                        "text/html": "(1 row affected)"
                    },
                    "metadata": {}
                },
                {
                    "output_type": "display_data",
                    "data": {
                        "text/html": "(1 row affected)"
                    },
                    "metadata": {}
                },
                {
                    "output_type": "display_data",
                    "data": {
                        "text/html": "(1 row affected)"
                    },
                    "metadata": {}
                },
                {
                    "output_type": "display_data",
                    "data": {
                        "text/html": "(1 row affected)"
                    },
                    "metadata": {}
                },
                {
                    "output_type": "display_data",
                    "data": {
                        "text/html": "(1 row affected)"
                    },
                    "metadata": {}
                },
                {
                    "output_type": "display_data",
                    "data": {
                        "text/html": "(1 row affected)"
                    },
                    "metadata": {}
                },
                {
                    "output_type": "display_data",
                    "data": {
                        "text/html": "(1 row affected)"
                    },
                    "metadata": {}
                },
                {
                    "output_type": "display_data",
                    "data": {
                        "text/html": "(1 row affected)"
                    },
                    "metadata": {}
                },
                {
                    "output_type": "display_data",
                    "data": {
                        "text/html": "(1 row affected)"
                    },
                    "metadata": {}
                },
                {
                    "output_type": "display_data",
                    "data": {
                        "text/html": "(1 row affected)"
                    },
                    "metadata": {}
                },
                {
                    "output_type": "display_data",
                    "data": {
                        "text/html": "(1 row affected)"
                    },
                    "metadata": {}
                },
                {
                    "output_type": "display_data",
                    "data": {
                        "text/html": "(1 row affected)"
                    },
                    "metadata": {}
                },
                {
                    "output_type": "display_data",
                    "data": {
                        "text/html": "(1 row affected)"
                    },
                    "metadata": {}
                },
                {
                    "output_type": "display_data",
                    "data": {
                        "text/html": "(1 row affected)"
                    },
                    "metadata": {}
                },
                {
                    "output_type": "display_data",
                    "data": {
                        "text/html": "(1 row affected)"
                    },
                    "metadata": {}
                },
                {
                    "output_type": "display_data",
                    "data": {
                        "text/html": "(1 row affected)"
                    },
                    "metadata": {}
                },
                {
                    "output_type": "display_data",
                    "data": {
                        "text/html": "(1 row affected)"
                    },
                    "metadata": {}
                },
                {
                    "output_type": "display_data",
                    "data": {
                        "text/html": "(1 row affected)"
                    },
                    "metadata": {}
                },
                {
                    "output_type": "display_data",
                    "data": {
                        "text/html": "(1 row affected)"
                    },
                    "metadata": {}
                },
                {
                    "output_type": "display_data",
                    "data": {
                        "text/html": "(1 row affected)"
                    },
                    "metadata": {}
                },
                {
                    "output_type": "display_data",
                    "data": {
                        "text/html": "(1 row affected)"
                    },
                    "metadata": {}
                },
                {
                    "output_type": "display_data",
                    "data": {
                        "text/html": "(1 row affected)"
                    },
                    "metadata": {}
                },
                {
                    "output_type": "display_data",
                    "data": {
                        "text/html": "(1 row affected)"
                    },
                    "metadata": {}
                },
                {
                    "output_type": "display_data",
                    "data": {
                        "text/html": "(1 row affected)"
                    },
                    "metadata": {}
                },
                {
                    "output_type": "display_data",
                    "data": {
                        "text/html": "(1 row affected)"
                    },
                    "metadata": {}
                },
                {
                    "output_type": "display_data",
                    "data": {
                        "text/html": "(1 row affected)"
                    },
                    "metadata": {}
                },
                {
                    "output_type": "display_data",
                    "data": {
                        "text/html": "(1 row affected)"
                    },
                    "metadata": {}
                },
                {
                    "output_type": "display_data",
                    "data": {
                        "text/html": "(1 row affected)"
                    },
                    "metadata": {}
                },
                {
                    "output_type": "display_data",
                    "data": {
                        "text/html": "(1 row affected)"
                    },
                    "metadata": {}
                },
                {
                    "output_type": "display_data",
                    "data": {
                        "text/html": "(1 row affected)"
                    },
                    "metadata": {}
                },
                {
                    "output_type": "display_data",
                    "data": {
                        "text/html": "(1 row affected)"
                    },
                    "metadata": {}
                },
                {
                    "output_type": "display_data",
                    "data": {
                        "text/html": "(1 row affected)"
                    },
                    "metadata": {}
                },
                {
                    "output_type": "display_data",
                    "data": {
                        "text/html": "(1 row affected)"
                    },
                    "metadata": {}
                },
                {
                    "output_type": "display_data",
                    "data": {
                        "text/html": "(1 row affected)"
                    },
                    "metadata": {}
                },
                {
                    "output_type": "display_data",
                    "data": {
                        "text/html": "(1 row affected)"
                    },
                    "metadata": {}
                },
                {
                    "output_type": "display_data",
                    "data": {
                        "text/html": "(1 row affected)"
                    },
                    "metadata": {}
                },
                {
                    "output_type": "display_data",
                    "data": {
                        "text/html": "(1 row affected)"
                    },
                    "metadata": {}
                },
                {
                    "output_type": "display_data",
                    "data": {
                        "text/html": "(1 row affected)"
                    },
                    "metadata": {}
                },
                {
                    "output_type": "display_data",
                    "data": {
                        "text/html": "(1 row affected)"
                    },
                    "metadata": {}
                },
                {
                    "output_type": "display_data",
                    "data": {
                        "text/html": "(1 row affected)"
                    },
                    "metadata": {}
                },
                {
                    "output_type": "display_data",
                    "data": {
                        "text/html": "(1 row affected)"
                    },
                    "metadata": {}
                },
                {
                    "output_type": "display_data",
                    "data": {
                        "text/html": "(1 row affected)"
                    },
                    "metadata": {}
                },
                {
                    "output_type": "display_data",
                    "data": {
                        "text/html": "(1 row affected)"
                    },
                    "metadata": {}
                },
                {
                    "output_type": "display_data",
                    "data": {
                        "text/html": "(1 row affected)"
                    },
                    "metadata": {}
                },
                {
                    "output_type": "display_data",
                    "data": {
                        "text/html": "(1 row affected)"
                    },
                    "metadata": {}
                },
                {
                    "output_type": "display_data",
                    "data": {
                        "text/html": "(1 row affected)"
                    },
                    "metadata": {}
                },
                {
                    "output_type": "display_data",
                    "data": {
                        "text/html": "(1 row affected)"
                    },
                    "metadata": {}
                },
                {
                    "output_type": "display_data",
                    "data": {
                        "text/html": "(1 row affected)"
                    },
                    "metadata": {}
                },
                {
                    "output_type": "display_data",
                    "data": {
                        "text/html": "(1 row affected)"
                    },
                    "metadata": {}
                },
                {
                    "output_type": "display_data",
                    "data": {
                        "text/html": "(1 row affected)"
                    },
                    "metadata": {}
                },
                {
                    "output_type": "display_data",
                    "data": {
                        "text/html": "(1 row affected)"
                    },
                    "metadata": {}
                },
                {
                    "output_type": "display_data",
                    "data": {
                        "text/html": "(1 row affected)"
                    },
                    "metadata": {}
                },
                {
                    "output_type": "display_data",
                    "data": {
                        "text/html": "(1 row affected)"
                    },
                    "metadata": {}
                },
                {
                    "output_type": "display_data",
                    "data": {
                        "text/html": "(1 row affected)"
                    },
                    "metadata": {}
                },
                {
                    "output_type": "display_data",
                    "data": {
                        "text/html": "(1 row affected)"
                    },
                    "metadata": {}
                },
                {
                    "output_type": "display_data",
                    "data": {
                        "text/html": "(1 row affected)"
                    },
                    "metadata": {}
                },
                {
                    "output_type": "display_data",
                    "data": {
                        "text/html": "(1 row affected)"
                    },
                    "metadata": {}
                },
                {
                    "output_type": "display_data",
                    "data": {
                        "text/html": "(1 row affected)"
                    },
                    "metadata": {}
                },
                {
                    "output_type": "display_data",
                    "data": {
                        "text/html": "(1 row affected)"
                    },
                    "metadata": {}
                },
                {
                    "output_type": "display_data",
                    "data": {
                        "text/html": "(1 row affected)"
                    },
                    "metadata": {}
                },
                {
                    "output_type": "display_data",
                    "data": {
                        "text/html": "(1 row affected)"
                    },
                    "metadata": {}
                },
                {
                    "output_type": "display_data",
                    "data": {
                        "text/html": "(1 row affected)"
                    },
                    "metadata": {}
                },
                {
                    "output_type": "display_data",
                    "data": {
                        "text/html": "(1 row affected)"
                    },
                    "metadata": {}
                },
                {
                    "output_type": "display_data",
                    "data": {
                        "text/html": "(1 row affected)"
                    },
                    "metadata": {}
                },
                {
                    "output_type": "display_data",
                    "data": {
                        "text/html": "(1 row affected)"
                    },
                    "metadata": {}
                },
                {
                    "output_type": "display_data",
                    "data": {
                        "text/html": "(1 row affected)"
                    },
                    "metadata": {}
                },
                {
                    "output_type": "display_data",
                    "data": {
                        "text/html": "(1 row affected)"
                    },
                    "metadata": {}
                },
                {
                    "output_type": "display_data",
                    "data": {
                        "text/html": "(1 row affected)"
                    },
                    "metadata": {}
                },
                {
                    "output_type": "display_data",
                    "data": {
                        "text/html": "(1 row affected)"
                    },
                    "metadata": {}
                },
                {
                    "output_type": "display_data",
                    "data": {
                        "text/html": "(1 row affected)"
                    },
                    "metadata": {}
                },
                {
                    "output_type": "display_data",
                    "data": {
                        "text/html": "(1 row affected)"
                    },
                    "metadata": {}
                },
                {
                    "output_type": "display_data",
                    "data": {
                        "text/html": "(1 row affected)"
                    },
                    "metadata": {}
                },
                {
                    "output_type": "display_data",
                    "data": {
                        "text/html": "(1 row affected)"
                    },
                    "metadata": {}
                },
                {
                    "output_type": "display_data",
                    "data": {
                        "text/html": "(1 row affected)"
                    },
                    "metadata": {}
                },
                {
                    "output_type": "display_data",
                    "data": {
                        "text/html": "(1 row affected)"
                    },
                    "metadata": {}
                },
                {
                    "output_type": "display_data",
                    "data": {
                        "text/html": "(1 row affected)"
                    },
                    "metadata": {}
                },
                {
                    "output_type": "display_data",
                    "data": {
                        "text/html": "(1 row affected)"
                    },
                    "metadata": {}
                },
                {
                    "output_type": "display_data",
                    "data": {
                        "text/html": "(1 row affected)"
                    },
                    "metadata": {}
                },
                {
                    "output_type": "display_data",
                    "data": {
                        "text/html": "(1 row affected)"
                    },
                    "metadata": {}
                },
                {
                    "output_type": "display_data",
                    "data": {
                        "text/html": "(1 row affected)"
                    },
                    "metadata": {}
                },
                {
                    "output_type": "display_data",
                    "data": {
                        "text/html": "(1 row affected)"
                    },
                    "metadata": {}
                },
                {
                    "output_type": "display_data",
                    "data": {
                        "text/html": "(1 row affected)"
                    },
                    "metadata": {}
                },
                {
                    "output_type": "display_data",
                    "data": {
                        "text/html": "(1 row affected)"
                    },
                    "metadata": {}
                },
                {
                    "output_type": "display_data",
                    "data": {
                        "text/html": "(1 row affected)"
                    },
                    "metadata": {}
                },
                {
                    "output_type": "display_data",
                    "data": {
                        "text/html": "(1 row affected)"
                    },
                    "metadata": {}
                },
                {
                    "output_type": "display_data",
                    "data": {
                        "text/html": "(1 row affected)"
                    },
                    "metadata": {}
                },
                {
                    "output_type": "display_data",
                    "data": {
                        "text/html": "(1 row affected)"
                    },
                    "metadata": {}
                },
                {
                    "output_type": "display_data",
                    "data": {
                        "text/html": "(1 row affected)"
                    },
                    "metadata": {}
                },
                {
                    "output_type": "display_data",
                    "data": {
                        "text/html": "(1 row affected)"
                    },
                    "metadata": {}
                },
                {
                    "output_type": "display_data",
                    "data": {
                        "text/html": "(1 row affected)"
                    },
                    "metadata": {}
                },
                {
                    "output_type": "display_data",
                    "data": {
                        "text/html": "(1 row affected)"
                    },
                    "metadata": {}
                },
                {
                    "output_type": "display_data",
                    "data": {
                        "text/html": "(1 row affected)"
                    },
                    "metadata": {}
                },
                {
                    "output_type": "display_data",
                    "data": {
                        "text/html": "(1 row affected)"
                    },
                    "metadata": {}
                },
                {
                    "output_type": "display_data",
                    "data": {
                        "text/html": "(1 row affected)"
                    },
                    "metadata": {}
                },
                {
                    "output_type": "display_data",
                    "data": {
                        "text/html": "(1 row affected)"
                    },
                    "metadata": {}
                },
                {
                    "output_type": "display_data",
                    "data": {
                        "text/html": "(1 row affected)"
                    },
                    "metadata": {}
                },
                {
                    "output_type": "display_data",
                    "data": {
                        "text/html": "(1 row affected)"
                    },
                    "metadata": {}
                },
                {
                    "output_type": "display_data",
                    "data": {
                        "text/html": "(1 row affected)"
                    },
                    "metadata": {}
                },
                {
                    "output_type": "display_data",
                    "data": {
                        "text/html": "(1 row affected)"
                    },
                    "metadata": {}
                },
                {
                    "output_type": "display_data",
                    "data": {
                        "text/html": "(1 row affected)"
                    },
                    "metadata": {}
                },
                {
                    "output_type": "display_data",
                    "data": {
                        "text/html": "(1 row affected)"
                    },
                    "metadata": {}
                },
                {
                    "output_type": "display_data",
                    "data": {
                        "text/html": "(1 row affected)"
                    },
                    "metadata": {}
                },
                {
                    "output_type": "display_data",
                    "data": {
                        "text/html": "(1 row affected)"
                    },
                    "metadata": {}
                },
                {
                    "output_type": "display_data",
                    "data": {
                        "text/html": "(1 row affected)"
                    },
                    "metadata": {}
                },
                {
                    "output_type": "display_data",
                    "data": {
                        "text/html": "(1 row affected)"
                    },
                    "metadata": {}
                },
                {
                    "output_type": "display_data",
                    "data": {
                        "text/html": "(1 row affected)"
                    },
                    "metadata": {}
                },
                {
                    "output_type": "display_data",
                    "data": {
                        "text/html": "(1 row affected)"
                    },
                    "metadata": {}
                },
                {
                    "output_type": "display_data",
                    "data": {
                        "text/html": "(1 row affected)"
                    },
                    "metadata": {}
                },
                {
                    "output_type": "display_data",
                    "data": {
                        "text/html": "(1 row affected)"
                    },
                    "metadata": {}
                },
                {
                    "output_type": "display_data",
                    "data": {
                        "text/html": "(1 row affected)"
                    },
                    "metadata": {}
                },
                {
                    "output_type": "display_data",
                    "data": {
                        "text/html": "(1 row affected)"
                    },
                    "metadata": {}
                },
                {
                    "output_type": "display_data",
                    "data": {
                        "text/html": "(1 row affected)"
                    },
                    "metadata": {}
                },
                {
                    "output_type": "display_data",
                    "data": {
                        "text/html": "(1 row affected)"
                    },
                    "metadata": {}
                },
                {
                    "output_type": "display_data",
                    "data": {
                        "text/html": "(1 row affected)"
                    },
                    "metadata": {}
                },
                {
                    "output_type": "display_data",
                    "data": {
                        "text/html": "(1 row affected)"
                    },
                    "metadata": {}
                },
                {
                    "output_type": "display_data",
                    "data": {
                        "text/html": "(1 row affected)"
                    },
                    "metadata": {}
                },
                {
                    "output_type": "display_data",
                    "data": {
                        "text/html": "(1 row affected)"
                    },
                    "metadata": {}
                },
                {
                    "output_type": "display_data",
                    "data": {
                        "text/html": "(1 row affected)"
                    },
                    "metadata": {}
                },
                {
                    "output_type": "display_data",
                    "data": {
                        "text/html": "(1 row affected)"
                    },
                    "metadata": {}
                },
                {
                    "output_type": "display_data",
                    "data": {
                        "text/html": "(1 row affected)"
                    },
                    "metadata": {}
                },
                {
                    "output_type": "display_data",
                    "data": {
                        "text/html": "(1 row affected)"
                    },
                    "metadata": {}
                },
                {
                    "output_type": "display_data",
                    "data": {
                        "text/html": "(1 row affected)"
                    },
                    "metadata": {}
                },
                {
                    "output_type": "display_data",
                    "data": {
                        "text/html": "(1 row affected)"
                    },
                    "metadata": {}
                },
                {
                    "output_type": "display_data",
                    "data": {
                        "text/html": "(1 row affected)"
                    },
                    "metadata": {}
                },
                {
                    "output_type": "display_data",
                    "data": {
                        "text/html": "(1 row affected)"
                    },
                    "metadata": {}
                },
                {
                    "output_type": "display_data",
                    "data": {
                        "text/html": "(1 row affected)"
                    },
                    "metadata": {}
                },
                {
                    "output_type": "display_data",
                    "data": {
                        "text/html": "(1 row affected)"
                    },
                    "metadata": {}
                },
                {
                    "output_type": "display_data",
                    "data": {
                        "text/html": "(1 row affected)"
                    },
                    "metadata": {}
                },
                {
                    "output_type": "display_data",
                    "data": {
                        "text/html": "(1 row affected)"
                    },
                    "metadata": {}
                },
                {
                    "output_type": "display_data",
                    "data": {
                        "text/html": "(1 row affected)"
                    },
                    "metadata": {}
                },
                {
                    "output_type": "display_data",
                    "data": {
                        "text/html": "(1 row affected)"
                    },
                    "metadata": {}
                },
                {
                    "output_type": "display_data",
                    "data": {
                        "text/html": "(1 row affected)"
                    },
                    "metadata": {}
                },
                {
                    "output_type": "display_data",
                    "data": {
                        "text/html": "(1 row affected)"
                    },
                    "metadata": {}
                },
                {
                    "output_type": "display_data",
                    "data": {
                        "text/html": "(1 row affected)"
                    },
                    "metadata": {}
                },
                {
                    "output_type": "display_data",
                    "data": {
                        "text/html": "(1 row affected)"
                    },
                    "metadata": {}
                },
                {
                    "output_type": "display_data",
                    "data": {
                        "text/html": "(1 row affected)"
                    },
                    "metadata": {}
                },
                {
                    "output_type": "display_data",
                    "data": {
                        "text/html": "(1 row affected)"
                    },
                    "metadata": {}
                },
                {
                    "output_type": "display_data",
                    "data": {
                        "text/html": "(1 row affected)"
                    },
                    "metadata": {}
                },
                {
                    "output_type": "display_data",
                    "data": {
                        "text/html": "(1 row affected)"
                    },
                    "metadata": {}
                },
                {
                    "output_type": "display_data",
                    "data": {
                        "text/html": "(1 row affected)"
                    },
                    "metadata": {}
                },
                {
                    "output_type": "display_data",
                    "data": {
                        "text/html": "(1 row affected)"
                    },
                    "metadata": {}
                },
                {
                    "output_type": "display_data",
                    "data": {
                        "text/html": "(1 row affected)"
                    },
                    "metadata": {}
                },
                {
                    "output_type": "display_data",
                    "data": {
                        "text/html": "(1 row affected)"
                    },
                    "metadata": {}
                },
                {
                    "output_type": "display_data",
                    "data": {
                        "text/html": "(1 row affected)"
                    },
                    "metadata": {}
                },
                {
                    "output_type": "display_data",
                    "data": {
                        "text/html": "(1 row affected)"
                    },
                    "metadata": {}
                },
                {
                    "output_type": "display_data",
                    "data": {
                        "text/html": "(1 row affected)"
                    },
                    "metadata": {}
                },
                {
                    "output_type": "display_data",
                    "data": {
                        "text/html": "(1 row affected)"
                    },
                    "metadata": {}
                },
                {
                    "output_type": "display_data",
                    "data": {
                        "text/html": "(1 row affected)"
                    },
                    "metadata": {}
                },
                {
                    "output_type": "display_data",
                    "data": {
                        "text/html": "(1 row affected)"
                    },
                    "metadata": {}
                },
                {
                    "output_type": "display_data",
                    "data": {
                        "text/html": "(1 row affected)"
                    },
                    "metadata": {}
                },
                {
                    "output_type": "display_data",
                    "data": {
                        "text/html": "(1 row affected)"
                    },
                    "metadata": {}
                },
                {
                    "output_type": "display_data",
                    "data": {
                        "text/html": "(1 row affected)"
                    },
                    "metadata": {}
                },
                {
                    "output_type": "display_data",
                    "data": {
                        "text/html": "(1 row affected)"
                    },
                    "metadata": {}
                },
                {
                    "output_type": "display_data",
                    "data": {
                        "text/html": "(1 row affected)"
                    },
                    "metadata": {}
                },
                {
                    "output_type": "display_data",
                    "data": {
                        "text/html": "(1 row affected)"
                    },
                    "metadata": {}
                },
                {
                    "output_type": "display_data",
                    "data": {
                        "text/html": "(1 row affected)"
                    },
                    "metadata": {}
                },
                {
                    "output_type": "display_data",
                    "data": {
                        "text/html": "(1 row affected)"
                    },
                    "metadata": {}
                },
                {
                    "output_type": "display_data",
                    "data": {
                        "text/html": "(1 row affected)"
                    },
                    "metadata": {}
                },
                {
                    "output_type": "display_data",
                    "data": {
                        "text/html": "(1 row affected)"
                    },
                    "metadata": {}
                },
                {
                    "output_type": "display_data",
                    "data": {
                        "text/html": "(1 row affected)"
                    },
                    "metadata": {}
                },
                {
                    "output_type": "display_data",
                    "data": {
                        "text/html": "(1 row affected)"
                    },
                    "metadata": {}
                },
                {
                    "output_type": "display_data",
                    "data": {
                        "text/html": "(1 row affected)"
                    },
                    "metadata": {}
                },
                {
                    "output_type": "display_data",
                    "data": {
                        "text/html": "(1 row affected)"
                    },
                    "metadata": {}
                },
                {
                    "output_type": "display_data",
                    "data": {
                        "text/html": "(1 row affected)"
                    },
                    "metadata": {}
                },
                {
                    "output_type": "display_data",
                    "data": {
                        "text/html": "(1 row affected)"
                    },
                    "metadata": {}
                },
                {
                    "output_type": "display_data",
                    "data": {
                        "text/html": "(1 row affected)"
                    },
                    "metadata": {}
                },
                {
                    "output_type": "display_data",
                    "data": {
                        "text/html": "(1 row affected)"
                    },
                    "metadata": {}
                },
                {
                    "output_type": "display_data",
                    "data": {
                        "text/html": "(1 row affected)"
                    },
                    "metadata": {}
                },
                {
                    "output_type": "display_data",
                    "data": {
                        "text/html": "(1 row affected)"
                    },
                    "metadata": {}
                },
                {
                    "output_type": "display_data",
                    "data": {
                        "text/html": "(1 row affected)"
                    },
                    "metadata": {}
                },
                {
                    "output_type": "display_data",
                    "data": {
                        "text/html": "(1 row affected)"
                    },
                    "metadata": {}
                },
                {
                    "output_type": "display_data",
                    "data": {
                        "text/html": "(1 row affected)"
                    },
                    "metadata": {}
                },
                {
                    "output_type": "display_data",
                    "data": {
                        "text/html": "(1 row affected)"
                    },
                    "metadata": {}
                },
                {
                    "output_type": "display_data",
                    "data": {
                        "text/html": "(1 row affected)"
                    },
                    "metadata": {}
                },
                {
                    "output_type": "display_data",
                    "data": {
                        "text/html": "(1 row affected)"
                    },
                    "metadata": {}
                },
                {
                    "output_type": "display_data",
                    "data": {
                        "text/html": "(1 row affected)"
                    },
                    "metadata": {}
                },
                {
                    "output_type": "display_data",
                    "data": {
                        "text/html": "(1 row affected)"
                    },
                    "metadata": {}
                },
                {
                    "output_type": "display_data",
                    "data": {
                        "text/html": "(1 row affected)"
                    },
                    "metadata": {}
                },
                {
                    "output_type": "display_data",
                    "data": {
                        "text/html": "(1 row affected)"
                    },
                    "metadata": {}
                },
                {
                    "output_type": "display_data",
                    "data": {
                        "text/html": "(1 row affected)"
                    },
                    "metadata": {}
                },
                {
                    "output_type": "display_data",
                    "data": {
                        "text/html": "(1 row affected)"
                    },
                    "metadata": {}
                },
                {
                    "output_type": "display_data",
                    "data": {
                        "text/html": "(1 row affected)"
                    },
                    "metadata": {}
                },
                {
                    "output_type": "display_data",
                    "data": {
                        "text/html": "Total execution time: 00:00:00.707"
                    },
                    "metadata": {}
                }
            ],
            "execution_count": 20
        },
        {
            "cell_type": "code",
            "source": [
                "--Data locations\r\n",
                "insert into locations (location_name) values ('A1');\r\n",
                "insert into locations (location_name) values ('A2');\r\n",
                "insert into locations (location_name) values ('A3');\r\n",
                "insert into locations (location_name) values ('A4');\r\n",
                "insert into locations (location_name) values ('B1');\r\n",
                "insert into locations (location_name) values ('B2');\r\n",
                "insert into locations (location_name) values ('B3');\r\n",
                "insert into locations (location_name) values ('B4');\r\n",
                "insert into locations (location_name) values ('C1');\r\n",
                "insert into locations (location_name) values ('C2');\r\n",
                "insert into locations (location_name) values ('C3');\r\n",
                "insert into locations (location_name) values ('C4');\r\n",
                "insert into locations (location_name) values ('D1');\r\n",
                "insert into locations (location_name) values ('D2');\r\n",
                "insert into locations (location_name) values ('D3');\r\n",
                "insert into locations (location_name) values ('D4');"
            ],
            "metadata": {
                "language": "sql",
                "azdata_cell_guid": "479d29db-7dda-4763-b811-af453bcd7735",
                "tags": [
                    "hide_input"
                ]
            },
            "outputs": [
                {
                    "output_type": "display_data",
                    "data": {
                        "text/html": "(1 row affected)"
                    },
                    "metadata": {}
                },
                {
                    "output_type": "display_data",
                    "data": {
                        "text/html": "(1 row affected)"
                    },
                    "metadata": {}
                },
                {
                    "output_type": "display_data",
                    "data": {
                        "text/html": "(1 row affected)"
                    },
                    "metadata": {}
                },
                {
                    "output_type": "display_data",
                    "data": {
                        "text/html": "(1 row affected)"
                    },
                    "metadata": {}
                },
                {
                    "output_type": "display_data",
                    "data": {
                        "text/html": "(1 row affected)"
                    },
                    "metadata": {}
                },
                {
                    "output_type": "display_data",
                    "data": {
                        "text/html": "(1 row affected)"
                    },
                    "metadata": {}
                },
                {
                    "output_type": "display_data",
                    "data": {
                        "text/html": "(1 row affected)"
                    },
                    "metadata": {}
                },
                {
                    "output_type": "display_data",
                    "data": {
                        "text/html": "(1 row affected)"
                    },
                    "metadata": {}
                },
                {
                    "output_type": "display_data",
                    "data": {
                        "text/html": "(1 row affected)"
                    },
                    "metadata": {}
                },
                {
                    "output_type": "display_data",
                    "data": {
                        "text/html": "(1 row affected)"
                    },
                    "metadata": {}
                },
                {
                    "output_type": "display_data",
                    "data": {
                        "text/html": "(1 row affected)"
                    },
                    "metadata": {}
                },
                {
                    "output_type": "display_data",
                    "data": {
                        "text/html": "(1 row affected)"
                    },
                    "metadata": {}
                },
                {
                    "output_type": "display_data",
                    "data": {
                        "text/html": "(1 row affected)"
                    },
                    "metadata": {}
                },
                {
                    "output_type": "display_data",
                    "data": {
                        "text/html": "(1 row affected)"
                    },
                    "metadata": {}
                },
                {
                    "output_type": "display_data",
                    "data": {
                        "text/html": "(1 row affected)"
                    },
                    "metadata": {}
                },
                {
                    "output_type": "display_data",
                    "data": {
                        "text/html": "(1 row affected)"
                    },
                    "metadata": {}
                },
                {
                    "output_type": "display_data",
                    "data": {
                        "text/html": "Total execution time: 00:00:00.055"
                    },
                    "metadata": {}
                }
            ],
            "execution_count": 21
        },
        {
            "cell_type": "code",
            "source": [
                "--Data into product_locations\r\n",
                "insert into product_locations (product_id,location_id) values (1,1);\r\n",
                "insert into product_locations (product_id,location_id) values (1,2);\r\n",
                "insert into product_locations (product_id,location_id) values (2,1);\r\n",
                "insert into product_locations (product_id,location_id) values (2,2);\r\n",
                "insert into product_locations (product_id,location_id) values (3,1);\r\n",
                "insert into product_locations (product_id,location_id) values (3,2);\r\n",
                "\r\n",
                "insert into product_locations (product_id,location_id) values (4,3);\r\n",
                "insert into product_locations (product_id,location_id) values (4,4);\r\n",
                "insert into product_locations (product_id,location_id) values (5,3);\r\n",
                "insert into product_locations (product_id,location_id) values (5,4);\r\n",
                "insert into product_locations (product_id,location_id) values (6,3);\r\n",
                "insert into product_locations (product_id,location_id) values (6,4);\r\n",
                "\r\n",
                "insert into product_locations (product_id,location_id) values (7,5);\r\n",
                "insert into product_locations (product_id,location_id) values (7,6);\r\n",
                "insert into product_locations (product_id,location_id) values (8,5);\r\n",
                "insert into product_locations (product_id,location_id) values (8,6);\r\n",
                "insert into product_locations (product_id,location_id) values (9,5);\r\n",
                "insert into product_locations (product_id,location_id) values (9,6);\r\n",
                "\r\n",
                "insert into product_locations (product_id,location_id) values (10,7);\r\n",
                "insert into product_locations (product_id,location_id) values (10,8);\r\n",
                "insert into product_locations (product_id,location_id) values (11,7);\r\n",
                "insert into product_locations (product_id,location_id) values (11,8);\r\n",
                "insert into product_locations (product_id,location_id) values (12,7);\r\n",
                "insert into product_locations (product_id,location_id) values (12,8);\r\n",
                "\r\n",
                "insert into product_locations (product_id,location_id) values (13,9);\r\n",
                "insert into product_locations (product_id,location_id) values (13,10);\r\n",
                "insert into product_locations (product_id,location_id) values (14,9);\r\n",
                "insert into product_locations (product_id,location_id) values (14,10);\r\n",
                "insert into product_locations (product_id,location_id) values (15,9);\r\n",
                "insert into product_locations (product_id,location_id) values (15,10);\r\n",
                "\r\n",
                "insert into product_locations (product_id,location_id) values (16,11);\r\n",
                "insert into product_locations (product_id,location_id) values (16,12);\r\n",
                "insert into product_locations (product_id,location_id) values (17,11);\r\n",
                "insert into product_locations (product_id,location_id) values (17,12);\r\n",
                "insert into product_locations (product_id,location_id) values (18,11);\r\n",
                "insert into product_locations (product_id,location_id) values (18,12);\r\n",
                "\r\n",
                "insert into product_locations (product_id,location_id) values (19,13);\r\n",
                "insert into product_locations (product_id,location_id) values (19,14);\r\n",
                "insert into product_locations (product_id,location_id) values (20,13);\r\n",
                "insert into product_locations (product_id,location_id) values (20,14);\r\n",
                "insert into product_locations (product_id,location_id) values (21,13);\r\n",
                "insert into product_locations (product_id,location_id) values (21,14);\r\n",
                "\r\n",
                "insert into product_locations (product_id,location_id) values (22,15);\r\n",
                "insert into product_locations (product_id,location_id) values (22,16);\r\n",
                "insert into product_locations (product_id,location_id) values (23,15);\r\n",
                "insert into product_locations (product_id,location_id) values (23,16);\r\n",
                "insert into product_locations (product_id,location_id) values (24,15);\r\n",
                "insert into product_locations (product_id,location_id) values (24,16);\r\n",
                "\r\n",
                "alter table product_locations\r\n",
                "    add constraint fk_product_locations_product_id foreign key (product_id) references products\r\n",
                "alter table product_locations\r\n",
                "    add constraint fk_product_locations_location_id foreign key (location_id) references locations\r\n",
                "alter table product_locations\r\n",
                "    add constraint pk_product_location_id primary key (product_id,location_id)"
            ],
            "metadata": {
                "language": "sql",
                "azdata_cell_guid": "0a20aac8-d6b6-4f88-b12f-70dcb41b4d85",
                "tags": [
                    "hide_input"
                ]
            },
            "outputs": [
                {
                    "output_type": "display_data",
                    "data": {
                        "text/html": "(1 row affected)"
                    },
                    "metadata": {}
                },
                {
                    "output_type": "display_data",
                    "data": {
                        "text/html": "(1 row affected)"
                    },
                    "metadata": {}
                },
                {
                    "output_type": "display_data",
                    "data": {
                        "text/html": "(1 row affected)"
                    },
                    "metadata": {}
                },
                {
                    "output_type": "display_data",
                    "data": {
                        "text/html": "(1 row affected)"
                    },
                    "metadata": {}
                },
                {
                    "output_type": "display_data",
                    "data": {
                        "text/html": "(1 row affected)"
                    },
                    "metadata": {}
                },
                {
                    "output_type": "display_data",
                    "data": {
                        "text/html": "(1 row affected)"
                    },
                    "metadata": {}
                },
                {
                    "output_type": "display_data",
                    "data": {
                        "text/html": "(1 row affected)"
                    },
                    "metadata": {}
                },
                {
                    "output_type": "display_data",
                    "data": {
                        "text/html": "(1 row affected)"
                    },
                    "metadata": {}
                },
                {
                    "output_type": "display_data",
                    "data": {
                        "text/html": "(1 row affected)"
                    },
                    "metadata": {}
                },
                {
                    "output_type": "display_data",
                    "data": {
                        "text/html": "(1 row affected)"
                    },
                    "metadata": {}
                },
                {
                    "output_type": "display_data",
                    "data": {
                        "text/html": "(1 row affected)"
                    },
                    "metadata": {}
                },
                {
                    "output_type": "display_data",
                    "data": {
                        "text/html": "(1 row affected)"
                    },
                    "metadata": {}
                },
                {
                    "output_type": "display_data",
                    "data": {
                        "text/html": "(1 row affected)"
                    },
                    "metadata": {}
                },
                {
                    "output_type": "display_data",
                    "data": {
                        "text/html": "(1 row affected)"
                    },
                    "metadata": {}
                },
                {
                    "output_type": "display_data",
                    "data": {
                        "text/html": "(1 row affected)"
                    },
                    "metadata": {}
                },
                {
                    "output_type": "display_data",
                    "data": {
                        "text/html": "(1 row affected)"
                    },
                    "metadata": {}
                },
                {
                    "output_type": "display_data",
                    "data": {
                        "text/html": "(1 row affected)"
                    },
                    "metadata": {}
                },
                {
                    "output_type": "display_data",
                    "data": {
                        "text/html": "(1 row affected)"
                    },
                    "metadata": {}
                },
                {
                    "output_type": "display_data",
                    "data": {
                        "text/html": "(1 row affected)"
                    },
                    "metadata": {}
                },
                {
                    "output_type": "display_data",
                    "data": {
                        "text/html": "(1 row affected)"
                    },
                    "metadata": {}
                },
                {
                    "output_type": "display_data",
                    "data": {
                        "text/html": "(1 row affected)"
                    },
                    "metadata": {}
                },
                {
                    "output_type": "display_data",
                    "data": {
                        "text/html": "(1 row affected)"
                    },
                    "metadata": {}
                },
                {
                    "output_type": "display_data",
                    "data": {
                        "text/html": "(1 row affected)"
                    },
                    "metadata": {}
                },
                {
                    "output_type": "display_data",
                    "data": {
                        "text/html": "(1 row affected)"
                    },
                    "metadata": {}
                },
                {
                    "output_type": "display_data",
                    "data": {
                        "text/html": "(1 row affected)"
                    },
                    "metadata": {}
                },
                {
                    "output_type": "display_data",
                    "data": {
                        "text/html": "(1 row affected)"
                    },
                    "metadata": {}
                },
                {
                    "output_type": "display_data",
                    "data": {
                        "text/html": "(1 row affected)"
                    },
                    "metadata": {}
                },
                {
                    "output_type": "display_data",
                    "data": {
                        "text/html": "(1 row affected)"
                    },
                    "metadata": {}
                },
                {
                    "output_type": "display_data",
                    "data": {
                        "text/html": "(1 row affected)"
                    },
                    "metadata": {}
                },
                {
                    "output_type": "display_data",
                    "data": {
                        "text/html": "(1 row affected)"
                    },
                    "metadata": {}
                },
                {
                    "output_type": "display_data",
                    "data": {
                        "text/html": "(1 row affected)"
                    },
                    "metadata": {}
                },
                {
                    "output_type": "display_data",
                    "data": {
                        "text/html": "(1 row affected)"
                    },
                    "metadata": {}
                },
                {
                    "output_type": "display_data",
                    "data": {
                        "text/html": "(1 row affected)"
                    },
                    "metadata": {}
                },
                {
                    "output_type": "display_data",
                    "data": {
                        "text/html": "(1 row affected)"
                    },
                    "metadata": {}
                },
                {
                    "output_type": "display_data",
                    "data": {
                        "text/html": "(1 row affected)"
                    },
                    "metadata": {}
                },
                {
                    "output_type": "display_data",
                    "data": {
                        "text/html": "(1 row affected)"
                    },
                    "metadata": {}
                },
                {
                    "output_type": "display_data",
                    "data": {
                        "text/html": "(1 row affected)"
                    },
                    "metadata": {}
                },
                {
                    "output_type": "display_data",
                    "data": {
                        "text/html": "(1 row affected)"
                    },
                    "metadata": {}
                },
                {
                    "output_type": "display_data",
                    "data": {
                        "text/html": "(1 row affected)"
                    },
                    "metadata": {}
                },
                {
                    "output_type": "display_data",
                    "data": {
                        "text/html": "(1 row affected)"
                    },
                    "metadata": {}
                },
                {
                    "output_type": "display_data",
                    "data": {
                        "text/html": "(1 row affected)"
                    },
                    "metadata": {}
                },
                {
                    "output_type": "display_data",
                    "data": {
                        "text/html": "(1 row affected)"
                    },
                    "metadata": {}
                },
                {
                    "output_type": "display_data",
                    "data": {
                        "text/html": "(1 row affected)"
                    },
                    "metadata": {}
                },
                {
                    "output_type": "display_data",
                    "data": {
                        "text/html": "(1 row affected)"
                    },
                    "metadata": {}
                },
                {
                    "output_type": "display_data",
                    "data": {
                        "text/html": "(1 row affected)"
                    },
                    "metadata": {}
                },
                {
                    "output_type": "display_data",
                    "data": {
                        "text/html": "(1 row affected)"
                    },
                    "metadata": {}
                },
                {
                    "output_type": "display_data",
                    "data": {
                        "text/html": "(1 row affected)"
                    },
                    "metadata": {}
                },
                {
                    "output_type": "display_data",
                    "data": {
                        "text/html": "(1 row affected)"
                    },
                    "metadata": {}
                },
                {
                    "output_type": "display_data",
                    "data": {
                        "text/html": "Total execution time: 00:00:00.189"
                    },
                    "metadata": {}
                }
            ],
            "execution_count": 22
        }
    ]
}